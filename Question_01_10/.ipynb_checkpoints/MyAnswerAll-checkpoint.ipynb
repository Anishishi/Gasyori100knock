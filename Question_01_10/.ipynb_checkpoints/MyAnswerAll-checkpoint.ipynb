{
 "cells": [
  {
   "cell_type": "code",
   "execution_count": 1,
   "metadata": {},
   "outputs": [],
   "source": [
    "import cv2\n",
    "import numpy as np"
   ]
  },
  {
   "cell_type": "code",
   "execution_count": 2,
   "metadata": {},
   "outputs": [
    {
     "data": {
      "text/plain": [
       "True"
      ]
     },
     "execution_count": 2,
     "metadata": {},
     "output_type": "execute_result"
    }
   ],
   "source": [
    "img = cv2.imread(\"imori.jpg\")\n",
    "ans1 = img.copy()\n",
    "ans1[:,:,2]=img[:,:,0]\n",
    "ans1[:,:,0]=img[:,:,2]\n",
    "cv2.imwrite(\"ans1.jpg\",ans1)"
   ]
  },
  {
   "cell_type": "code",
   "execution_count": 3,
   "metadata": {},
   "outputs": [],
   "source": [
    "def BGR2GRAY(img):\n",
    "    return 0.2126*img[:,:,2]+0.7152*img[:,:,1]+0.0722*img[:,:,0]"
   ]
  },
  {
   "cell_type": "code",
   "execution_count": 4,
   "metadata": {},
   "outputs": [
    {
     "data": {
      "text/plain": [
       "True"
      ]
     },
     "execution_count": 4,
     "metadata": {},
     "output_type": "execute_result"
    }
   ],
   "source": [
    "grayscale = 0.2126*img[:,:,2]+0.7152*img[:,:,1]+0.0722*img[:,:,0]\n",
    "cv2.imwrite(\"ans2.jpg\",grayscale)"
   ]
  },
  {
   "cell_type": "code",
   "execution_count": 5,
   "metadata": {},
   "outputs": [],
   "source": [
    "def binarization(img,th=128):\n",
    "    img[img<128]=0\n",
    "    img[img>=128]=255\n",
    "    return img"
   ]
  },
  {
   "cell_type": "code",
   "execution_count": 6,
   "metadata": {},
   "outputs": [
    {
     "data": {
      "text/plain": [
       "True"
      ]
     },
     "execution_count": 6,
     "metadata": {},
     "output_type": "execute_result"
    }
   ],
   "source": [
    "H,W=grayscale.shape\n",
    "ans3=grayscale.copy()\n",
    "for h in range(H):\n",
    "    for w in range(W):\n",
    "        if grayscale[h][w]<128:\n",
    "            ans3[h][w]=0\n",
    "        else:\n",
    "            ans3[h][w]=255\n",
    "cv2.imwrite(\"ans3.jpg\",ans3)"
   ]
  },
  {
   "cell_type": "code",
   "execution_count": 7,
   "metadata": {},
   "outputs": [],
   "source": [
    "def otsu_binarization(img):\n",
    "    Mt=img.mean()\n",
    "    totalsize=img.size\n",
    "    presb2=-100000\n",
    "    th = 0\n",
    "    for t in range(1,256):\n",
    "        M0=0;M1=0;\n",
    "        c0=img[img<t]\n",
    "        c1=img[img>=t]\n",
    "        w0=c0.size/totalsize\n",
    "        w1=c1.size/totalsize\n",
    "        M0=c0.mean() if w0 > 0 else 0.\n",
    "        M1=c1.mean() if w1 > 0 else 0.\n",
    "        sb2=w0*w1*((M0-M1)**2)\n",
    "        if sb2 > presb2:\n",
    "            th = t\n",
    "            presb2 = sb2\n",
    "    print(th)\n",
    "    return binarization(img,th)"
   ]
  },
  {
   "cell_type": "code",
   "execution_count": 8,
   "metadata": {},
   "outputs": [
    {
     "name": "stdout",
     "output_type": "stream",
     "text": [
      "127\n"
     ]
    },
    {
     "data": {
      "text/plain": [
       "True"
      ]
     },
     "execution_count": 8,
     "metadata": {},
     "output_type": "execute_result"
    }
   ],
   "source": [
    "ans4=img.copy()\n",
    "ans4=BGR2GRAY(ans4)\n",
    "ans4=otsu_binarization(ans4)\n",
    "cv2.imwrite(\"ans4.jpg\",ans4)"
   ]
  },
  {
   "cell_type": "code",
   "execution_count": 22,
   "metadata": {},
   "outputs": [],
   "source": [
    "def BGR2HSV(source):\n",
    "    img = source.copy()/255.\n",
    "    hsv=np.zeros_like(img,dtype=np.float32)\n",
    "    \n",
    "    max_v = np.max(img,axis=2).copy()#img[i][j][ここを変数として]それぞれにおけるimg[i][j]の最大値を求める\n",
    "    min_v = np.min(img,axis=2).copy()\n",
    "    min_arg = np.argmin(img, axis=2)\n",
    "    \n",
    "    #H\n",
    "    hsv[...,0][np.where(max_v==min_v)]=0 #:,:,:などと書いても同義\n",
    "    ind = np.where(min_arg==0) #if min==B\n",
    "    hsv[...,0][ind]=60*(img[...,1][ind]-img[...,2][ind])/(max_v[ind]-min_v[ind])+60\n",
    "    ind = np.where(min_arg==2) #if min==R\n",
    "    hsv[...,0][ind]=60*(img[...,0][ind]-img[...,1][ind])/(max_v[ind]-min_v[ind])+180\n",
    "    ind = np.where(min_arg==1) #if min==G\n",
    "    hsv[...,0][ind]=60*(img[...,2][ind]-img[...,0][ind])/(max_v[ind]-min_v[ind])+300\n",
    "    \n",
    "    #V\n",
    "    hsv[...,2]=max_v.copy()\n",
    "    \n",
    "    #S\n",
    "    hsv[...,1]=max_v.copy()-min_v.copy()\n",
    "    \n",
    "    return hsv\n",
    "\n",
    "def HSV2BGR(source):\n",
    "    hsv = source.copy()\n",
    "    bgr=np.zeros_like(img,dtype=np.float32)\n",
    "    \n",
    "    C=hsv[...,1]\n",
    "    H=hsv[...,0]/60.\n",
    "    X=C*(1-abs(H%2-1))\n",
    "    Z=np.zeros_like(X)\n",
    "    vals=[[C,X,Z],[X,C,Z],[Z,C,X],[Z,X,C],[X,Z,C],[C,Z,X]]\n",
    "    for i in range(3):\n",
    "        bgr[...,i]=hsv[...,2]-C\n",
    "    \n",
    "    for i in range(6):\n",
    "        ind = np.where((i<=H) & (H<(i+1)))\n",
    "        bgr[...,2][ind]+=vals[i][0][ind]\n",
    "        bgr[...,1][ind]+=vals[i][1][ind]\n",
    "        bgr[...,0][ind]+=vals[i][2][ind]\n",
    "    bgr = np.clip(bgr,0,1)\n",
    "    bgr = (bgr*255).astype(np.uint8)\n",
    "    \n",
    "    return bgr"
   ]
  },
  {
   "cell_type": "code",
   "execution_count": 23,
   "metadata": {},
   "outputs": [
    {
     "data": {
      "text/plain": [
       "True"
      ]
     },
     "execution_count": 23,
     "metadata": {},
     "output_type": "execute_result"
    }
   ],
   "source": [
    "ans5_0=cv2.imread(\"imori.jpg\").astype(np.float32)\n",
    "ans5_0=img.copy()\n",
    "processed=BGR2HSV(ans5_0)\n",
    "processed[...,0]=(processed[...,0]+180)%360#色相Hを反転\n",
    "processed=HSV2BGR(processed)\n",
    "cv2.imwrite(\"ans5.jpg\",processed)"
   ]
  },
  {
   "cell_type": "code",
   "execution_count": 30,
   "metadata": {},
   "outputs": [],
   "source": [
    "def downgrade(img):\n",
    "    output=np.zeros_like(img)\n",
    "    val=32\n",
    "    lim1=0;lim2=64\n",
    "    for i in range(4): \n",
    "        ind=np.where((lim1<=img) & (img<lim2))\n",
    "        output[ind]=val\n",
    "        val+=64;lim1+=64;lim2+=64\n",
    "    \n",
    "    return output"
   ]
  },
  {
   "cell_type": "code",
   "execution_count": 31,
   "metadata": {},
   "outputs": [
    {
     "data": {
      "text/plain": [
       "True"
      ]
     },
     "execution_count": 31,
     "metadata": {},
     "output_type": "execute_result"
    }
   ],
   "source": [
    "ans6=img.copy()\n",
    "ans6=downgrade(ans6)\n",
    "cv2.imwrite(\"ans6.jpg\",ans6)"
   ]
  },
  {
   "cell_type": "code",
   "execution_count": 36,
   "metadata": {},
   "outputs": [],
   "source": [
    "def pooling_by_mean(img):\n",
    "    H,W,C=img.shape\n",
    "    output=np.zeros_like(img)\n",
    "    for c in range(C):\n",
    "        for h in range(int(H/8)):\n",
    "            for w in range(int(W/8)):\n",
    "                tile=img[h*8:h*8+8,w*8:w*8+8,c]\n",
    "                val=np.mean(tile)\n",
    "                output[h*8:h*8+8,w*8:w*8+8,c]=val\n",
    "                \n",
    "    return output"
   ]
  },
  {
   "cell_type": "code",
   "execution_count": 37,
   "metadata": {},
   "outputs": [
    {
     "data": {
      "text/plain": [
       "True"
      ]
     },
     "execution_count": 37,
     "metadata": {},
     "output_type": "execute_result"
    }
   ],
   "source": [
    "ans7=img.copy()\n",
    "cv2.imwrite(\"ans7.jpg\",pooling_by_mean(ans7))"
   ]
  },
  {
   "cell_type": "code",
   "execution_count": 38,
   "metadata": {},
   "outputs": [],
   "source": [
    "def pooling_by_max(img):\n",
    "    H,W,C=img.shape\n",
    "    output=np.zeros_like(img)\n",
    "    for c in range(C):\n",
    "        for h in range(int(H/8)):\n",
    "            for w in range(int(W/8)):\n",
    "                tile=img[h*8:h*8+8,w*8:w*8+8,c]\n",
    "                val=np.max(tile)\n",
    "                output[h*8:h*8+8,w*8:w*8+8,c]=val\n",
    "                \n",
    "    return output"
   ]
  },
  {
   "cell_type": "code",
   "execution_count": 40,
   "metadata": {},
   "outputs": [
    {
     "data": {
      "text/plain": [
       "True"
      ]
     },
     "execution_count": 40,
     "metadata": {},
     "output_type": "execute_result"
    }
   ],
   "source": [
    "ans8=img.copy()\n",
    "cv2.imwrite(\"ans8.jpg\",pooling_by_max(ans8))"
   ]
  },
  {
   "cell_type": "code",
   "execution_count": 67,
   "metadata": {},
   "outputs": [],
   "source": [
    "def GaussianFunc(x,y,s):\n",
    "    return np.exp(-(x*x+y*y)/(2*s*s))/(2*np.pi*s*s)\n",
    "\n",
    "def GaussianFilter(img, gamma=1.3, K_size=3):\n",
    "    H,W,C=img.shape\n",
    "    pad = K_size//2\n",
    "    \n",
    "    #Zeor padding\n",
    "    output = np.zeros((H+pad*2, W+pad*2, C), dtype=np.float)\n",
    "    output[pad:pad+H, pad:pad+W] = img.copy().astype(np.float)\n",
    "    \n",
    "    #prepare Kernel\n",
    "    K=np.zeros((K_size, K_size),dtype=np.float)\n",
    "    for h in range(K_size):\n",
    "        for w in range(K_size):\n",
    "            K[h,w]=GaussianFunc(h-pad,w-pad,gamma)\n",
    "    K/=K.sum()\n",
    "    \n",
    "    tmp=output.copy()\n",
    "    for h in range(H):\n",
    "        for w in range(W):\n",
    "            for c in range(C):\n",
    "                output[h+pad,w+pad,c]=np.sum(tmp[h:h+K_size,w:w+K_size,c]*K)\n",
    "                \n",
    "    return output[pad:H+pad,pad:W+pad]"
   ]
  },
  {
   "cell_type": "code",
   "execution_count": 68,
   "metadata": {},
   "outputs": [
    {
     "data": {
      "text/plain": [
       "True"
      ]
     },
     "execution_count": 68,
     "metadata": {},
     "output_type": "execute_result"
    }
   ],
   "source": [
    "noise_img=cv2.imread(\"imori_noise.jpg\")\n",
    "ans9=noise_img.copy()\n",
    "ans9=GaussianFilter(ans9)\n",
    "cv2.imwrite(\"ans9.jpg\",ans9)"
   ]
  },
  {
   "cell_type": "code",
   "execution_count": 72,
   "metadata": {},
   "outputs": [],
   "source": [
    "def MedianFilter(img, K_size=3):\n",
    "    H,W,C=img.shape\n",
    "    pad = K_size//2\n",
    "    \n",
    "    #Zeor padding\n",
    "    output = np.zeros((H+pad*2, W+pad*2, C), dtype=np.float)\n",
    "    output[pad:pad+H, pad:pad+W] = img.copy().astype(np.float)\n",
    "    \n",
    "    tmp=output.copy()\n",
    "    for h in range(H):\n",
    "        for w in range(W):\n",
    "            for c in range(C):\n",
    "                output[h+pad,w+pad,c]=np.median(tmp[h:h+K_size,w:w+K_size,c])\n",
    "                \n",
    "    return output[:H+1,1:W+1]"
   ]
  },
  {
   "cell_type": "code",
   "execution_count": 73,
   "metadata": {},
   "outputs": [
    {
     "data": {
      "text/plain": [
       "True"
      ]
     },
     "execution_count": 73,
     "metadata": {},
     "output_type": "execute_result"
    }
   ],
   "source": [
    "ans10=noise_img.copy()\n",
    "ans10=MedianFilter(ans10)\n",
    "cv2.imwrite(\"ans10.jpg\",ans10)"
   ]
  }
 ],
 "metadata": {
  "kernelspec": {
   "display_name": "Python 3",
   "language": "python",
   "name": "python3"
  },
  "language_info": {
   "codemirror_mode": {
    "name": "ipython",
    "version": 3
   },
   "file_extension": ".py",
   "mimetype": "text/x-python",
   "name": "python",
   "nbconvert_exporter": "python",
   "pygments_lexer": "ipython3",
   "version": "3.7.6"
  }
 },
 "nbformat": 4,
 "nbformat_minor": 2
}
