{
 "cells": [
  {
   "cell_type": "code",
   "execution_count": 62,
   "metadata": {},
   "outputs": [],
   "source": [
    "import numpy as np\n",
    "import cv2\n",
    "import matplotlib.pyplot as plt"
   ]
  },
  {
   "cell_type": "code",
   "execution_count": 63,
   "metadata": {},
   "outputs": [],
   "source": [
    "img=cv2.imread(\"imori.jpg\").copy()"
   ]
  },
  {
   "cell_type": "code",
   "execution_count": 64,
   "metadata": {},
   "outputs": [],
   "source": [
    "def Save(img,name):\n",
    "    if cv2.imwrite(f\"{name}.jpg\",img):\n",
    "        print(\"True\")\n",
    "        \n",
    "def showhist(img,s):\n",
    "    out=img.copy()\n",
    "    plt.hist(out.ravel(),bins=255,range=(0,255),rwidth=0.8)\n",
    "    plt.xlabel(\"value\")\n",
    "    plt.ylabel(\"nums\")\n",
    "    plt.savefig(f'{s}.png')\n",
    "    plt.show()"
   ]
  },
  {
   "cell_type": "code",
   "execution_count": 34,
   "metadata": {},
   "outputs": [],
   "source": [
    "def Affine_sharing(img,dx=0.,dy=0.):\n",
    "    H,W,C=img.shape\n",
    "    H_new=H+int(dy)\n",
    "    W_new=W+int(dx)\n",
    "    x=np.arange(W_new)\n",
    "    y=np.arange(H_new)\n",
    "    a=1.\n",
    "    b=dx/H\n",
    "    c=dy/W\n",
    "    d=1.\n",
    "    ab_cd=a*d-b*c\n",
    "    xout,yout=np.meshgrid(x,y)\n",
    "    \n",
    "    xin=(d*xout-b*yout)/ab_cd\n",
    "    yin=(-c*xout+a*yout)/ab_cd\n",
    "    \n",
    "    out=np.zeros((H_new,W_new,C))\n",
    "    ind=np.where((xin<W)&(xin>=0)&(yin<H)&(yin>=0))\n",
    "    tmp=img.copy()\n",
    "    out[ind]=tmp[yin[ind].astype(np.int),xin[ind].astype(np.int)]\n",
    "    \n",
    "    out=out.astype(np.uint8)\n",
    "    return out"
   ]
  },
  {
   "cell_type": "code",
   "execution_count": 35,
   "metadata": {},
   "outputs": [
    {
     "name": "stdout",
     "output_type": "stream",
     "text": [
      "True\n",
      "True\n",
      "True\n"
     ]
    }
   ],
   "source": [
    "ans1=img.copy()\n",
    "ans1_1=Affine_sharing(ans1,dx=30)\n",
    "Save(ans1_1,\"ans1_1\")\n",
    "ans1_2=Affine_sharing(ans1,dy=30)\n",
    "Save(ans1_2,\"ans1_2\")\n",
    "ans1_3=Affine_sharing(ans1,dx=30,dy=30)\n",
    "Save(ans1_3,\"ans1_3\")"
   ]
  },
  {
   "cell_type": "code",
   "execution_count": 118,
   "metadata": {},
   "outputs": [],
   "source": [
    "def DFT(img):\n",
    "    H,W,C=img.shape\n",
    "    G=np.zeros_like(img,dtype=np.complex)\n",
    "    indx=np.arange(W)\n",
    "    indy=np.arange(H)\n",
    "    x,y=np.meshgrid(indx,indy)\n",
    "    \n",
    "    for c in range(C):\n",
    "        for k in range(W):\n",
    "            for l in range(H):\n",
    "                G[l,k,c]=np.sum(img[...,c]*np.exp(-2j*np.pi*(k*x/W+l*y/H)))\n",
    "    G/=np.sqrt(H*W)\n",
    "    \n",
    "    return G\n",
    "\n",
    "def IDFT(G):\n",
    "    H,W,C=G.shape\n",
    "    out=np.zeros_like(G,dtype=np.float32)\n",
    "    indx=np.arange(W)\n",
    "    indy=np.arange(H)\n",
    "    k,l=np.meshgrid(indx,indy)\n",
    "    \n",
    "    for c in range(C):\n",
    "        for  x in range(W):\n",
    "            for y in range(H):\n",
    "                out[y,x,c]=np.abs(np.sum(G[...,c]*np.exp(2j*np.pi*(k*x/W+l*y/H))))\n",
    "    out/=H*W\n",
    "    \n",
    "    return out"
   ]
  },
  {
   "cell_type": "code",
   "execution_count": 119,
   "metadata": {},
   "outputs": [
    {
     "data": {
      "image/png": "[encoded data removed]",
      "text/plain": [
       "<Figure size 432x288 with 1 Axes>"
      ]
     },
     "metadata": {
      "needs_background": "light"
     },
     "output_type": "display_data"
    },
    {
     "name": "stdout",
     "output_type": "stream",
     "text": [
      "True\n"
     ]
    }
   ],
   "source": [
    "ans2=img.copy()\n",
    "G=DFT(ans2.copy())\n",
    "ps=(np.abs(G)/np.abs(G).max()*255).astype(np.uint8)\n",
    "showhist(ps,\"ans2pshist\")\n",
    "Save(ps,\"ans2psimg\")"
   ]
  },
  {
   "cell_type": "code",
   "execution_count": 120,
   "metadata": {},
   "outputs": [
    {
     "name": "stdout",
     "output_type": "stream",
     "text": [
      "True\n"
     ]
    }
   ],
   "source": [
    "ans2original=IDFT(G)\n",
    "ans2original=(np.abs(ans2original)/np.abs(ans2original).max()*255).astype(np.uint8)\n",
    "Save(ans2original,\"ans2original\")"
   ]
  },
  {
   "cell_type": "code",
   "execution_count": 121,
   "metadata": {},
   "outputs": [],
   "source": [
    "def LowpassFilter(img):\n",
    "    pass"
   ]
  },
  {
   "cell_type": "code",
   "execution_count": null,
   "metadata": {},
   "outputs": [],
   "source": []
  }
 ],
 "metadata": {
  "kernelspec": {
   "display_name": "Python 3",
   "language": "python",
   "name": "python3"
  },
  "language_info": {
   "codemirror_mode": {
    "name": "ipython",
    "version": 3
   },
   "file_extension": ".py",
   "mimetype": "text/x-python",
   "name": "python",
   "nbconvert_exporter": "python",
   "pygments_lexer": "ipython3",
   "version": "3.7.6"
  }
 },
 "nbformat": 4,
 "nbformat_minor": 2
}
