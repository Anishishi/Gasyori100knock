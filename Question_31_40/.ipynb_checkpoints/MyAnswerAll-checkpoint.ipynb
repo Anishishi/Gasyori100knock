{
 "cells": [
  {
   "cell_type": "code",
   "execution_count": 1,
   "metadata": {},
   "outputs": [],
   "source": [
    "import numpy as np\n",
    "import cv2\n",
    "import matplotlib.pyplot as plt\n",
    "\n",
    "img=cv2.imread(\"imori.jpg\").astype(np.float32)\n",
    "grayimg=cv2.imread(\"imori_gray.jpg\").copy()\n",
    "\n",
    "def Save(img,name):\n",
    "    if cv2.imwrite(f\"{name}.jpg\",img):\n",
    "        print(\"True\")\n",
    "        \n",
    "def showhist(img,s):\n",
    "    out=img.copy()\n",
    "    plt.hist(out.ravel(),bins=255,range=(0,255),rwidth=0.8)\n",
    "    plt.xlabel(\"value\")\n",
    "    plt.ylabel(\"nums\")\n",
    "    plt.savefig(f'{s}.png')\n",
    "    plt.show()"
   ]
  },
  {
   "cell_type": "code",
   "execution_count": 4,
   "metadata": {},
   "outputs": [],
   "source": [
    "def Affine_sharing(img,dx=0.,dy=0.):\n",
    "    H,W,C=img.shape\n",
    "    H_new=H+int(dy)\n",
    "    W_new=W+int(dx)\n",
    "    x=np.arange(W_new)\n",
    "    y=np.arange(H_new)\n",
    "    a=1.\n",
    "    b=dx/H\n",
    "    c=dy/W\n",
    "    d=1.\n",
    "    ab_cd=a*d-b*c\n",
    "    xout,yout=np.meshgrid(x,y)\n",
    "    \n",
    "    xin=(d*xout-b*yout)/ab_cd\n",
    "    yin=(-c*xout+a*yout)/ab_cd\n",
    "    \n",
    "    out=np.zeros((H_new,W_new,C))\n",
    "    ind=np.where((xin<W)&(xin>=0)&(yin<H)&(yin>=0))\n",
    "    tmp=img.copy()\n",
    "    out[ind]=tmp[yin[ind].astype(np.int),xin[ind].astype(np.int)]\n",
    "    \n",
    "    out=out.astype(np.uint8)\n",
    "    return out"
   ]
  },
  {
   "cell_type": "code",
   "execution_count": 5,
   "metadata": {},
   "outputs": [
    {
     "name": "stdout",
     "output_type": "stream",
     "text": [
      "True\n",
      "True\n",
      "True\n"
     ]
    }
   ],
   "source": [
    "ans1=img.copy()\n",
    "ans1_1=Affine_sharing(ans1,dx=30)\n",
    "Save(ans1_1,\"ans1_1\")\n",
    "ans1_2=Affine_sharing(ans1,dy=30)\n",
    "Save(ans1_2,\"ans1_2\")\n",
    "ans1_3=Affine_sharing(ans1,dx=30,dy=30)\n",
    "Save(ans1_3,\"ans1_3\")"
   ]
  },
  {
   "cell_type": "code",
   "execution_count": 2,
   "metadata": {},
   "outputs": [],
   "source": [
    "def DFT(img):\n",
    "    H,W,C=img.shape\n",
    "    G=np.zeros_like(img,dtype=np.complex)\n",
    "    indx=np.arange(W)\n",
    "    indy=np.arange(H)\n",
    "    x,y=np.meshgrid(indx,indy)\n",
    "    \n",
    "    for c in range(C):\n",
    "        for k in range(W):\n",
    "            for l in range(H):\n",
    "                G[l,k,c]=np.sum(img[...,c]*np.exp(-2j*np.pi*(k*x/W+l*y/H)))\n",
    "    G/=np.sqrt(H*W)\n",
    "    \n",
    "    return G\n",
    "\n",
    "def IDFT(G):\n",
    "    H,W,C=G.shape\n",
    "    out=np.zeros_like(G,dtype=np.float32)\n",
    "    indx=np.arange(W)\n",
    "    indy=np.arange(H)\n",
    "    k,l=np.meshgrid(indx,indy)\n",
    "    \n",
    "    for c in range(C):\n",
    "        for  x in range(W):\n",
    "            for y in range(H):\n",
    "                out[y,x,c]=np.abs(np.sum(G[...,c]*np.exp(2j*np.pi*(k*x/W+l*y/H))))\n",
    "    out/=np.sqrt(H*W)\n",
    "    out = np.clip(out,0,255)\n",
    "    out = out.astype(np.uint8)\n",
    "    \n",
    "    return out"
   ]
  },
  {
   "cell_type": "code",
   "execution_count": 7,
   "metadata": {},
   "outputs": [
    {
     "data": {
      "image/png": "[encoded data removed]",
      "text/plain": [
       "<Figure size 432x288 with 1 Axes>"
      ]
     },
     "metadata": {
      "needs_background": "light"
     },
     "output_type": "display_data"
    },
    {
     "name": "stdout",
     "output_type": "stream",
     "text": [
      "True\n"
     ]
    }
   ],
   "source": [
    "ans2=img.copy()\n",
    "G=DFT(ans2.copy())\n",
    "ps=(np.abs(G)/np.abs(G).max()*255).astype(np.uint8)\n",
    "showhist(ps,\"ans2pshist\")\n",
    "Save(ps,\"ans2psimg\")"
   ]
  },
  {
   "cell_type": "code",
   "execution_count": 8,
   "metadata": {},
   "outputs": [
    {
     "name": "stdout",
     "output_type": "stream",
     "text": [
      "True\n"
     ]
    }
   ],
   "source": [
    "ans2original=IDFT(G)\n",
    "ans2original=(np.abs(ans2original)/np.abs(ans2original).max()*255).astype(np.uint8)\n",
    "Save(ans2original,\"ans2original\")"
   ]
  },
  {
   "cell_type": "code",
   "execution_count": 9,
   "metadata": {},
   "outputs": [],
   "source": [
    "def LowpassFilter(G,ratio=0.5):\n",
    "    H,W,C = G.shape\n",
    "    h_2=H//2\n",
    "    w_2=W//2\n",
    "    \n",
    "    G_transformed=np.zeros_like(G,dtype=np.complex)\n",
    "    G_transformed[:h_2,:w_2]=G[h_2:,w_2:]\n",
    "    G_transformed[:h_2,w_2:]=G[h_2:,:w_2]\n",
    "    G_transformed[h_2:,:w_2]=G[:h_2, w_2:]\n",
    "    G_transformed[h_2:,w_2:]=G[:h_2,:w_2]\n",
    "    \n",
    "    x_=np.arange(W)\n",
    "    y_=np.arange(H)\n",
    "    xx,yy=np.meshgrid(x_,y_)\n",
    "    x=xx-w_2\n",
    "    y=yy-h_2\n",
    "    r=np.sqrt(x*x+y*y)\n",
    "    \n",
    "    r_ind=np.where(r > (ratio*w_2),True,False)\n",
    "    \n",
    "    G_transformed[r_ind]=0.\n",
    "    \n",
    "    output=np.zeros_like(G,dtype=np.complex)\n",
    "    output[:h_2,:w_2]=G_transformed[h_2:,w_2:]\n",
    "    output[:h_2,w_2:]=G_transformed[h_2:,:w_2]\n",
    "    output[h_2:,:w_2]=G_transformed[:h_2, w_2:]\n",
    "    output[h_2:,w_2:]=G_transformed[:h_2,:w_2]\n",
    "    \n",
    "    return output"
   ]
  },
  {
   "cell_type": "code",
   "execution_count": 10,
   "metadata": {},
   "outputs": [],
   "source": [
    "ans3=img.copy().astype(np.float32)\n",
    "G=DFT(ans3)"
   ]
  },
  {
   "cell_type": "code",
   "execution_count": 11,
   "metadata": {},
   "outputs": [
    {
     "name": "stdout",
     "output_type": "stream",
     "text": [
      "True\n"
     ]
    }
   ],
   "source": [
    "g_lpf=LowpassFilter(G)\n",
    "output=IDFT(g_lpf)\n",
    "Save(output,\"ans3\")"
   ]
  },
  {
   "cell_type": "code",
   "execution_count": 12,
   "metadata": {},
   "outputs": [],
   "source": [
    "def HighpassFilter(G,ratio=0.1):\n",
    "    H,W,_=G.shape\n",
    "    h_2=H//2\n",
    "    w_2=W//2\n",
    "    \n",
    "    G_transformed=np.zeros_like(G,dtype=np.complex)\n",
    "    G_transformed[:h_2,:w_2]=G[-h_2:,-w_2:]\n",
    "    G_transformed[:h_2,w_2:]=G[-h_2:,:-w_2]\n",
    "    G_transformed[h_2:,:w_2]=G[:-h_2, -w_2:]\n",
    "    G_transformed[h_2:,w_2:]=G[:-h_2,:-w_2]\n",
    "    \n",
    "    x=np.arange(W)\n",
    "    y=np.arange(H)\n",
    "    xx,yy=np.meshgrid(x,y)\n",
    "    x-=w_2\n",
    "    y-=h_2\n",
    "    r=np.sqrt(x**2+y**2)\n",
    "    \n",
    "    r_ind=np.where(r<(ratio*w_2),True,False)\n",
    "    \n",
    "    G_transformed[r_ind]=0.\n",
    "    \n",
    "    output=np.zeros_like(G,dtype=np.complex)\n",
    "    output[:h_2,:w_2]=G_transformed[-h_2:,-w_2:]\n",
    "    output[:h_2,w_2:]=G_transformed[-h_2:,:-w_2]\n",
    "    output[h_2:,:w_2]=G_transformed[:-h_2, -w_2:]\n",
    "    output[h_2:,w_2:]=G_transformed[:-h_2,:-w_2]\n",
    "    \n",
    "    return output"
   ]
  },
  {
   "cell_type": "code",
   "execution_count": 13,
   "metadata": {},
   "outputs": [],
   "source": [
    "ans4=img.copy()\n",
    "G=DFT(ans4)"
   ]
  },
  {
   "cell_type": "code",
   "execution_count": 14,
   "metadata": {},
   "outputs": [
    {
     "name": "stdout",
     "output_type": "stream",
     "text": [
      "True\n"
     ]
    }
   ],
   "source": [
    "g_hpf=HighpassFilter(G)\n",
    "output=IDFT(g_hpf)\n",
    "Save(output,\"ans4\")"
   ]
  },
  {
   "cell_type": "code",
   "execution_count": 23,
   "metadata": {},
   "outputs": [],
   "source": [
    "def BandpassFilter(G,ratio1=0.1,ratio2=0.5):\n",
    "    H,W,C = G.shape\n",
    "    h_2=H//2\n",
    "    w_2=W//2\n",
    "    \n",
    "    Gtransformed=np.zeros_like(G,dtype=np.complex)\n",
    "    Gtransformed[:h_2,:w_2]=G[h_2:,w_2:]\n",
    "    Gtransformed[:h_2,w_2:]=G[h_2:,:w_2]\n",
    "    Gtransformed[h_2:,:w_2]=G[:h_2,:w_2]\n",
    "    Gtransformed[h_2:,w_2:]=G[:h_2,:w_2]\n",
    "    \n",
    "    _x=np.arange(W)\n",
    "    _y=np.arange(H)\n",
    "    xx,yy=np.meshgrid(_x,_y)\n",
    "    x=xx-w_2\n",
    "    y=yy-h_2\n",
    "    r=np.sqrt(x**2+y**2)\n",
    "    \n",
    "    #the places made 0 by bandpassfilter\n",
    "    r_ind=np.where((r<(h_2*ratio1)) | (r>(h_2*ratio2)),True,False)\n",
    "    Gtransformed[r_ind]=0.\n",
    "    \n",
    "    output=np.zeros_like(G,dtype=np.complex)\n",
    "    output[:h_2,:w_2]=Gtransformed[h_2:,w_2:]\n",
    "    output[:h_2,w_2:]=Gtransformed[h_2:,:w_2]\n",
    "    output[h_2:,:w_2]=Gtransformed[:h_2,:w_2]\n",
    "    output[h_2:,w_2:]=Gtransformed[:h_2,:w_2]\n",
    "    \n",
    "    return output"
   ]
  },
  {
   "cell_type": "code",
   "execution_count": 17,
   "metadata": {},
   "outputs": [],
   "source": [
    "ans5=img.copy()\n",
    "G=DFT(ans5)"
   ]
  },
  {
   "cell_type": "code",
   "execution_count": 24,
   "metadata": {},
   "outputs": [
    {
     "name": "stdout",
     "output_type": "stream",
     "text": [
      "True\n"
     ]
    }
   ],
   "source": [
    "G_bandpass=BandpassFilter(G)\n",
    "output=IDFT(G_bandpass)\n",
    "Save(output,\"ans5\")"
   ]
  },
  {
   "cell_type": "code",
   "execution_count": 3,
   "metadata": {},
   "outputs": [],
   "source": [
    "def Cweight(u):\n",
    "    if u==0:\n",
    "        return 1./np.sqrt(2)\n",
    "    else:\n",
    "        return 1\n",
    "\n",
    "def DCT(img, T=8):#T is kernel size\n",
    "    H,W,C=img.shape\n",
    "    \n",
    "    F=np.zeros_like(img, dtype=np.float32)\n",
    "    for c in range(C):\n",
    "        for hcount in range(H//T):\n",
    "            for wcount in range(W//T):\n",
    "                for v in range(T):\n",
    "                    for u in range(T):\n",
    "                        F[v+hcount*T,u+wcount*T,c]=2/T*Cweight(u)*Cweight(v)\n",
    "                        tmp=0.\n",
    "                        for x in range(T):\n",
    "                            for y in range(T):\n",
    "                                tmp+=img[hcount*T+y,wcount*T+x,c]*np.cos(((2*x+1)*u*np.pi)/2./T)*np.cos(((2*y+1)*v*np.pi)/2./T)\n",
    "                                \n",
    "                        F[v+hcount*T,u+wcount*T,c]=F[v+hcount*T,u+wcount*T,c]*tmp\n",
    "                        \n",
    "    return F\n",
    "\n",
    "def IDCT(F,T=8,K=8):#T is kernel size. K is valid kernel size.\n",
    "    if K>T:\n",
    "        print(\"valid kernel size error.\")\n",
    "        return False\n",
    "    \n",
    "    H,W,C=F.shape\n",
    "    \n",
    "    output=np.zeros_like(F,dtype=np.float32)\n",
    "    for c in range(C):\n",
    "        for hcount in range(H//T):\n",
    "            for wcount in range(W//T):\n",
    "                for y in range(T):\n",
    "                    for x in range(T):\n",
    "                        output[y+hcount*T,x+wcount*T,c]=2./T\n",
    "                        tmp=0.\n",
    "                        for u in range(K):\n",
    "                            for v in range(K):\n",
    "                                tmp+=Cweight(u)*Cweight(v)*F[v+hcount*T,u+wcount*T,c]*np.cos(((2*x+1)*u*np.pi)/2./T)*np.cos(((2*y+1)*v*np.pi)/2./T)\n",
    "                        output[y+hcount*T,x+wcount*T,c]*=tmp\n",
    "                        \n",
    "    output = np.clip(output, 0, 255)\n",
    "    output = np.round(output).astype(np.uint8)\n",
    "    return output"
   ]
  },
  {
   "cell_type": "code",
   "execution_count": 23,
   "metadata": {},
   "outputs": [],
   "source": [
    "ans6=img.copy()\n",
    "dctimg=DCT(ans6)"
   ]
  },
  {
   "cell_type": "code",
   "execution_count": 29,
   "metadata": {},
   "outputs": [
    {
     "name": "stdout",
     "output_type": "stream",
     "text": [
      "True\n"
     ]
    }
   ],
   "source": [
    "output=IDCT(dctimg,K=8)\n",
    "Save(output,\"ans6\")"
   ]
  },
  {
   "cell_type": "code",
   "execution_count": 4,
   "metadata": {},
   "outputs": [],
   "source": [
    "def MSE(img1,img2):#mean squared error\n",
    "    H,W,C=img1.shape\n",
    "    mse = np.sum((img1-img2)**2)/(H*W*C)\n",
    "    return mse\n",
    "\n",
    "def PSNR(mse):#psnr is peak signal to noise ratio\n",
    "    v_max=255\n",
    "    psnr = 10 * np.log10(v_max**2 / mse)\n",
    "    return psnr\n",
    "\n",
    "def bitrate(K):#definition\n",
    "    return 8.*K**2/(8.**2)"
   ]
  },
  {
   "cell_type": "code",
   "execution_count": 34,
   "metadata": {},
   "outputs": [],
   "source": [
    "ans7=img.copy()\n",
    "dctimg7=DCT(ans7.copy())"
   ]
  },
  {
   "cell_type": "code",
   "execution_count": 40,
   "metadata": {},
   "outputs": [
    {
     "name": "stdout",
     "output_type": "stream",
     "text": [
      "True\n",
      "MSE : 112.7452392578125, PSNR : 27.609821483020657, BitRate : 2.0\n"
     ]
    }
   ],
   "source": [
    "k=4\n",
    "output=IDCT(dctimg7,K=k)\n",
    "Save(output, f\"ans7_k{k}\")\n",
    "mse=MSE(ans7, output)\n",
    "if mse!=0:\n",
    "    psnr=PSNR(mse)\n",
    "    br=bitrate(k)\n",
    "    print(f\"MSE : {mse}, PSNR : {psnr}, BitRate : {br}\")\n",
    "else:\n",
    "    print(\"two iamges are the same.\")"
   ]
  },
  {
   "cell_type": "code",
   "execution_count": 5,
   "metadata": {},
   "outputs": [],
   "source": [
    "def quantizetion(F):\n",
    "    T=8\n",
    "    Q = np.array(((16, 11, 10, 16, 24, 40, 51, 61),\n",
    "              (12, 12, 14, 19, 26, 58, 60, 55),\n",
    "              (14, 13, 16, 24, 40, 57, 69, 56),\n",
    "              (14, 17, 22, 29, 51, 87, 80, 62),\n",
    "              (18, 22, 37, 56, 68, 109, 103, 77),\n",
    "              (24, 35, 55, 64, 81, 104, 113, 92),\n",
    "              (49, 64, 78, 87, 103, 121, 120, 101),\n",
    "              (72, 92, 95, 98, 112, 100, 103, 99)), dtype=np.float32)\n",
    "    H,W,C=F.shape\n",
    "    \n",
    "    output=np.zeros_like(F,dtype=np.float32)\n",
    "    for h in range(0,H,T):\n",
    "        for w in range(0,W,T):\n",
    "            for c in range(C):\n",
    "                output[h:h+T,w:w+T,c]=np.round(F[h:h+T,w:w+T,c]/Q)*Q\n",
    "    \n",
    "    return output"
   ]
  },
  {
   "cell_type": "code",
   "execution_count": 54,
   "metadata": {},
   "outputs": [],
   "source": [
    "ans8=img.copy()\n",
    "dctimg8=DCT(ans8.copy())"
   ]
  },
  {
   "cell_type": "code",
   "execution_count": 56,
   "metadata": {},
   "outputs": [
    {
     "name": "stdout",
     "output_type": "stream",
     "text": [
      "True\n",
      "MSE : 56.94281005859375, PSNR : 30.57641465622339, BitRate : 8.0\n"
     ]
    }
   ],
   "source": [
    "k=8\n",
    "quanted=quantizetion(dctimg8)\n",
    "output=IDCT(quanted,K=k)\n",
    "Save(output, f\"ans8_k{k}\")\n",
    "mse=MSE(ans8, output)\n",
    "if mse!=0:\n",
    "    psnr=PSNR(mse)\n",
    "    br=bitrate(k)\n",
    "    print(f\"MSE : {mse}, PSNR : {psnr}, BitRate : {br}\")\n",
    "else:\n",
    "    print(\"two iamges are the same.\")"
   ]
  },
  {
   "cell_type": "code",
   "execution_count": 6,
   "metadata": {},
   "outputs": [],
   "source": [
    "def RGB2YCbCr(img):\n",
    "    output=np.zeros_like(img,dtype=np.float32)\n",
    "    \n",
    "    R=img[...,2]\n",
    "    G=img[...,1]\n",
    "    B=img[...,0]\n",
    "    \n",
    "    Y = 0.2990 * R + 0.5870 * G + 0.1140 * B\n",
    "    Cb = -0.1687 * R - 0.3313 * G + 0.5 * B + 128.\n",
    "    Cr = 0.5 * R - 0.4187 * G - 0.0813 * B + 128.\n",
    "    \n",
    "    output[...,2]=Y;output[...,1]=Cb;output[...,0]=Cr;\n",
    "    return output\n",
    "\n",
    "def YCbCr2RGB(img):\n",
    "    output=np.zeros_like(img,dtype=np.float32)\n",
    "    \n",
    "    Y=img[...,2]\n",
    "    Cb=img[...,1]\n",
    "    Cr=img[...,0]\n",
    "    \n",
    "    R = Y + (Cr - 128.) * 1.4020\n",
    "    G = Y - (Cb - 128.) * 0.3441 - (Cr - 128.) * 0.7139\n",
    "    B = Y + (Cb - 128.) * 1.7718\n",
    "    \n",
    "    output[...,2]=R;output[...,1]=G;output[...,0]=B;\n",
    "    output=np.clip(output,0,255)\n",
    "    output=output.astype(np.uint8)\n",
    "    \n",
    "    return output"
   ]
  },
  {
   "cell_type": "code",
   "execution_count": 13,
   "metadata": {},
   "outputs": [
    {
     "name": "stdout",
     "output_type": "stream",
     "text": [
      "True\n",
      "1741.0232747395833\n"
     ]
    }
   ],
   "source": [
    "ans9=img.copy()\n",
    "ycbcr_img=RGB2YCbCr(ans9)\n",
    "ycbcr_img[...,2]*=0.7\n",
    "output=YCbCr2RGB(ycbcr_img)\n",
    "output = np.clip(output, 0, 255)\n",
    "output = np.round(output).astype(np.uint8)\n",
    "Save(output,\"ans9\")\n",
    "print(MSE(ans9, output))"
   ]
  },
  {
   "cell_type": "code",
   "execution_count": 7,
   "metadata": {},
   "outputs": [],
   "source": [
    "def quantization_for_jpeg(F):\n",
    "    T=8\n",
    "    Q1 = np.array(((16, 11, 10, 16, 24, 40, 51, 61),\n",
    "               (12, 12, 14, 19, 26, 58, 60, 55),\n",
    "               (14, 13, 16, 24, 40, 57, 69, 56),\n",
    "               (14, 17, 22, 29, 51, 87, 80, 62),\n",
    "               (18, 22, 37, 56, 68, 109, 103, 77),\n",
    "               (24, 35, 55, 64, 81, 104, 113, 92),\n",
    "               (49, 64, 78, 87, 103, 121, 120, 101),\n",
    "               (72, 92, 95, 98, 112, 100, 103, 99)), dtype=np.float32)\n",
    "\n",
    "    Q2 = np.array(((17, 18, 24, 47, 99, 99, 99, 99),\n",
    "               (18, 21, 26, 66, 99, 99, 99, 99),\n",
    "               (24, 26, 56, 99, 99, 99, 99, 99),\n",
    "               (47, 66, 99, 99, 99, 99, 99, 99),\n",
    "               (99, 99, 99, 99, 99, 99, 99, 99),\n",
    "               (99, 99, 99, 99, 99, 99, 99, 99),\n",
    "               (99, 99, 99, 99, 99, 99, 99, 99),\n",
    "               (99, 99, 99, 99, 99, 99, 99, 99)), dtype=np.float32)\n",
    "    H,W,C=F.shape\n",
    "    \n",
    "    output=np.zeros_like(F,dtype=np.float32)\n",
    "    for h in range(0,H,T):\n",
    "        for w in range(0,W,T):\n",
    "            output[h:h+T,w:w+T,2]=np.round(F[h:h+T,w:w+T,2]/Q1)*Q1\n",
    "    for h in range(0,H,T):\n",
    "        for w in range(0,W,T):\n",
    "            for c in range(2):\n",
    "                output[h:h+T,w:w+T,c]=np.round(F[h:h+T,w:w+T,c]/Q2)*Q2\n",
    "    \n",
    "    return output\n",
    "\n",
    "def JPEG(img):\n",
    "    ycbcr=RGB2YCbCr(img)\n",
    "    F=DCT(ycbcr)\n",
    "    quanted=quantization_for_jpeg(F)\n",
    "    rgb=IDCT(quanted)#(ycbcr_dct_quanted)\n",
    "    processed_img=YCbCr2RGB(rgb)\n",
    "    \n",
    "    return processed_img"
   ]
  },
  {
   "cell_type": "code",
   "execution_count": 8,
   "metadata": {},
   "outputs": [
    {
     "name": "stdout",
     "output_type": "stream",
     "text": [
      "True\n",
      "MSE : 73.28336588541667, PSNR : 29.480749527204942, BitRate : 8.0\n"
     ]
    }
   ],
   "source": [
    "k=8\n",
    "ans10=img.copy()\n",
    "output=JPEG(ans10.copy())\n",
    "Save(output, f\"ans10jpeg_k{k}\")\n",
    "mse=MSE(ans10, output)\n",
    "if mse!=0:\n",
    "    psnr=PSNR(mse)\n",
    "    br=bitrate(k)\n",
    "    print(f\"MSE : {mse}, PSNR : {psnr}, BitRate : {br}\")\n",
    "else:\n",
    "    print(\"two iamges are the same.\")"
   ]
  }
 ],
 "metadata": {
  "kernelspec": {
   "display_name": "Python 3",
   "language": "python",
   "name": "python3"
  },
  "language_info": {
   "codemirror_mode": {
    "name": "ipython",
    "version": 3
   },
   "file_extension": ".py",
   "mimetype": "text/x-python",
   "name": "python",
   "nbconvert_exporter": "python",
   "pygments_lexer": "ipython3",
   "version": "3.7.6"
  }
 },
 "nbformat": 4,
 "nbformat_minor": 2
}
