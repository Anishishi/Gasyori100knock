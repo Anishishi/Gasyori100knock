{
 "cells": [
  {
   "cell_type": "code",
   "execution_count": 2,
   "metadata": {},
   "outputs": [],
   "source": [
    "import cv2\n",
    "import numpy as np"
   ]
  },
  {
   "cell_type": "code",
   "execution_count": 3,
   "metadata": {},
   "outputs": [],
   "source": [
    "img=cv2.imread(\"imori.jpg\")"
   ]
  },
  {
   "cell_type": "code",
   "execution_count": 12,
   "metadata": {},
   "outputs": [],
   "source": [
    "def MeanFilter(img, K_size=3):\n",
    "    H,W,C=img.shape\n",
    "    pad = K_size//2\n",
    "    output=np.zeros((H+pad*2,W+pad*2,C),dtype=np.float)\n",
    "    output[pad:pad+H,pad:pad+W]=img.copy().astype(np.float)\n",
    "    \n",
    "    tmp=output.copy()\n",
    "    for h in range(H):\n",
    "        for w in range(W):\n",
    "            for c in range(C):\n",
    "                output[pad+h,pad+w,c]=np.mean(tmp[h:h+K_size, w:w+K_size, c])\n",
    "    \n",
    "    return output[pad:pad+H,pad:pad+W]"
   ]
  },
  {
   "cell_type": "code",
   "execution_count": 13,
   "metadata": {},
   "outputs": [
    {
     "data": {
      "text/plain": [
       "True"
      ]
     },
     "execution_count": 13,
     "metadata": {},
     "output_type": "execute_result"
    }
   ],
   "source": [
    "ans1=img.copy()\n",
    "ans1=MeanFilter(ans1)\n",
    "cv2.imwrite(\"ans1.jpg\",ans1)"
   ]
  },
  {
   "cell_type": "code",
   "execution_count": 14,
   "metadata": {},
   "outputs": [],
   "source": [
    "def MotionFilter(img,K_size=3):\n",
    "    H,W,C=img.shape\n",
    "    pad=K_size//2\n",
    "    output=np.zeros((H+pad*2,W+pad*2,C),dtype=np.float)\n",
    "    output[pad:pad+H, pad:pad+W]=img.copy().astype(np.float)\n",
    "    \n",
    "    K=np.zeros((K_size,K_size),dtype=np.float)\n",
    "    for i in range(K_size):\n",
    "        K[i][i]=1/K_size\n",
    "    \n",
    "    tmp=output.copy()\n",
    "    for h in range(H):\n",
    "        for w in range(W):\n",
    "            for c in range(C):\n",
    "                output[pad+h,pad+w,c]=np.sum(tmp[h:h+K_size,w:w+K_size,c]*K)\n",
    "                \n",
    "    return output[pad:pad+H, pad:pad+W]"
   ]
  },
  {
   "cell_type": "code",
   "execution_count": 17,
   "metadata": {},
   "outputs": [
    {
     "data": {
      "text/plain": [
       "True"
      ]
     },
     "execution_count": 17,
     "metadata": {},
     "output_type": "execute_result"
    }
   ],
   "source": [
    "ans2=img.copy()\n",
    "ans2=MotionFilter(ans2,3)\n",
    "cv2.imwrite(\"ans2.jpg\",ans2)"
   ]
  },
  {
   "cell_type": "code",
   "execution_count": 5,
   "metadata": {},
   "outputs": [],
   "source": [
    "def BGR2GRAY(img):\n",
    "    b=img[:,:,0].copy()\n",
    "    g=img[:,:,1].copy()\n",
    "    r=img[:,:,2].copy()\n",
    "    \n",
    "    out=0.2126*r+0.7152*g+0.0722*b\n",
    "    out=out.astype(np.uint8)\n",
    "    return out\n",
    "\n",
    "def max_min_filter(img,K_size=3):\n",
    "    if len(img.shape)==3:#for rgb\n",
    "        H,W,C=img.shape\n",
    "        \n",
    "        pad=K_size//2\n",
    "        out=np.zeros((pad*2+H,pad*2+W,C),dtype=np.float)\n",
    "        out[pad:pad+H,pad:pad+W]=img.copy().astype(np.float)\n",
    "        tmp=out.copy()\n",
    "        \n",
    "        for h in range(H):\n",
    "            for w in range(W):\n",
    "                for c in range(C):\n",
    "                    out[pad+h,pad+w,c]=np.max(tmp[h:h+K_size,w:w+K_size,c])-np.min(tmp[h:h+K_size,w:w+K_size,c])\n",
    "    else:#for gray\n",
    "        H,W=img.shape\n",
    "        pad=K_size//2\n",
    "        out=np.zeros((pad*2+H,pad*2+W),dtype=np.float)\n",
    "        out[pad:pad+H,pad:pad+W]=img.copy().astype(np.float)\n",
    "        tmp=out.copy()\n",
    "        \n",
    "        for h in range(H):\n",
    "            for w in range(W):\n",
    "                out[pad+h,pad+w]=np.max(tmp[h:h+K_size,w:w+K_size])-np.min(tmp[h:h+K_size,w:w+K_size])\n",
    "        \n",
    "                    \n",
    "    return out[pad:pad+H,pad:pad+W]"
   ]
  },
  {
   "cell_type": "code",
   "execution_count": 4,
   "metadata": {},
   "outputs": [
    {
     "data": {
      "text/plain": [
       "True"
      ]
     },
     "execution_count": 4,
     "metadata": {},
     "output_type": "execute_result"
    }
   ],
   "source": [
    "ans3=img.copy()\n",
    "ans3gray=BGR2GRAY(ans3)\n",
    "ans3gray=max_min_filter(ans3gray)\n",
    "cv2.imwrite(\"ans3gray.jpg\",ans3gray)"
   ]
  },
  {
   "cell_type": "code",
   "execution_count": 5,
   "metadata": {},
   "outputs": [
    {
     "data": {
      "text/plain": [
       "True"
      ]
     },
     "execution_count": 5,
     "metadata": {},
     "output_type": "execute_result"
    }
   ],
   "source": [
    "ans3rgb=ans3.copy()\n",
    "ans3rgb=max_min_filter(ans3rgb)\n",
    "cv2.imwrite(\"ans3rgb.jpg\",ans3rgb)"
   ]
  },
  {
   "cell_type": "code",
   "execution_count": 55,
   "metadata": {},
   "outputs": [],
   "source": [
    "def different_filter(gray,K_size=3,direction=0):#axis=0の時は縦方向の微分\n",
    "    H,W=gray.shape\n",
    "    pad=K_size//2\n",
    "    out=np.zeros((H+2*pad,W+2*pad),dtype=np.float)\n",
    "    out[pad:pad+H,pad:pad+W]=gray.copy().astype(np.float)\n",
    "    tmp=out.copy()\n",
    "    \n",
    "    K=[[[0.,-1,0.],[0.,1,0.],[0.,0.,0.]],[[0.,0.,0.],[-1,1,0.],[0.,0.,0.]]]\n",
    "    for h in range(H):\n",
    "        for w in range(W):\n",
    "            out[pad+h,pad+w]=np.sum((tmp[h:h+K_size,w:w+K_size])*K[direction])\n",
    "                \n",
    "    out=np.clip(out,0,255)\n",
    "    return out[pad:pad+H,pad:pad+W].astype(np.uint8)"
   ]
  },
  {
   "cell_type": "code",
   "execution_count": 56,
   "metadata": {},
   "outputs": [
    {
     "data": {
      "text/plain": [
       "True"
      ]
     },
     "execution_count": 56,
     "metadata": {},
     "output_type": "execute_result"
    }
   ],
   "source": [
    "ans4=BGR2GRAY(img.copy())\n",
    "ans4verti=different_filter(ans4.copy(),direction=0)\n",
    "ans4hori=different_filter(ans4.copy(),direction=1)\n",
    "cv2.imwrite(\"ans4verti.jpg\",ans4verti)\n",
    "cv2.imwrite(\"ans4hori.jpg\",ans4hori)"
   ]
  },
  {
   "cell_type": "code",
   "execution_count": 70,
   "metadata": {},
   "outputs": [],
   "source": [
    "#sobelフィルタは縦or横方向の微分とそれと直行する方向の平滑化を組み合わせたもの\n",
    "def sobelfilter(gray,K_size=3,direction=0):\n",
    "    H,W=gray.shape\n",
    "    pad=K_size//2\n",
    "    out=np.zeros((H+2*pad,W+2*pad),dtype=np.float)\n",
    "    out[pad:pad+H,pad:pad+W]=gray.copy().astype(np.float)\n",
    "    tmp=out.copy()\n",
    "    \n",
    "    K=[[[1,2,1],[0.,0.,0.],[-1,-2,-1]],[[1,0.,-1],[2,0.,-2],[1,0.,-1]]]\n",
    "    for h in range(H):\n",
    "        for w in range(W):\n",
    "            out[pad+h,pad+w]=np.sum((tmp[h:h+K_size,w:w+K_size])*K[direction])\n",
    "                \n",
    "    out=np.clip(out,0,255)\n",
    "    return out[pad:pad+H,pad:pad+W].astype(np.uint8)"
   ]
  },
  {
   "cell_type": "code",
   "execution_count": 71,
   "metadata": {},
   "outputs": [
    {
     "data": {
      "text/plain": [
       "True"
      ]
     },
     "execution_count": 71,
     "metadata": {},
     "output_type": "execute_result"
    }
   ],
   "source": [
    "ans5=BGR2GRAY(img.copy())\n",
    "ans5verti=sobelfilter(ans5.copy(),direction=0)\n",
    "ans5hori=sobelfilter(ans5.copy(),direction=1)\n",
    "cv2.imwrite(\"ans5verti.jpg\",ans5verti)\n",
    "cv2.imwrite(\"ans5hori.jpg\",ans5hori)"
   ]
  },
  {
   "cell_type": "code",
   "execution_count": 72,
   "metadata": {},
   "outputs": [],
   "source": [
    "def PrewittFilter(gray,K_size=3,direction=0):\n",
    "    H,W=gray.shape\n",
    "    pad=K_size//2\n",
    "    out=np.zeros((H+2*pad,W+2*pad),dtype=np.float)\n",
    "    out[pad:pad+H,pad:pad+W]=gray.copy().astype(np.float)\n",
    "    tmp=out.copy()\n",
    "    \n",
    "    K=[[[-1,-1,-1],[0.,0.,0.],[1,1,1]],[[-1,0.,1],[-1,0.,1],[-1,0.,1]]]\n",
    "    for h in range(H):\n",
    "        for w in range(W):\n",
    "            out[pad+h,pad+w]=np.sum((tmp[h:h+K_size,w:w+K_size])*K[direction])\n",
    "                \n",
    "    out=np.clip(out,0,255)\n",
    "    return out[pad:pad+H,pad:pad+W].astype(np.uint8)"
   ]
  },
  {
   "cell_type": "code",
   "execution_count": 73,
   "metadata": {},
   "outputs": [
    {
     "data": {
      "text/plain": [
       "True"
      ]
     },
     "execution_count": 73,
     "metadata": {},
     "output_type": "execute_result"
    }
   ],
   "source": [
    "ans6=BGR2GRAY(img.copy())\n",
    "ans6verti=PrewittFilter(ans6.copy(),direction=0)\n",
    "ans6hori=PrewittFilter(ans6.copy(),direction=1)\n",
    "cv2.imwrite(\"ans6verti.jpg\",ans6verti)\n",
    "cv2.imwrite(\"ans6hori.jpg\",ans6hori)"
   ]
  },
  {
   "cell_type": "code",
   "execution_count": 90,
   "metadata": {},
   "outputs": [],
   "source": [
    "def LaplacianFileter(gray,K_size=3,negaposi=0):\n",
    "    H,W=gray.shape\n",
    "    pad=K_size//2\n",
    "    out=np.zeros((H+2*pad,W+2*pad),dtype=np.float)\n",
    "    out[pad:pad+H,pad:pad+W]=gray.copy().astype(np.float)\n",
    "    tmp=out.copy()\n",
    "    \n",
    "    K=[[0.,1,0.],[1,-4,1],[0.,1,0.]]\n",
    "    for h in range(H):\n",
    "        for w in range(W):\n",
    "            out[pad+h,pad+w]=np.sum((tmp[h:h+K_size,w:w+K_size])*K)\n",
    "    if negaposi==0:           \n",
    "        out=np.clip(out,0,255)\n",
    "    else:\n",
    "        out[out<=-70]=0\n",
    "        out[out>70]=255\n",
    "        out=np.clip(out,0,255)\n",
    "        \n",
    "    return out[pad:pad+H,pad:pad+W].astype(np.uint8)"
   ]
  },
  {
   "cell_type": "code",
   "execution_count": 91,
   "metadata": {},
   "outputs": [
    {
     "data": {
      "text/plain": [
       "True"
      ]
     },
     "execution_count": 91,
     "metadata": {},
     "output_type": "execute_result"
    }
   ],
   "source": [
    "ans7=BGR2GRAY(img.copy())\n",
    "ans7plain=LaplacianFileter(ans7.copy())\n",
    "cv2.imwrite(\"ans7plain.jpg\",ans7plain)\n",
    "ans7negaposi=LaplacianFileter(ans7.copy(),negaposi=1)\n",
    "cv2.imwrite(\"ans7negaposi.jpg\",ans7negaposi)"
   ]
  },
  {
   "cell_type": "code",
   "execution_count": 98,
   "metadata": {},
   "outputs": [],
   "source": [
    "def EmbossFilter(gray,K_size=3):\n",
    "    H,W=gray.shape\n",
    "    pad=K_size//2\n",
    "    out=np.zeros((H+pad*2,W+pad*2),dtype=(np.float))\n",
    "    out[pad:pad+H,pad:pad+W]=gray.copy().astype(np.float)\n",
    "    tmp=out.copy()\n",
    "    \n",
    "    K=[[-2,-1,0.],[-1,1,1],[0.,1,2]]\n",
    "    for h in range(H):\n",
    "        for w in range(W):\n",
    "            out[pad+h,pad+w]=np.sum(K*tmp[h:h+K_size,w:w+K_size])\n",
    "            \n",
    "    out=np.clip(out,0,255)\n",
    "    \n",
    "    return out[pad:pad+H,pad:pad+W].astype(np.uint8)"
   ]
  },
  {
   "cell_type": "code",
   "execution_count": 99,
   "metadata": {},
   "outputs": [
    {
     "data": {
      "text/plain": [
       "True"
      ]
     },
     "execution_count": 99,
     "metadata": {},
     "output_type": "execute_result"
    }
   ],
   "source": [
    "ans8=BGR2GRAY(img.copy())\n",
    "ans8=EmbossFilter(ans8.copy())\n",
    "cv2.imwrite(\"ans8.jpg\",ans8)"
   ]
  },
  {
   "cell_type": "code",
   "execution_count": 10,
   "metadata": {},
   "outputs": [],
   "source": [
    "def LogFunc(x,y,sigma=3):\n",
    "    upper=(x*x+y*y-sigma*sigma)*np.exp(-(x*x+y*y))\n",
    "    lower=(2*np.pi*(sigma**6))*(2*sigma**2)\n",
    "    return upper/lower\n",
    "    \n",
    "def LoGFilter(gray,K_size=5,sigma=3):\n",
    "    H,W=gray.shape\n",
    "    pad=K_size//2\n",
    "    out=np.zeros((pad*2+H,pad*2+W),dtype=np.float)\n",
    "    out[pad:pad+H,pad:pad+W]=gray.copy().astype(np.float)\n",
    "    tmp=out.copy()\n",
    "    \n",
    "    K=np.zeros((K_size,K_size),dtype=np.float)\n",
    "    for h in range(K_size):\n",
    "        for w in range(K_size):\n",
    "            K[h,w]=LogFunc(h-pad,w-pad,sigma)\n",
    "    K/=K.sum()\n",
    "    \n",
    "    \n",
    "    for h in range(H):\n",
    "        for w in range(W):\n",
    "            out[pad+h,pad+w]=np.sum(tmp[h:h+K_size,w:w+K_size]*K)\n",
    "    out=np.clip(out,0,255)\n",
    "    return out[pad:pad+H,pad:pad+W].astype(np.uint8)"
   ]
  },
  {
   "cell_type": "code",
   "execution_count": 13,
   "metadata": {},
   "outputs": [
    {
     "data": {
      "text/plain": [
       "True"
      ]
     },
     "execution_count": 13,
     "metadata": {},
     "output_type": "execute_result"
    }
   ],
   "source": [
    "noise_img=cv2.imread(\"imori_noise.jpg\")\n",
    "ans9=noise_img.copy()\n",
    "ans9=BGR2GRAY(ans9.copy())\n",
    "ans9=LoGFilter(ans9.copy())\n",
    "cv2.imwrite(\"ans9.jpg\",ans9)"
   ]
  },
  {
   "cell_type": "code",
   "execution_count": 14,
   "metadata": {},
   "outputs": [],
   "source": [
    "import matplotlib.pyplot as plt"
   ]
  },
  {
   "cell_type": "code",
   "execution_count": 28,
   "metadata": {},
   "outputs": [
    {
     "data": {
      "image/png": "[encoded data removed]",
      "text/plain": [
       "<Figure size 432x288 with 1 Axes>"
      ]
     },
     "metadata": {
      "needs_background": "light"
     },
     "output_type": "display_data"
    }
   ],
   "source": [
    "dark_img=cv2.imread(\"imori_dark.jpg\").astype(np.float)\n",
    "plt.hist(dark_img.ravel(),bins=255,rwidth=0.8,range=(0,255))\n",
    "plt.savefig(\"ans10.png\")\n",
    "plt.show()"
   ]
  }
 ],
 "metadata": {
  "kernelspec": {
   "display_name": "Python 3",
   "language": "python",
   "name": "python3"
  },
  "language_info": {
   "codemirror_mode": {
    "name": "ipython",
    "version": 3
   },
   "file_extension": ".py",
   "mimetype": "text/x-python",
   "name": "python",
   "nbconvert_exporter": "python",
   "pygments_lexer": "ipython3",
   "version": "3.7.6"
  }
 },
 "nbformat": 4,
 "nbformat_minor": 2
}
