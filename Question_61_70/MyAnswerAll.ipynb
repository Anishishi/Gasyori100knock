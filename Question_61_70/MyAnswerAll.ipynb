{
 "cells": [
  {
   "cell_type": "code",
   "execution_count": 1,
   "metadata": {},
   "outputs": [],
   "source": [
    "import cv2\n",
    "import numpy as np"
   ]
  },
  {
   "cell_type": "code",
   "execution_count": 2,
   "metadata": {},
   "outputs": [],
   "source": [
    "renketsu=cv2.imread(\"./renketsu.png\")"
   ]
  },
  {
   "cell_type": "code",
   "execution_count": 3,
   "metadata": {},
   "outputs": [],
   "source": [
    "def connect_4(img):\n",
    "    H,W,C=img.shape\n",
    "    d=np.array([[0,1],[-1,1],[-1,0],[-1,-1],[0,-1],[1,-1],[1,0],[1,1]])\n",
    "    \n",
    "    t=np.zeros((H+2,W+2),dtype=np.int)\n",
    "    t[1:H+1,1:W+1][img[...,0]>0]=1\n",
    "    out=np.zeros((H,W,3),dtype=np.uint8)\n",
    "    \n",
    "    for h in range(1,H+1):\n",
    "        for w in range(1,W+1):\n",
    "            if t[h,w]<1:\n",
    "                continue\n",
    "                \n",
    "            x=[]\n",
    "            for i in range(8):\n",
    "                x.append(tuple(d[i]+np.array([h,w])))\n",
    "            S=(t[x[0]]-t[x[0]]*t[x[1]]*t[x[2]])+(t[x[2]]-t[x[2]]*t[x[3]]*t[x[4]])+\\\n",
    "                (t[x[4]]-t[x[4]]*t[x[5]]*t[x[6]])+(t[x[6]]-t[x[7]]*t[x[7]]*t[x[0]])\n",
    "            if S==0:\n",
    "                out[h-1,w-1]=(255,0,0)\n",
    "            elif S==1:\n",
    "                out[h-1,w-1]=(0,255,0)\n",
    "            elif S==2:\n",
    "                out[h-1,w-1]=(0,0,255)\n",
    "            elif S==3:\n",
    "                out[h-1,w-1]=(127,127,0)\n",
    "            elif S==4:\n",
    "                out[h-1,w-1]=(0,127,127)\n",
    "    return out"
   ]
  },
  {
   "cell_type": "code",
   "execution_count": 4,
   "metadata": {},
   "outputs": [
    {
     "data": {
      "text/plain": [
       "True"
      ]
     },
     "execution_count": 4,
     "metadata": {},
     "output_type": "execute_result"
    }
   ],
   "source": [
    "ans1=cv2.imread(\"./renketsu.png\")\n",
    "output=connect_4(ans1).astype(np.uint8)\n",
    "output=cv2.resize(output,(300,300))\n",
    "cv2.imwrite(\"ans1.jpg\",output)"
   ]
  },
  {
   "cell_type": "code",
   "execution_count": 5,
   "metadata": {},
   "outputs": [],
   "source": [
    "def connect_8(img):\n",
    "    H,W,C=img.shape\n",
    "    d=np.array([[0,1],[-1,1],[-1,0],[-1,-1],[0,-1],[1,-1],[1,0],[1,1]])\n",
    "    \n",
    "    _t=np.zeros((H+2,W+2),dtype=np.int)\n",
    "    t=np.zeros((H+2,W+2),dtype=np.int)\n",
    "    _t[1:H+1,1:W+1][img[...,0]>0]=1\n",
    "    t[1:H+1,1:W+1]=1-_t[1:H+1,1:W+1]\n",
    "    out=np.zeros((H,W,3),dtype=np.uint8)\n",
    "    \n",
    "    for h in range(1,H+1):\n",
    "        for w in range(1,W+1):\n",
    "            if t[h,w]>=1:\n",
    "                continue\n",
    "                \n",
    "            x=[]\n",
    "            for i in range(8):\n",
    "                x.append(tuple(d[i]+np.array([h,w])))\n",
    "            S=(t[x[0]]-t[x[0]]*t[x[1]]*t[x[2]])+(t[x[2]]-t[x[2]]*t[x[3]]*t[x[4]])+\\\n",
    "                (t[x[4]]-t[x[4]]*t[x[5]]*t[x[6]])+(t[x[6]]-t[x[7]]*t[x[7]]*t[x[0]])\n",
    "            if S==0:\n",
    "                out[h-1,w-1]=(255,0,0)\n",
    "            elif S==1:\n",
    "                out[h-1,w-1]=(0,255,0)\n",
    "            elif S==2:\n",
    "                out[h-1,w-1]=(0,0,255)\n",
    "            elif S==3:\n",
    "                out[h-1,w-1]=(127,127,0)\n",
    "            elif S==4:\n",
    "                out[h-1,w-1]=(0,127,127)\n",
    "    return out"
   ]
  },
  {
   "cell_type": "code",
   "execution_count": 6,
   "metadata": {},
   "outputs": [
    {
     "data": {
      "text/plain": [
       "True"
      ]
     },
     "execution_count": 6,
     "metadata": {},
     "output_type": "execute_result"
    }
   ],
   "source": [
    "ans2=cv2.imread(\"./renketsu.png\")\n",
    "output=connect_8(ans2).astype(np.uint8)\n",
    "output=cv2.resize(output,(300,300))\n",
    "cv2.imwrite(\"ans2.jpg\",output)"
   ]
  },
  {
   "cell_type": "code",
   "execution_count": 7,
   "metadata": {},
   "outputs": [],
   "source": [
    "def return_conn_4_and_nn_8(t,h,w):    \n",
    "    d=np.array([[0,1],[-1,1],[-1,0],[-1,-1],[0,-1],[1,-1],[1,0],[1,1]])\n",
    "    x=[]\n",
    "    n=0\n",
    "    for i in range(8):\n",
    "        x.append(tuple(d[i]+np.array([h,w])))\n",
    "        if t[x[i]]>0:\n",
    "            n+=1\n",
    "    S=(t[x[0]]-t[x[0]]*t[x[1]]*t[x[2]])+(t[x[2]]-t[x[2]]*t[x[3]]*t[x[4]])+\\\n",
    "                (t[x[4]]-t[x[4]]*t[x[5]]*t[x[6]])+(t[x[6]]-t[x[7]]*t[x[7]]*t[x[0]])\n",
    "   \n",
    "    return S,n\n",
    "\n",
    "def thining(img):\n",
    "    H,W,C=img.shape\n",
    "    output=np.zeros_like(img,dtype=np.uint8)\n",
    "    \n",
    "    t=np.zeros((H+2,W+2),dtype=np.uint8)\n",
    "    t[1:1+H,1:1+W][img[...,0]>0]=1\n",
    "    \n",
    "    while True:\n",
    "        cnt=0\n",
    "        tmp=t.copy()\n",
    "        for y in range(1,H+1):\n",
    "            for x in range(1,W+1):\n",
    "                if t[y,x]==0:\n",
    "                    continue\n",
    "\n",
    "                if (t[y+1,x]*t[y-1,x]*t[y,x-1]*t[y,x+1])!=0:\n",
    "                    continue\n",
    "\n",
    "                S,n=return_conn_4_and_nn_8(t,y,x)\n",
    "                if S==1 and n>=3:\n",
    "                    tmp[y,x]=0\n",
    "                    cnt+=1\n",
    "        t=tmp\n",
    "        if cnt==0:\n",
    "            break\n",
    "    for y in range(1,1+H):\n",
    "        for x in range(1,1+W):\n",
    "            if t[y,x]==1:\n",
    "                output[y-1,x-1]=(255,255,255)\n",
    "                \n",
    "    return output"
   ]
  },
  {
   "cell_type": "code",
   "execution_count": 8,
   "metadata": {},
   "outputs": [
    {
     "name": "stderr",
     "output_type": "stream",
     "text": [
      "/Users/nishiyamaakito/.pyenv/versions/miniconda3-latest/lib/python3.7/site-packages/ipykernel_launcher.py:10: RuntimeWarning: overflow encountered in ubyte_scalars\n",
      "  # Remove the CWD from sys.path while we load stuff.\n"
     ]
    },
    {
     "data": {
      "text/plain": [
       "True"
      ]
     },
     "execution_count": 8,
     "metadata": {},
     "output_type": "execute_result"
    }
   ],
   "source": [
    "ans3=cv2.imread(\"./gazo.png\")\n",
    "output=thining(ans3)\n",
    "cv2.imwrite(\"ans3.jpg\",output)"
   ]
  },
  {
   "cell_type": "code",
   "execution_count": 9,
   "metadata": {},
   "outputs": [],
   "source": [
    "def hilditch(img):\n",
    "    H,W,C=img.shape\n",
    "    \n",
    "    tile=np.zeros((H+2,W+2),dtype=np.int)\n",
    "    tile[1:1+H,1:1+W][img[...,0]>0]=1\n",
    "    \n",
    "    while True:\n",
    "        cnt=0\n",
    "        tmp=tile.copy()\n",
    "    \n",
    "        for y in range(1,1+H):\n",
    "            for x in range(1,1+W):\n",
    "                if tile[y,x]!=1:\n",
    "                    continue\n",
    "\n",
    "                if tile[y+1,x]*tile[y-1,x]*tile[y,x+1]*tile[y,x-1]!=0:\n",
    "                    continue\n",
    "                n=list()\n",
    "                n=[0]*9\n",
    "                n[0]=tile[y,x]\n",
    "                n[1],n[2],n[3],n[4],n[5],n[6],n[7],n[8]=(1-tile[y,x+1]),(1-tile[y-1,x+1]),(1-tile[y-1,x]),(1-tile[y-1,x-1]),\\\n",
    "                    (1-tile[y,x-1]),(1-tile[y+1,x-1]),(1-tile[y+1,x]),(1-tile[y+1,x+1])\n",
    "                S=(n[1]-n[1]*n[2]*n[3])+(n[3]-n[3]*n[4]*n[5])+(n[5]-n[5]*n[6]*n[7])+(n[7]-n[7]*n[8]*n[1])\n",
    "                if S!=1:\n",
    "                    continue\n",
    "                Sum=0\n",
    "                flag=False\n",
    "                isnotminus=True\n",
    "                for i in range(1,9):\n",
    "                    n[i]=1-n[i]\n",
    "                    if n[i]==-1:\n",
    "                        isnotminus=False\n",
    "                    if n[i]>=1:\n",
    "                        flag=True\n",
    "                    S+=abs(n[i])\n",
    "                if S<=1 or flag==False:\n",
    "                    continue\n",
    "                \n",
    "                all_1=True\n",
    "                for i in range(1,9):\n",
    "                    store=n[i]\n",
    "                    n[i]=0\n",
    "                    S=(n[1]-n[1]*n[2]*n[3])+(n[3]-n[3]*n[4]*n[5])+(n[5]-n[5]*n[6]*n[7])+(n[7]-n[7]*n[8]*n[1])\n",
    "                    if S!=1:\n",
    "                        all_1=False\n",
    "                        break\n",
    "                    n[i]=store\n",
    "                \n",
    "                if isnotminus==True or all_1==True:\n",
    "                    tile[y,x]=-1\n",
    "                    tmp[y,x]=0\n",
    "                    cnt+=1\n",
    "        tile=tmp.copy()\n",
    "        if cnt<50:\n",
    "            break\n",
    "    \n",
    "    output=np.zeros_like(img,dtype=np.uint8)\n",
    "    output[tile[1:1+H,1:1+W]>=1]=(255,255,255)\n",
    "    return output"
   ]
  },
  {
   "cell_type": "code",
   "execution_count": 10,
   "metadata": {},
   "outputs": [
    {
     "data": {
      "text/plain": [
       "True"
      ]
     },
     "execution_count": 10,
     "metadata": {},
     "output_type": "execute_result"
    }
   ],
   "source": [
    "ans4=cv2.imread(\"./gazo.png\")\n",
    "output=hilditch(ans4)\n",
    "cv2.imwrite(\"ans4.jpg\",output)"
   ]
  },
  {
   "cell_type": "code",
   "execution_count": 11,
   "metadata": {},
   "outputs": [],
   "source": [
    "def Zhang_Suen_thining(img):\n",
    "    \n",
    "    H,W,C=img.shape\n",
    "    \n",
    "    t=np.zeros((H+2,W+2),dtype=np.int)\n",
    "    \n",
    "    t[1:1+H,1:1+W][img[...,0]>0]=1\n",
    "    t=1-t\n",
    "    d=[[0,-1],[1,-1],[1,0],[1,1],[0,1],[-1,1],[-1,0],[-1,-1]]\n",
    "    \n",
    "    output=t.copy()\n",
    "    \n",
    "    loop=0\n",
    "    while True:\n",
    "        # step1\n",
    "        changed=0\n",
    "        for h in range(1,H+1):\n",
    "            for w in range(1,W+1):\n",
    "                if t[h,w]==1:\n",
    "                        continue\n",
    "                prepix=t[h-1,w-1]\n",
    "                cnt2=0\n",
    "                cnt3=0\n",
    "                cond4=False\n",
    "                cond5=False\n",
    "\n",
    "                for i,di in enumerate(d):\n",
    "                    nowpix=t[h+di[0],w+di[1]]\n",
    "                    if nowpix>prepix:\n",
    "                        cnt2+=1\n",
    "                    if nowpix==1:\n",
    "                        cnt3+=1\n",
    "                    if i==0 or i==2 or i==4:\n",
    "                        if nowpix==1:\n",
    "                            cond4=True\n",
    "                    if i==2 or i==4 or i==6:\n",
    "                        if nowpix==1:\n",
    "                            cond5=True\n",
    "                    prepix=nowpix\n",
    "\n",
    "                if cnt2==1 and cnt3>=2 and cnt3<=6 and cond4 and cond5:\n",
    "                    output[h,w]=1\n",
    "                    changed+=1\n",
    "\n",
    "        t=output.copy()\n",
    "        # step2\n",
    "        for h in range(1,H+1):\n",
    "            for w in range(1,W+1):\n",
    "                if t[h,w]==1:\n",
    "                        continue\n",
    "                prepix=t[h-1,w-1]\n",
    "                cnt2=0\n",
    "                cnt3=0\n",
    "                cond4=False\n",
    "                cond5=False\n",
    "\n",
    "                for i,di in enumerate(d):\n",
    "                    nowpix=t[h+di[0],w+di[1]]\n",
    "                    if nowpix>prepix:\n",
    "                        cnt2+=1\n",
    "                    if nowpix==1:\n",
    "                        cnt3+=1\n",
    "                    if i==0 or i==2 or i==6:\n",
    "                        if nowpix==1:\n",
    "                            cond4=True\n",
    "                    if i==0 or i==4 or i==6:\n",
    "                        if nowpix==1:\n",
    "                            cond5=True\n",
    "                    prepix=nowpix\n",
    "\n",
    "                if cnt2==1 and cnt3>=2 and cnt3<=6 and cond4 and cond5:\n",
    "                    output[h,w]=1\n",
    "                    changed+=1\n",
    "        if changed==0:\n",
    "            break\n",
    "            \n",
    "        t=output.copy()\n",
    "    \n",
    "    out=np.zeros_like(img,dtype=np.uint8)\n",
    "    out[output[1:1+H,1:1+W]==0]=[255,255,255]\n",
    "    \n",
    "    return out"
   ]
  },
  {
   "cell_type": "code",
   "execution_count": 12,
   "metadata": {},
   "outputs": [
    {
     "data": {
      "text/plain": [
       "True"
      ]
     },
     "execution_count": 12,
     "metadata": {},
     "output_type": "execute_result"
    }
   ],
   "source": [
    "ans5=cv2.imread(\"./gazo.png\")\n",
    "ans5=Zhang_Suen_thining(ans5)\n",
    "cv2.imwrite(\"ans5.jpg\",ans5)"
   ]
  },
  {
   "cell_type": "code",
   "execution_count": 13,
   "metadata": {},
   "outputs": [],
   "source": [
    "def BGR2GRAY(img):\n",
    "    gray = 0.2126 * img[..., 2] + 0.7152 * img[..., 1] + 0.0722 * img[..., 0]\n",
    "    return gray\n",
    "\n",
    "def HOG_step1(img):\n",
    "    if len(img.shape)==3:\n",
    "        img=BGR2GRAY(img)\n",
    "    H,W=img.shape\n",
    "        \n",
    "    img=np.pad(img,(1,1),'edge').astype(np.float32)\n",
    "    \n",
    "    gx=img[1:1+H,2:]-img[1:1+H,:W]\n",
    "    gy=img[2:,1:1+W]-img[:H,1:1+W]\n",
    "    \n",
    "    mag=gx\n",
    "    ang=gy\n",
    "    mag=np.sqrt(gx**2+gy**2)\n",
    "    gx[gx==0]=10e-10\n",
    "    ang=np.arctan(gy/gx)/np.pi*180.\n",
    "    ang[ang<0]=180+ang[ang<0]\n",
    "    \n",
    "    quantized_ang=np.zeros((H,W),dtype=np.uint8)\n",
    "    \n",
    "    for i in range(9):\n",
    "        quantized_ang[np.where((ang>=i*20) & (ang<20*(i+1)))]=i\n",
    "        \n",
    "    return mag,quantized_ang"
   ]
  },
  {
   "cell_type": "code",
   "execution_count": 14,
   "metadata": {},
   "outputs": [
    {
     "data": {
      "text/plain": [
       "True"
      ]
     },
     "execution_count": 14,
     "metadata": {},
     "output_type": "execute_result"
    }
   ],
   "source": [
    "imori=cv2.imread(\"./imori.jpg\")\n",
    "ans6=imori.copy()\n",
    "mag,quantized_ang=HOG_step1(ans6)\n",
    "cv2.imwrite(\"ans6_mag.jpg\",mag.astype(np.uint8))\n",
    "\n",
    "out=np.zeros_like(imori,dtype=np.uint8)\n",
    "C = [[255, 0, 0], [0, 255, 0], [0, 0, 255], [255, 255, 0], [255, 0, 255], [0, 255, 255],\n",
    "     [127, 127, 0], [127, 0, 127], [0, 127, 127]]\n",
    "for i in range(9):\n",
    "     out[quantized_ang == i] = C[i]\n",
    "cv2.imwrite(\"ans6_ang.jpg\",out)"
   ]
  },
  {
   "cell_type": "code",
   "execution_count": 15,
   "metadata": {},
   "outputs": [],
   "source": [
    "def HOG_step2(mag,quantized_ang,N=8):\n",
    "    H,W=mag.shape\n",
    "    \n",
    "    cell_N_H=H//N\n",
    "    cell_N_W=W//N\n",
    "    histogram=np.zeros((cell_N_H,cell_N_W,9),dtype=np.float32)\n",
    "    \n",
    "    # each pixel\n",
    "    for y in range(cell_N_H):\n",
    "        for x in range(cell_N_W):\n",
    "            for j in range(N):\n",
    "                for i in range(N):\n",
    "                    histogram[y,x,quantized_ang[y*N+j,x*N+i]]+=\\\n",
    "                        mag[y*N+j,x*N+i]\n",
    "                    \n",
    "    return histogram"
   ]
  },
  {
   "cell_type": "code",
   "execution_count": 16,
   "metadata": {},
   "outputs": [
    {
     "data": {
      "image/png": "[encoded data removed]",
      "text/plain": [
       "<Figure size 432x288 with 9 Axes>"
      ]
     },
     "metadata": {
      "needs_background": "light"
     },
     "output_type": "display_data"
    }
   ],
   "source": [
    "import matplotlib.pyplot as plt\n",
    "\n",
    "ans7=imori.copy()\n",
    "mag,ang=HOG_step1(ans7)\n",
    "histogram=HOG_step2(mag,ang)\n",
    "\n",
    "for i in range(9):\n",
    "    plt.subplot(3,3,i+1)\n",
    "    plt.imshow(histogram[..., i])\n",
    "    plt.axis('off')\n",
    "    plt.xticks(color=\"None\")\n",
    "    plt.yticks(color=\"None\")\n",
    "plt.savefig(\"ans7.png\")\n",
    "plt.show()"
   ]
  },
  {
   "cell_type": "code",
   "execution_count": 17,
   "metadata": {},
   "outputs": [],
   "source": [
    "def HOG_step3(histogram,C=3,epsilon=1):\n",
    "    cell_N_H,cell_N_W,_=histogram.shape\n",
    "    for y in range(cell_N_H):\n",
    "        for x in range(cell_N_W):\n",
    "            histogram[y, x] /= np.sqrt(np.sum(histogram[max(y - 1, 0) : min(y + 2, cell_N_H),\n",
    "                                                        max(x - 1, 0) : min(x + 2, cell_N_W)] ** 2) + epsilon)\n",
    "\n",
    "    return histogram"
   ]
  },
  {
   "cell_type": "code",
   "execution_count": 18,
   "metadata": {},
   "outputs": [
    {
     "data": {
      "image/png": "[encoded data removed]",
      "text/plain": [
       "<Figure size 432x288 with 9 Axes>"
      ]
     },
     "metadata": {
      "needs_background": "light"
     },
     "output_type": "display_data"
    }
   ],
   "source": [
    "histogram=HOG_step3(histogram)\n",
    "for i in range(9):\n",
    "    plt.subplot(3,3,i+1)\n",
    "    plt.imshow(histogram[..., i])\n",
    "    plt.axis('off')\n",
    "    plt.xticks(color=\"None\")\n",
    "    plt.yticks(color=\"None\")\n",
    "plt.savefig(\"ans8.png\")\n",
    "plt.show()"
   ]
  },
  {
   "cell_type": "code",
   "execution_count": 19,
   "metadata": {},
   "outputs": [],
   "source": [
    "def draw_HOG(img, histogram):\n",
    "    # Grayscale\n",
    "    def BGR2GRAY(img):\n",
    "        gray = 0.2126 * img[..., 2] + 0.7152 * img[..., 1] + 0.0722 * img[..., 0]\n",
    "        return gray\n",
    "\n",
    "    def draw(gray, histogram, N=8):\n",
    "        # get shape\n",
    "        H, W = gray.shape\n",
    "        cell_N_H, cell_N_W, _ = histogram.shape\n",
    "        \n",
    "        ## Draw\n",
    "        out = gray[1 : H + 1, 1 : W + 1].copy().astype(np.uint8)\n",
    "\n",
    "        for y in range(cell_N_H):\n",
    "            for x in range(cell_N_W):\n",
    "                cx = x * N + N // 2\n",
    "                cy = y * N + N // 2\n",
    "                x1 = cx + N // 2 - 1\n",
    "                y1 = cy\n",
    "                x2 = cx - N // 2 + 1\n",
    "                y2 = cy\n",
    "                \n",
    "                h = histogram[y, x] / np.sum(histogram[y, x])\n",
    "                h /= h.max()\n",
    "                \n",
    "                for c in range(9):\n",
    "                    #angle = (20 * c + 10 - 90) / 180. * np.pi\n",
    "                    # get angle\n",
    "                    angle = (20 * c + 10) / 180. * np.pi\n",
    "                    rx = int(np.sin(angle) * (x1 - cx) + np.cos(angle) * (y1 - cy) + cx)\n",
    "                    ry = int(np.cos(angle) * (x1 - cx) - np.cos(angle) * (y1 - cy) + cy)\n",
    "                    lx = int(np.sin(angle) * (x2 - cx) + np.cos(angle) * (y2 - cy) + cx)\n",
    "                    ly = int(np.cos(angle) * (x2 - cx) - np.cos(angle) * (y2 - cy) + cy)\n",
    "\n",
    "                    # color is HOG value\n",
    "                    c = int(255. * h[c])\n",
    "\n",
    "                    # draw line\n",
    "                    cv2.line(out, (lx, ly), (rx, ry), (c, c, c), thickness=1)\n",
    "\n",
    "        return out\n",
    "    \n",
    "\n",
    "    # get gray\n",
    "    gray = BGR2GRAY(img)\n",
    "\n",
    "    # draw HOG\n",
    "    out = draw(gray, histogram)\n",
    "\n",
    "    return out"
   ]
  },
  {
   "cell_type": "code",
   "execution_count": 20,
   "metadata": {},
   "outputs": [
    {
     "data": {
      "text/plain": [
       "True"
      ]
     },
     "execution_count": 20,
     "metadata": {},
     "output_type": "execute_result"
    }
   ],
   "source": [
    "out=draw_HOG(imori.copy(),histogram)\n",
    "cv2.imwrite(\"ans9.jpg\",out)"
   ]
  },
  {
   "cell_type": "code",
   "execution_count": 21,
   "metadata": {},
   "outputs": [],
   "source": [
    "def BGR2HSV(_img):\n",
    "    img = _img.copy() / 255.\n",
    "\n",
    "    hsv = np.zeros_like(img, dtype=np.float32)\n",
    "\n",
    "    # get max and min\n",
    "    max_v = np.max(img, axis=2).copy()\n",
    "    min_v = np.min(img, axis=2).copy()\n",
    "    min_arg = np.argmin(img, axis=2)\n",
    "\n",
    "    # H\n",
    "    hsv[..., 0][np.where(max_v == min_v)]= 0\n",
    "    ## if min == B\n",
    "    ind = np.where(min_arg == 0)\n",
    "    hsv[..., 0][ind] = 60 * (img[..., 1][ind] - img[..., 2][ind]) / (max_v[ind] - min_v[ind]+10e-10) + 60\n",
    "    ## if min == R\n",
    "    ind = np.where(min_arg == 2)\n",
    "    hsv[..., 0][ind] = 60 * (img[..., 0][ind] - img[..., 1][ind]) / (max_v[ind] - min_v[ind]+10e-10) + 180\n",
    "    ## if min == G\n",
    "    ind = np.where(min_arg == 1)\n",
    "    hsv[..., 0][ind] = 60 * (img[..., 2][ind] - img[..., 0][ind]) / (max_v[ind] - min_v[ind]+10e-10) + 300\n",
    "\n",
    "    # S\n",
    "    hsv[..., 1] = max_v.copy() - min_v.copy()\n",
    "\n",
    "    # V\n",
    "    hsv[..., 2] = max_v.copy()\n",
    "\n",
    "    return hsv\n",
    "\n",
    "def get_mask(hsv):\n",
    "    mask = np.zeros_like(hsv[..., 0])\n",
    "    #mask[np.where((hsv > 180) & (hsv[0] < 260))] = 255\n",
    "    mask[np.logical_and((hsv[..., 0] > 180), (hsv[..., 0] < 260))] = 255\n",
    "    return mask"
   ]
  },
  {
   "cell_type": "code",
   "execution_count": 22,
   "metadata": {},
   "outputs": [
    {
     "data": {
      "text/plain": [
       "True"
      ]
     },
     "execution_count": 22,
     "metadata": {},
     "output_type": "execute_result"
    }
   ],
   "source": [
    "ans10=imori.copy()\n",
    "out=get_mask(BGR2HSV(ans10))\n",
    "\n",
    "cv2.imwrite(\"ans10.jpg\",out)"
   ]
  }
 ],
 "metadata": {
  "kernelspec": {
   "display_name": "Python 3",
   "language": "python",
   "name": "python3"
  },
  "language_info": {
   "codemirror_mode": {
    "name": "ipython",
    "version": 3
   },
   "file_extension": ".py",
   "mimetype": "text/x-python",
   "name": "python",
   "nbconvert_exporter": "python",
   "pygments_lexer": "ipython3",
   "version": "3.7.6"
  }
 },
 "nbformat": 4,
 "nbformat_minor": 2
}
