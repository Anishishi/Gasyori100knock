{
 "cells": [
  {
   "cell_type": "code",
   "execution_count": 1,
   "metadata": {},
   "outputs": [],
   "source": [
    "import cv2\n",
    "import numpy as np"
   ]
  },
  {
   "cell_type": "code",
   "execution_count": 2,
   "metadata": {},
   "outputs": [],
   "source": [
    "renketsu=cv2.imread(\"./renketsu.png\")"
   ]
  },
  {
   "cell_type": "code",
   "execution_count": 3,
   "metadata": {},
   "outputs": [],
   "source": [
    "def connect_4(img):\n",
    "    H,W,C=img.shape\n",
    "    d=np.array([[0,1],[-1,1],[-1,0],[-1,-1],[0,-1],[1,-1],[1,0],[1,1]])\n",
    "    \n",
    "    t=np.zeros((H+2,W+2),dtype=np.int)\n",
    "    t[1:H+1,1:W+1][img[...,0]>0]=1\n",
    "    out=np.zeros((H,W,3),dtype=np.uint8)\n",
    "    \n",
    "    for h in range(1,H+1):\n",
    "        for w in range(1,W+1):\n",
    "            if t[h,w]<1:\n",
    "                continue\n",
    "                \n",
    "            x=[]\n",
    "            for i in range(8):\n",
    "                x.append(tuple(d[i]+np.array([h,w])))\n",
    "            S=(t[x[0]]-t[x[0]]*t[x[1]]*t[x[2]])+(t[x[2]]-t[x[2]]*t[x[3]]*t[x[4]])+\\\n",
    "                (t[x[4]]-t[x[4]]*t[x[5]]*t[x[6]])+(t[x[6]]-t[x[7]]*t[x[7]]*t[x[0]])\n",
    "            if S==0:\n",
    "                out[h-1,w-1]=(255,0,0)\n",
    "            elif S==1:\n",
    "                out[h-1,w-1]=(0,255,0)\n",
    "            elif S==2:\n",
    "                out[h-1,w-1]=(0,0,255)\n",
    "            elif S==3:\n",
    "                out[h-1,w-1]=(127,127,0)\n",
    "            elif S==4:\n",
    "                out[h-1,w-1]=(0,127,127)\n",
    "    return out"
   ]
  },
  {
   "cell_type": "code",
   "execution_count": 4,
   "metadata": {},
   "outputs": [
    {
     "data": {
      "text/plain": [
       "True"
      ]
     },
     "execution_count": 4,
     "metadata": {},
     "output_type": "execute_result"
    }
   ],
   "source": [
    "ans1=cv2.imread(\"./renketsu.png\")\n",
    "output=connect_4(ans1).astype(np.uint8)\n",
    "output=cv2.resize(output,(300,300))\n",
    "cv2.imwrite(\"ans1.jpg\",output)"
   ]
  },
  {
   "cell_type": "code",
   "execution_count": 5,
   "metadata": {},
   "outputs": [],
   "source": [
    "def connect_8(img):\n",
    "    H,W,C=img.shape\n",
    "    d=np.array([[0,1],[-1,1],[-1,0],[-1,-1],[0,-1],[1,-1],[1,0],[1,1]])\n",
    "    \n",
    "    _t=np.zeros((H+2,W+2),dtype=np.int)\n",
    "    t=np.zeros((H+2,W+2),dtype=np.int)\n",
    "    _t[1:H+1,1:W+1][img[...,0]>0]=1\n",
    "    t[1:H+1,1:W+1]=1-_t[1:H+1,1:W+1]\n",
    "    out=np.zeros((H,W,3),dtype=np.uint8)\n",
    "    \n",
    "    for h in range(1,H+1):\n",
    "        for w in range(1,W+1):\n",
    "            if t[h,w]>=1:\n",
    "                continue\n",
    "                \n",
    "            x=[]\n",
    "            for i in range(8):\n",
    "                x.append(tuple(d[i]+np.array([h,w])))\n",
    "            S=(t[x[0]]-t[x[0]]*t[x[1]]*t[x[2]])+(t[x[2]]-t[x[2]]*t[x[3]]*t[x[4]])+\\\n",
    "                (t[x[4]]-t[x[4]]*t[x[5]]*t[x[6]])+(t[x[6]]-t[x[7]]*t[x[7]]*t[x[0]])\n",
    "            if S==0:\n",
    "                out[h-1,w-1]=(255,0,0)\n",
    "            elif S==1:\n",
    "                out[h-1,w-1]=(0,255,0)\n",
    "            elif S==2:\n",
    "                out[h-1,w-1]=(0,0,255)\n",
    "            elif S==3:\n",
    "                out[h-1,w-1]=(127,127,0)\n",
    "            elif S==4:\n",
    "                out[h-1,w-1]=(0,127,127)\n",
    "    return out"
   ]
  },
  {
   "cell_type": "code",
   "execution_count": 6,
   "metadata": {},
   "outputs": [
    {
     "data": {
      "text/plain": [
       "True"
      ]
     },
     "execution_count": 6,
     "metadata": {},
     "output_type": "execute_result"
    }
   ],
   "source": [
    "ans2=cv2.imread(\"./renketsu.png\")\n",
    "output=connect_8(ans2).astype(np.uint8)\n",
    "output=cv2.resize(output,(300,300))\n",
    "cv2.imwrite(\"ans2.jpg\",output)"
   ]
  },
  {
   "cell_type": "code",
   "execution_count": 7,
   "metadata": {},
   "outputs": [],
   "source": [
    "def return_conn_4_and_nn_8(t,h,w):    \n",
    "    d=np.array([[0,1],[-1,1],[-1,0],[-1,-1],[0,-1],[1,-1],[1,0],[1,1]])\n",
    "    x=[]\n",
    "    n=0\n",
    "    for i in range(8):\n",
    "        x.append(tuple(d[i]+np.array([h,w])))\n",
    "        if t[x[i]]>0:\n",
    "            n+=1\n",
    "    S=(t[x[0]]-t[x[0]]*t[x[1]]*t[x[2]])+(t[x[2]]-t[x[2]]*t[x[3]]*t[x[4]])+\\\n",
    "                (t[x[4]]-t[x[4]]*t[x[5]]*t[x[6]])+(t[x[6]]-t[x[7]]*t[x[7]]*t[x[0]])\n",
    "   \n",
    "    return S,n\n",
    "\n",
    "def thining(img):\n",
    "    H,W,C=img.shape\n",
    "    output=np.zeros_like(img,dtype=np.uint8)\n",
    "    \n",
    "    t=np.zeros((H+2,W+2),dtype=np.uint8)\n",
    "    t[1:1+H,1:1+W][img[...,0]>0]=1\n",
    "    \n",
    "    while True:\n",
    "        cnt=0\n",
    "        tmp=t.copy()\n",
    "        for y in range(1,H+1):\n",
    "            for x in range(1,W+1):\n",
    "                if t[y,x]==0:\n",
    "                    continue\n",
    "\n",
    "                if (t[y+1,x]*t[y-1,x]*t[y,x-1]*t[y,x+1])!=0:\n",
    "                    continue\n",
    "\n",
    "                S,n=return_conn_4_and_nn_8(t,y,x)\n",
    "                if S==1 and n>=3:\n",
    "                    tmp[y,x]=0\n",
    "                    cnt+=1\n",
    "        t=tmp\n",
    "        if cnt==0:\n",
    "            break\n",
    "    for y in range(1,1+H):\n",
    "        for x in range(1,1+W):\n",
    "            if t[y,x]==1:\n",
    "                output[y-1,x-1]=(255,255,255)\n",
    "                \n",
    "    return output"
   ]
  },
  {
   "cell_type": "code",
   "execution_count": 8,
   "metadata": {},
   "outputs": [
    {
     "name": "stderr",
     "output_type": "stream",
     "text": [
      "/home/denjo/.local/lib/python3.6/site-packages/ipykernel_launcher.py:10: RuntimeWarning: overflow encountered in ubyte_scalars\n",
      "  # Remove the CWD from sys.path while we load stuff.\n"
     ]
    },
    {
     "data": {
      "text/plain": [
       "True"
      ]
     },
     "execution_count": 8,
     "metadata": {},
     "output_type": "execute_result"
    }
   ],
   "source": [
    "ans3=cv2.imread(\"./gazo.png\")\n",
    "output=thining(ans3)\n",
    "cv2.imwrite(\"ans3.jpg\",output)"
   ]
  },
  {
   "cell_type": "code",
   "execution_count": 46,
   "metadata": {},
   "outputs": [],
   "source": [
    "def hilditch(img):\n",
    "    H,W,C=img.shape\n",
    "    \n",
    "    tile=np.zeros((H+2,W+2),dtype=np.int)\n",
    "    tile[1:1+H,1:1+W][img[...,0]>0]=1\n",
    "    \n",
    "    while True:\n",
    "        cnt=0\n",
    "        tmp=tile.copy()\n",
    "    \n",
    "        for y in range(1,1+H):\n",
    "            for x in range(1,1+W):\n",
    "                if tile[y,x]!=1:\n",
    "                    continue\n",
    "\n",
    "                if tile[y+1,x]*tile[y-1,x]*tile[y,x+1]*tile[y,x-1]!=0:\n",
    "                    continue\n",
    "                n=list()\n",
    "                n=[0]*9\n",
    "                n[0]=tile[y,x]\n",
    "                n[1],n[2],n[3],n[4],n[5],n[6],n[7],n[8]=(1-tile[y,x+1]),(1-tile[y-1,x+1]),(1-tile[y-1,x]),(1-tile[y-1,x-1]),\\\n",
    "                    (1-tile[y,x-1]),(1-tile[y+1,x-1]),(1-tile[y+1,x]),(1-tile[y+1,x+1])\n",
    "                S=(n[1]-n[1]*n[2]*n[3])+(n[3]-n[3]*n[4]*n[5])+(n[5]-n[5]*n[6]*n[7])+(n[7]-n[7]*n[8]*n[1])\n",
    "                if S!=1:\n",
    "                    continue\n",
    "                Sum=0\n",
    "                flag=False\n",
    "                isnotminus=True\n",
    "                for i in range(1,9):\n",
    "                    n[i]=1-n[i]\n",
    "                    if n[i]==-1:\n",
    "                        isnotminus=False\n",
    "                    if n[i]>=1:\n",
    "                        flag=True\n",
    "                    S+=abs(n[i])\n",
    "                if S<=1 or flag==False:\n",
    "                    continue\n",
    "                \n",
    "                all_1=True\n",
    "                for i in range(1,9):\n",
    "                    store=n[i]\n",
    "                    n[i]=0\n",
    "                    S=(n[1]-n[1]*n[2]*n[3])+(n[3]-n[3]*n[4]*n[5])+(n[5]-n[5]*n[6]*n[7])+(n[7]-n[7]*n[8]*n[1])\n",
    "                    if S!=1:\n",
    "                        all_1=False\n",
    "                        break\n",
    "                    n[i]=store\n",
    "                \n",
    "                if isnotminus==True or all_1==True:\n",
    "                    tile[y,x]=-1\n",
    "                    tmp[y,x]=0\n",
    "                    cnt+=1\n",
    "        tile=tmp.copy()\n",
    "        if cnt<50:\n",
    "            break\n",
    "    \n",
    "    output=np.zeros_like(img,dtype=np.uint8)\n",
    "    output[tile[1:1+H,1:1+W]>=1]=(255,255,255)\n",
    "    return output"
   ]
  },
  {
   "cell_type": "code",
   "execution_count": 47,
   "metadata": {},
   "outputs": [
    {
     "data": {
      "text/plain": [
       "True"
      ]
     },
     "execution_count": 47,
     "metadata": {},
     "output_type": "execute_result"
    }
   ],
   "source": [
    "ans4=cv2.imread(\"./gazo.png\")\n",
    "output=hilditch(ans4)\n",
    "cv2.imwrite(\"ans4.jpg\",output)"
   ]
  },
  {
   "cell_type": "code",
   "execution_count": null,
   "metadata": {},
   "outputs": [],
   "source": []
  }
 ],
 "metadata": {
  "kernelspec": {
   "display_name": "Python 3",
   "language": "python",
   "name": "python3"
  },
  "language_info": {
   "codemirror_mode": {
    "name": "ipython",
    "version": 3
   },
   "file_extension": ".py",
   "mimetype": "text/x-python",
   "name": "python",
   "nbconvert_exporter": "python",
   "pygments_lexer": "ipython3",
   "version": "3.6.9"
  }
 },
 "nbformat": 4,
 "nbformat_minor": 2
}
