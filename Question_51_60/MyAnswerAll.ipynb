{
 "cells": [
  {
   "cell_type": "code",
   "execution_count": 1,
   "metadata": {},
   "outputs": [],
   "source": [
    "import cv2\n",
    "import numpy as np\n",
    "\n",
    "import matplotlib.pyplot as plt\n",
    "\n",
    "%matplotlib inline"
   ]
  },
  {
   "cell_type": "code",
   "execution_count": 2,
   "metadata": {},
   "outputs": [],
   "source": [
    "def show(img):\n",
    "    output=cv2.cvtColor(img,cv2.COLOR_BGR2RGB)\n",
    "    plt.imshow(output)"
   ]
  },
  {
   "cell_type": "code",
   "execution_count": 3,
   "metadata": {},
   "outputs": [],
   "source": [
    "imori=cv2.imread(\"./imori.jpg\")"
   ]
  },
  {
   "cell_type": "code",
   "execution_count": 4,
   "metadata": {},
   "outputs": [],
   "source": [
    "# Gray scale\n",
    "def BGR2GRAY(img):\n",
    "    b = img[:, :, 0].copy()\n",
    "    g = img[:, :, 1].copy()\n",
    "    r = img[:, :, 2].copy()\n",
    "\n",
    "    # Gray scale\n",
    "    out = 0.2126 * r + 0.7152 * g + 0.0722 * b\n",
    "    out = out.astype(np.uint8)\n",
    "\n",
    "    return out\n",
    "\n",
    "# Otsu Binalization\n",
    "def otsu_binarization(img, th=128):\n",
    "    H, W = img.shape\n",
    "    out = img.copy()\n",
    "\n",
    "    max_sigma = 0\n",
    "    max_t = 0\n",
    "\n",
    "    # determine threshold\n",
    "    for _t in range(1, 255):\n",
    "        v0 = out[np.where(out < _t)]\n",
    "        m0 = np.mean(v0) if len(v0) > 0 else 0.\n",
    "        w0 = len(v0) / (H * W)\n",
    "        v1 = out[np.where(out >= _t)]\n",
    "        m1 = np.mean(v1) if len(v1) > 0 else 0.\n",
    "        w1 = len(v1) / (H * W)\n",
    "        sigma = w0 * w1 * ((m0 - m1) ** 2)\n",
    "        if sigma > max_sigma:\n",
    "            max_sigma = sigma\n",
    "            max_t = _t\n",
    "\n",
    "    # Binarization\n",
    "    print(\"threshold >>\", max_t)\n",
    "    th = max_t\n",
    "    out[out < th] = 0\n",
    "    out[out >= th] = 255\n",
    "\n",
    "    return out\n",
    "\n",
    "\n",
    "# Erosion\n",
    "def Erode(img, Erode_time=1):\n",
    "    H, W = img.shape\n",
    "    out = img.copy()\n",
    "\n",
    "    # kernel\n",
    "    MF = np.array(((0, 1, 0),\n",
    "                (1, 0, 1),\n",
    "                (0, 1, 0)), dtype=np.int)\n",
    "\n",
    "    # each erode\n",
    "    for i in range(Erode_time):\n",
    "        tmp = np.pad(out, (1, 1), 'edge')\n",
    "        # erode\n",
    "        for y in range(1, H+1):\n",
    "            for x in range(1, W+1):\n",
    "                if np.sum(MF * tmp[y-1:y+2, x-1:x+2]) < 255*4:\n",
    "                    out[y-1, x-1] = 0\n",
    "\n",
    "    return out\n",
    "\n",
    "\n",
    "# Dilation\n",
    "def Dilate(img, Dil_time=1):\n",
    "    H, W = img.shape\n",
    "\n",
    "    # kernel\n",
    "    MF = np.array(((0, 1, 0),\n",
    "                (1, 0, 1),\n",
    "                (0, 1, 0)), dtype=np.int)\n",
    "\n",
    "    # each dilate time\n",
    "    out = img.copy()\n",
    "    for i in range(Dil_time):\n",
    "        tmp = np.pad(out, (1, 1), 'edge')\n",
    "        for y in range(1, H+1):\n",
    "            for x in range(1, W+1):\n",
    "                if np.sum(MF * tmp[y-1:y+2, x-1:x+2]) >= 255:\n",
    "                    out[y-1, x-1] = 255\n",
    "\n",
    "    return out"
   ]
  },
  {
   "cell_type": "code",
   "execution_count": 5,
   "metadata": {},
   "outputs": [
    {
     "name": "stdout",
     "output_type": "stream",
     "text": [
      "threshold >> 127\n"
     ]
    },
    {
     "data": {
      "text/plain": [
       "True"
      ]
     },
     "execution_count": 5,
     "metadata": {},
     "output_type": "execute_result"
    }
   ],
   "source": [
    "in1=otsu_binarization(BGR2GRAY(imori.copy()))\n",
    "in2=in1.copy()\n",
    "dilated=Dilate(in1,1)\n",
    "eroded=Erode(in2,1)\n",
    "output=np.clip((dilated-eroded).astype(np.uint8),0,255)\n",
    "cv2.imwrite(\"ans1.jpg\",output)"
   ]
  },
  {
   "cell_type": "code",
   "execution_count": 6,
   "metadata": {},
   "outputs": [],
   "source": [
    "def Morphology_Opening(img,times=1):\n",
    "    dil=Dilate(img,Dil_time=times)\n",
    "    erode=Erode(dil,Erode_time=times)\n",
    "    return erode"
   ]
  },
  {
   "cell_type": "code",
   "execution_count": 7,
   "metadata": {},
   "outputs": [
    {
     "name": "stdout",
     "output_type": "stream",
     "text": [
      "threshold >> 127\n"
     ]
    },
    {
     "data": {
      "text/plain": [
       "True"
      ]
     },
     "execution_count": 7,
     "metadata": {},
     "output_type": "execute_result"
    }
   ],
   "source": [
    "ans2=otsu_binarization(BGR2GRAY(imori.copy().astype(np.float32)))\n",
    "opened=Morphology_Opening(ans2.copy(),times=3)\n",
    "output=np.clip((np.abs(ans2-opened)*255).astype(np.uint8),0,255)\n",
    "cv2.imwrite(\"ans2.jpg\",output)"
   ]
  },
  {
   "cell_type": "code",
   "execution_count": 8,
   "metadata": {},
   "outputs": [],
   "source": [
    "def Morphology_Closing(img,times=1):\n",
    "    erode=Erode(img,Erode_time=times)\n",
    "    dil=Dilate(erode,Dil_time=times)\n",
    "    return dil"
   ]
  },
  {
   "cell_type": "code",
   "execution_count": 9,
   "metadata": {},
   "outputs": [
    {
     "name": "stdout",
     "output_type": "stream",
     "text": [
      "threshold >> 127\n"
     ]
    },
    {
     "data": {
      "text/plain": [
       "True"
      ]
     },
     "execution_count": 9,
     "metadata": {},
     "output_type": "execute_result"
    }
   ],
   "source": [
    "ans3=otsu_binarization(BGR2GRAY(imori.copy().astype(np.float32)))\n",
    "closed=Morphology_Closing(ans3.copy(),times=3)\n",
    "output=np.abs(closed-ans3) * 255\n",
    "cv2.imwrite(\"ans3.jpg\",output)"
   ]
  },
  {
   "cell_type": "code",
   "execution_count": 10,
   "metadata": {},
   "outputs": [],
   "source": [
    "def SSD_matching(img,template):\n",
    "    H,W,C=img.shape\n",
    "    temp_H,temp_W,_=template.shape\n",
    "    \n",
    "    yout,xout=0,0\n",
    "    inf=1e10\n",
    "    for y in range(H-temp_H+1):\n",
    "        for x in range(W-temp_W+1):\n",
    "            S=np.sum((img[y:y+temp_H,x:x+temp_W]-template)**2)\n",
    "            if S<inf:\n",
    "                inf=S\n",
    "                yout,xout=y,x\n",
    "    \n",
    "    output=cv2.rectangle(img,(xout,yout),(xout+temp_W-1,yout+temp_H-1),(0,0,255),1)\n",
    "    return output"
   ]
  },
  {
   "cell_type": "code",
   "execution_count": 11,
   "metadata": {},
   "outputs": [
    {
     "data": {
      "text/plain": [
       "True"
      ]
     },
     "execution_count": 11,
     "metadata": {},
     "output_type": "execute_result"
    }
   ],
   "source": [
    "ans4=imori.copy().astype(np.float32)\n",
    "template=cv2.imread(\"./imori_part.jpg\")\n",
    "ans4=SSD_matching(ans4,template).astype(np.uint8)\n",
    "cv2.imwrite(\"ans4.jpg\",ans4)"
   ]
  },
  {
   "cell_type": "code",
   "execution_count": 12,
   "metadata": {},
   "outputs": [],
   "source": [
    "def SAD_matching(img,template):\n",
    "    H,W,C=img.shape\n",
    "    temp_H,temp_W,_=template.shape\n",
    "    \n",
    "    yout,xout=0,0\n",
    "    inf=1e10\n",
    "    for y in range(H-temp_H+1):\n",
    "        for x in range(W-temp_W+1):\n",
    "            S=np.sum(np.abs(img[y:y+temp_H,x:x+temp_W]-template))\n",
    "            if S<inf:\n",
    "                inf=S\n",
    "                yout,xout=y,x\n",
    "    \n",
    "    output=cv2.rectangle(img,(xout,yout),(xout+temp_W-1,yout+temp_H-1),(0,0,255),1)\n",
    "    return output"
   ]
  },
  {
   "cell_type": "code",
   "execution_count": 13,
   "metadata": {},
   "outputs": [
    {
     "data": {
      "text/plain": [
       "True"
      ]
     },
     "execution_count": 13,
     "metadata": {},
     "output_type": "execute_result"
    }
   ],
   "source": [
    "ans5=imori.copy().astype(np.float32)\n",
    "template=cv2.imread(\"./imori_part.jpg\")\n",
    "ans5=SAD_matching(ans5,template).astype(np.uint8)\n",
    "cv2.imwrite(\"ans5.jpg\",ans5)"
   ]
  },
  {
   "cell_type": "code",
   "execution_count": 14,
   "metadata": {},
   "outputs": [],
   "source": [
    "def NCC_matching(img,template):\n",
    "    H,W,C=img.shape\n",
    "    temp_H,temp_W,_=template.shape\n",
    "    \n",
    "    yout,xout=0,0\n",
    "    inf=-1e10\n",
    "    for y in range(H-temp_H+1):\n",
    "        for x in range(W-temp_W+1):\n",
    "            upper=np.sum(img[y:y+temp_H,x:x+temp_W]*template)\n",
    "            lower=np.sqrt(np.sum(img[y:y+temp_H,x:x+temp_W]**2))*np.sqrt(np.sum(template*template))\n",
    "            S=upper/lower\n",
    "            if S>inf:\n",
    "                inf=S\n",
    "                yout,xout=y,x\n",
    "    \n",
    "    output=cv2.rectangle(img,(xout,yout),(xout+temp_W-1,yout+temp_H-1),(0,0,255),1)\n",
    "    return output"
   ]
  },
  {
   "cell_type": "code",
   "execution_count": 15,
   "metadata": {},
   "outputs": [
    {
     "data": {
      "text/plain": [
       "True"
      ]
     },
     "execution_count": 15,
     "metadata": {},
     "output_type": "execute_result"
    }
   ],
   "source": [
    "ans6=imori.copy().astype(np.float32)\n",
    "template=cv2.imread(\"./imori_part.jpg\").astype(np.float32)\n",
    "ans6=NCC_matching(ans6,template).astype(np.uint8)\n",
    "cv2.imwrite(\"ans6.jpg\",ans6)"
   ]
  },
  {
   "cell_type": "code",
   "execution_count": 16,
   "metadata": {},
   "outputs": [],
   "source": [
    "def ZNCC_matching(img,template):\n",
    "    H,W,C=img.shape\n",
    "    temp_H,temp_W,_=template.shape\n",
    "    \n",
    "    mt=np.mean(template,axis=(0,1))\n",
    "    MT=np.tile(mt,temp_H*temp_W).reshape(temp_H,temp_W,-1)\n",
    "    \n",
    "    yout,xout=0,0\n",
    "    inf=-1e10\n",
    "    for y in range(H-temp_H+1):\n",
    "        for x in range(W-temp_W+1):\n",
    "            I=img[y:y+temp_H,x:x+temp_W]\n",
    "            mi=np.mean(I,axis=(0,1))\n",
    "            MI=np.tile(mi,temp_H*temp_W).reshape(temp_H,temp_W,-1)\n",
    "            T=template\n",
    "            upper=np.sum((I-MI)*(T-MT))\n",
    "            lower=np.sqrt(np.sum((I-MI)**2))*np.sqrt(np.sum((T-MT)**2))\n",
    "            S=upper.astype(np.float32)/lower\n",
    "            if S>inf:\n",
    "                inf=S\n",
    "                yout,xout=y,x\n",
    "    \n",
    "    output=cv2.rectangle(img,(xout,yout),(xout+temp_W-1,yout+temp_H-1),(0,0,255),1)\n",
    "    return output"
   ]
  },
  {
   "cell_type": "code",
   "execution_count": 17,
   "metadata": {},
   "outputs": [
    {
     "data": {
      "text/plain": [
       "True"
      ]
     },
     "execution_count": 17,
     "metadata": {},
     "output_type": "execute_result"
    }
   ],
   "source": [
    "ans7=imori.copy().astype(np.float32)\n",
    "template=cv2.imread(\"./imori_part.jpg\").astype(np.float32)\n",
    "ans7=ZNCC_matching(ans7,template).astype(np.uint8)\n",
    "cv2.imwrite(\"ans7.jpg\",ans7)"
   ]
  },
  {
   "cell_type": "code",
   "execution_count": 143,
   "metadata": {},
   "outputs": [],
   "source": [
    "def labeling_4nn(img):\n",
    "    H,W,C=img.shape\n",
    "    tmp=img.copy()\n",
    "    img=np.zeros((H+2,W+2,C),dtype=np.uint8)\n",
    "    img[1:H+1,1:1+W]=tmp\n",
    "    \n",
    "    lookuptable={}\n",
    "    last=0\n",
    "    for y in range(1,H+1):\n",
    "        for x in range(1,W+1):\n",
    "            if img[y,x,0]==0:\n",
    "                continue\n",
    "            \n",
    "            if img[y-1,x,0]==0 and img[y,x-1,0]==0:\n",
    "                last+=1\n",
    "                lookuptable[(y,x)]=last\n",
    "                continue\n",
    "            \n",
    "            if img[y-1,x,0]==0:\n",
    "                lookuptable[(y,x)]=lookuptable[(y,x-1)]\n",
    "                continue\n",
    "            if img[y,x-1,0]==0:\n",
    "                lookuptable[(y,x)]=lookuptable[(y-1,x)]\n",
    "                continue\n",
    "            \n",
    "            if lookuptable[(y-1,x)]<lookuptable[(y,x-1)]:\n",
    "                label=lookuptable[(y-1,x)]\n",
    "                xtmp=x\n",
    "                while xtmp>0 and img[y,xtmp,0]!=0:\n",
    "                    lookuptable[(y,xtmp)]=label\n",
    "                    xtmp-=1\n",
    "            else:\n",
    "                label=lookuptable[(y,x-1)]\n",
    "                ytmp=y\n",
    "                while ytmp>0 and img[ytmp,x,0]!=0:\n",
    "                    lookuptable[(ytmp,x)]=label\n",
    "                    ytmp-=1\n",
    "                \n",
    "    step=int((256*(256+127)*256+127)/(last+1))\n",
    "    colormap={}\n",
    "    \n",
    "    for i in range(1,last+1):\n",
    "        num=step*i\n",
    "        color=[num%256,(num//256)%256,num//256//256%256]\n",
    "        print(color)\n",
    "        colormap[i]=color\n",
    "    for k,v in lookuptable.items():\n",
    "        img[k[0],k[1]]=colormap[v]\n",
    "    \n",
    "    return img[1:1+H,1:1+W].astype(np.uint8)"
   ]
  },
  {
   "cell_type": "code",
   "execution_count": 144,
   "metadata": {},
   "outputs": [
    {
     "name": "stdout",
     "output_type": "stream",
     "text": [
      "[15, 224, 47]\n",
      "[30, 192, 95]\n",
      "[45, 160, 143]\n",
      "[60, 128, 191]\n",
      "[75, 96, 239]\n",
      "[90, 64, 31]\n",
      "[105, 32, 79]\n"
     ]
    },
    {
     "data": {
      "text/plain": [
       "True"
      ]
     },
     "execution_count": 144,
     "metadata": {},
     "output_type": "execute_result"
    }
   ],
   "source": [
    "seg=cv2.imread(\"seg.png\")\n",
    "ans8=labeling_4nn(seg)\n",
    "cv2.imwrite(\"ans8.jpg\",ans8)"
   ]
  },
  {
   "cell_type": "code",
   "execution_count": 156,
   "metadata": {},
   "outputs": [],
   "source": [
    "import queue\n",
    "\n",
    "def breadth_first_search(now_point,tile,number):\n",
    "    q=queue.Queue()\n",
    "    search_dir=[(0,-1),(1,-1),(1,0),(1,1),(0,1)]\n",
    "    \n",
    "    q.put(now_point)\n",
    "    while not q.empty():\n",
    "        p=q.get()\n",
    "        for d in search_dir:\n",
    "            y,x=p[0]+d[0],p[1]+d[1]\n",
    "            if tile[y,x]==0 or tile[y,x]==number:\n",
    "                continue\n",
    "            tile[y,x]=number\n",
    "            q.put((y,x))\n",
    "    \n",
    "    return tile\n",
    "\n",
    "def labeling_8nn(img):\n",
    "    H,W,C=img.shape\n",
    "    \n",
    "    label=np.zeros((H+2,W+2),dtype=np.int)\n",
    "    label[1:1+H,1:1+W]=img[...,0]\n",
    "    output=np.zeros((H+2,W+2,C),dtype=np.uint8)\n",
    "    \n",
    "    n=1\n",
    "    for y in range(1,H+1):\n",
    "        for x in range(1,W+1):\n",
    "            if label[y,x]==255:\n",
    "                label=breadth_first_search((y,x),label,n)\n",
    "                n+=1\n",
    "                \n",
    "    step=int((256*(256+127)*256+127)/(n+1))\n",
    "    colormap={}\n",
    "    colormap[0]=[0,0,0]\n",
    "    \n",
    "    for i in range(1,n+1):\n",
    "        num=step*i\n",
    "        color=[num%256,(num//256)%256,num//256//256%256]\n",
    "        colormap[i]=color\n",
    "    for y in range(1,H+1):\n",
    "        for x in range(1,W+1):\n",
    "            output[y,x]=colormap[label[y,x]]\n",
    "    \n",
    "    return output[1:1+H,1:1+W].astype(np.uint8)\n",
    "    "
   ]
  },
  {
   "cell_type": "code",
   "execution_count": 157,
   "metadata": {},
   "outputs": [
    {
     "data": {
      "text/plain": [
       "True"
      ]
     },
     "execution_count": 157,
     "metadata": {},
     "output_type": "execute_result"
    }
   ],
   "source": [
    "seg=cv2.imread(\"seg.png\")\n",
    "ans9=labeling_8nn(seg)\n",
    "cv2.imwrite(\"ans9.jpg\",ans9)"
   ]
  },
  {
   "cell_type": "code",
   "execution_count": 158,
   "metadata": {},
   "outputs": [],
   "source": [
    "def alpha_blend(im1,im2,alpha=0.5):\n",
    "    output=im1*alpha+im2*(1.-alpha)\n",
    "    \n",
    "    return output"
   ]
  },
  {
   "cell_type": "code",
   "execution_count": 159,
   "metadata": {},
   "outputs": [
    {
     "data": {
      "text/plain": [
       "True"
      ]
     },
     "execution_count": 159,
     "metadata": {},
     "output_type": "execute_result"
    }
   ],
   "source": [
    "im1=cv2.imread(\"imori.jpg\").astype(np.float)\n",
    "im2=cv2.imread(\"thorino.jpg\").astype(np.float)\n",
    "ans10=alpha_blend(im1,im2,0.6).astype(np.uint8)\n",
    "cv2.imwrite(\"ans10.jpg\",ans10)"
   ]
  }
 ],
 "metadata": {
  "kernelspec": {
   "display_name": "Python 3",
   "language": "python",
   "name": "python3"
  },
  "language_info": {
   "codemirror_mode": {
    "name": "ipython",
    "version": 3
   },
   "file_extension": ".py",
   "mimetype": "text/x-python",
   "name": "python",
   "nbconvert_exporter": "python",
   "pygments_lexer": "ipython3",
   "version": "3.6.9"
  }
 },
 "nbformat": 4,
 "nbformat_minor": 2
}
