{
 "cells": [
  {
   "cell_type": "code",
   "execution_count": 1,
   "metadata": {},
   "outputs": [],
   "source": [
    "import cv2\n",
    "import numpy as np\n",
    "import matplotlib.pyplot as plt\n",
    "%matplotlib inline"
   ]
  },
  {
   "cell_type": "code",
   "execution_count": 3,
   "metadata": {},
   "outputs": [],
   "source": [
    "thorino=cv2.imread(\"thorino.jpg\")\n",
    "graythorino=cv2.cvtColor(thorino, cv2.COLOR_BGR2GRAY)"
   ]
  },
  {
   "cell_type": "code",
   "execution_count": 27,
   "metadata": {},
   "outputs": [],
   "source": [
    "def Sobel_filtering(gray):\n",
    "    H,W=gray.shape\n",
    "    \n",
    "    sobely=np.array(((1,2,1),(0,0,0),(-1,-2,-1)),dtype=np.float32)\n",
    "    sobelx=np.array(((1,0,-1),(2,0,-2),(1,0,-1)),dtype=np.float32)\n",
    "    \n",
    "    tmp=np.pad(gray,(1,1),'edge')\n",
    "    \n",
    "    Ix=np.zeros_like(gray,dtype=np.float32)\n",
    "    Iy=np.zeros_like(gray,dtype=np.float32)\n",
    "    \n",
    "    for y in range(H):\n",
    "        for x in range(W):\n",
    "            Ix[y,x]=np.mean(tmp[y:y+3,x:x+3]*sobelx)\n",
    "            Iy[y,x]=np.mean(tmp[y:y+3,x:x+3]*sobely)\n",
    "            \n",
    "    Ix2=Ix**2\n",
    "    Iy2=Iy**2\n",
    "    Ixy=Ix*Iy\n",
    "    \n",
    "    return Ix2,Iy2,Ixy\n",
    "\n",
    "def corner_detect(gray,Ix2,Iy2,Ixy):\n",
    "    H,W=gray.shape\n",
    "    \n",
    "    out=np.array((gray,gray,gray))\n",
    "    out=np.transpose(out,(1,2,0))\n",
    "    \n",
    "    Hes=np.zeros((H,W))\n",
    "    \n",
    "    Hes=Ix2*Iy2-Ixy*Ixy\n",
    "    th=np.max(Hes)*0.1\n",
    "    corner=[]\n",
    "    for y in range(H):\n",
    "        for x in range(W):\n",
    "            if Hes[y,x]==np.max(Hes[max(y-1,0):min(y+2,H),max(x-1,0):min(x+2,W)]) and Hes[y,x]>th:\n",
    "                corner.append((y,x))\n",
    "                \n",
    "    for y,x in corner:\n",
    "        out[max(y-1,0):min(y+2,H),max(x-1,0):min(x+2,W)]=[0,0,255] #わかりやすさのために周囲を赤くする\n",
    "        \n",
    "    return out.astype(np.uint8)"
   ]
  },
  {
   "cell_type": "code",
   "execution_count": 28,
   "metadata": {},
   "outputs": [
    {
     "data": {
      "text/plain": [
       "True"
      ]
     },
     "execution_count": 28,
     "metadata": {},
     "output_type": "execute_result"
    }
   ],
   "source": [
    "Ix2,Iy2,Ixy=Sobel_filtering(graythorino.copy())\n",
    "ans1=corner_detect(graythorino.copy(),Ix2,Iy2,Ixy)\n",
    "cv2.imwrite(\"ans1.jpg\",ans1)"
   ]
  },
  {
   "cell_type": "code",
   "execution_count": null,
   "metadata": {},
   "outputs": [],
   "source": []
  },
  {
   "cell_type": "code",
   "execution_count": null,
   "metadata": {},
   "outputs": [],
   "source": []
  },
  {
   "cell_type": "code",
   "execution_count": null,
   "metadata": {},
   "outputs": [],
   "source": []
  },
  {
   "cell_type": "code",
   "execution_count": null,
   "metadata": {},
   "outputs": [],
   "source": []
  },
  {
   "cell_type": "code",
   "execution_count": null,
   "metadata": {},
   "outputs": [],
   "source": []
  },
  {
   "cell_type": "code",
   "execution_count": 10,
   "metadata": {},
   "outputs": [
    {
     "data": {
      "text/plain": [
       "(array([0, 1, 2]), array([3, 3, 3]))"
      ]
     },
     "execution_count": 10,
     "metadata": {},
     "output_type": "execute_result"
    }
   ],
   "source": [
    "a=np.arange(4)\n",
    "b=np.array((a,a,a))\n",
    "np.where(b>2)\n",
    "# np.transpose(b,(1,2,0))"
   ]
  },
  {
   "cell_type": "code",
   "execution_count": 14,
   "metadata": {},
   "outputs": [
    {
     "data": {
      "text/plain": [
       "(array([0, 1, 2]), array([2, 2, 2]))"
      ]
     },
     "execution_count": 14,
     "metadata": {},
     "output_type": "execute_result"
    }
   ],
   "source": [
    "np.where(b==2)"
   ]
  },
  {
   "cell_type": "code",
   "execution_count": 19,
   "metadata": {},
   "outputs": [],
   "source": [
    "b[(1,3)]=100"
   ]
  },
  {
   "cell_type": "code",
   "execution_count": 20,
   "metadata": {},
   "outputs": [
    {
     "data": {
      "text/plain": [
       "array([[  0,   1,   2,   3],\n",
       "       [  0,   1,   2, 100],\n",
       "       [  0,   1,   2,   3]])"
      ]
     },
     "execution_count": 20,
     "metadata": {},
     "output_type": "execute_result"
    }
   ],
   "source": [
    "b"
   ]
  },
  {
   "cell_type": "code",
   "execution_count": null,
   "metadata": {},
   "outputs": [],
   "source": []
  }
 ],
 "metadata": {
  "kernelspec": {
   "display_name": "Python 3",
   "language": "python",
   "name": "python3"
  },
  "language_info": {
   "codemirror_mode": {
    "name": "ipython",
    "version": 3
   },
   "file_extension": ".py",
   "mimetype": "text/x-python",
   "name": "python",
   "nbconvert_exporter": "python",
   "pygments_lexer": "ipython3",
   "version": "3.7.6"
  }
 },
 "nbformat": 4,
 "nbformat_minor": 4
}
