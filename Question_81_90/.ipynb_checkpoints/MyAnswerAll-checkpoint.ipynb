{
 "cells": [
  {
   "cell_type": "code",
   "execution_count": 1,
   "metadata": {},
   "outputs": [],
   "source": [
    "import cv2\n",
    "import numpy as np\n",
    "import matplotlib.pyplot as plt\n",
    "%matplotlib inline"
   ]
  },
  {
   "cell_type": "code",
   "execution_count": 2,
   "metadata": {},
   "outputs": [],
   "source": [
    "thorino=cv2.imread(\"thorino.jpg\")\n",
    "graythorino=cv2.cvtColor(thorino, cv2.COLOR_BGR2GRAY)"
   ]
  },
  {
   "cell_type": "code",
   "execution_count": 3,
   "metadata": {},
   "outputs": [],
   "source": [
    "def Sobel_filtering(gray):\n",
    "    H,W=gray.shape\n",
    "    \n",
    "    sobely=np.array(((1,2,1),(0,0,0),(-1,-2,-1)),dtype=np.float32)\n",
    "    sobelx=np.array(((1,0,-1),(2,0,-2),(1,0,-1)),dtype=np.float32)\n",
    "    \n",
    "    tmp=np.pad(gray,(1,1),'edge')\n",
    "    \n",
    "    Ix=np.zeros_like(gray,dtype=np.float32)\n",
    "    Iy=np.zeros_like(gray,dtype=np.float32)\n",
    "    \n",
    "    for y in range(H):\n",
    "        for x in range(W):\n",
    "            Ix[y,x]=np.mean(tmp[y:y+3,x:x+3]*sobelx)\n",
    "            Iy[y,x]=np.mean(tmp[y:y+3,x:x+3]*sobely)\n",
    "            \n",
    "    Ix2=Ix**2\n",
    "    Iy2=Iy**2\n",
    "    Ixy=Ix*Iy\n",
    "    \n",
    "    return Ix2,Iy2,Ixy\n",
    "\n",
    "def corner_detect(gray,Ix2,Iy2,Ixy):\n",
    "    H,W=gray.shape\n",
    "    \n",
    "    out=np.array((gray,gray,gray))\n",
    "    out=np.transpose(out,(1,2,0))\n",
    "    \n",
    "    Hes=np.zeros((H,W))\n",
    "    \n",
    "    Hes=Ix2*Iy2-Ixy*Ixy\n",
    "    th=np.max(Hes)*0.1\n",
    "    corner=[]\n",
    "    for y in range(H):\n",
    "        for x in range(W):\n",
    "            if Hes[y,x]==np.max(Hes[max(y-1,0):min(y+2,H),max(x-1,0):min(x+2,W)]) and Hes[y,x]>th:\n",
    "                corner.append((y,x))\n",
    "                \n",
    "    for y,x in corner:\n",
    "        out[max(y-1,0):min(y+2,H),max(x-1,0):min(x+2,W)]=[0,0,255] #わかりやすさのために周囲を赤くする\n",
    "        \n",
    "    return out.astype(np.uint8)"
   ]
  },
  {
   "cell_type": "code",
   "execution_count": 4,
   "metadata": {},
   "outputs": [
    {
     "data": {
      "text/plain": [
       "True"
      ]
     },
     "execution_count": 4,
     "metadata": {},
     "output_type": "execute_result"
    }
   ],
   "source": [
    "Ix2,Iy2,Ixy=Sobel_filtering(graythorino.copy())\n",
    "ans1=corner_detect(graythorino.copy(),Ix2,Iy2,Ixy)\n",
    "cv2.imwrite(\"ans1.jpg\",ans1)"
   ]
  },
  {
   "cell_type": "code",
   "execution_count": 5,
   "metadata": {},
   "outputs": [],
   "source": [
    "def Harris_step1(gray,K_size=3,sigma=3,show_and_write=False):\n",
    "    Ix2,Iy2,Ixy=Sobel_filtering(gray)\n",
    "    \n",
    "    Ix2=cv2.GaussianBlur(Ix2,(K_size,K_size),sigmaX=3)\n",
    "    Iy2=cv2.GaussianBlur(Iy2,(K_size,K_size),sigmaX=3)\n",
    "    Ixy=cv2.GaussianBlur(Ixy,(K_size,K_size),sigmaX=3)\n",
    "    \n",
    "    output=[Ix2,Iy2,Ixy]\n",
    "    if show_and_write:\n",
    "        for index,img in enumerate(output,1):\n",
    "            cv2.imwrite(\"ans2_%s.jpg\" % index,img)\n",
    "            plt.subplot(1,3,index)\n",
    "            plt.imshow(img,cmap='gray')\n",
    "        plt.show()\n",
    "    \n",
    "    return Ix2,Iy2,Ixy"
   ]
  },
  {
   "cell_type": "code",
   "execution_count": 6,
   "metadata": {},
   "outputs": [
    {
     "data": {
      "image/png": "[encoded data removed]",
      "text/plain": [
       "<Figure size 432x288 with 3 Axes>"
      ]
     },
     "metadata": {
      "needs_background": "light"
     },
     "output_type": "display_data"
    }
   ],
   "source": [
    "ans2=graythorino.copy()\n",
    "Ix2,Iy2,Ixy=Harris_step1(ans2,show_and_write=True)"
   ]
  },
  {
   "cell_type": "code",
   "execution_count": 7,
   "metadata": {},
   "outputs": [],
   "source": [
    "def Harris_step2(gray,Ix2,Iy2,Ixy,k=0.04,th=0.1):\n",
    "    \n",
    "    R=Ix2*Iy2-Ixy**2-k*((Ix2+Iy2)**2)\n",
    "    ind=np.where(R>=np.max(R)*th)\n",
    "    \n",
    "    out=np.array((gray,gray,gray))\n",
    "    out=np.transpose(out,(1,2,0))\n",
    "    \n",
    "    out[ind]=(0,0,255)\n",
    "    \n",
    "    return out"
   ]
  },
  {
   "cell_type": "code",
   "execution_count": 8,
   "metadata": {},
   "outputs": [
    {
     "data": {
      "text/plain": [
       "True"
      ]
     },
     "execution_count": 8,
     "metadata": {},
     "output_type": "execute_result"
    }
   ],
   "source": [
    "Ix2,Iy2,Ixy=Harris_step1(ans2,show_and_write=False)\n",
    "ans3=Harris_step2(graythorino.copy(),Ix2,Iy2,Ixy)\n",
    "cv2.imwrite(\"ans3.jpg\",ans3)"
   ]
  },
  {
   "cell_type": "code",
   "execution_count": 9,
   "metadata": {},
   "outputs": [],
   "source": [
    "import glob\n",
    "import os.path as osp\n",
    "\n",
    "def dic_color(img):\n",
    "    img//=63\n",
    "    img=img*64+32\n",
    "    return img\n",
    "\n",
    "def make_hist(akahara_path=\"./dataset/train_akahara_*.jpg\",madara_path=\"./dataset/train_madara_*.jpg\"):\n",
    "    impaths=glob.glob(akahara_path)\n",
    "    impaths=sorted(impaths)\n",
    "    datasets=np.zeros((10,13),dtype=np.int) # 学習枚数*(bins12+class)\n",
    "    fnames=[0]*10\n",
    "    \n",
    "    index=0\n",
    "    for i in impaths:\n",
    "        fnames[index]=osp.basename(i)\n",
    "        datasets[index][12]=0 # 0 is akahara\n",
    "        img=cv2.imread(i)\n",
    "        decreased=dic_color(img)\n",
    "        R=decreased[...,2]\n",
    "        G=decreased[...,1]\n",
    "        B=decreased[...,0]\n",
    "        \n",
    "        num=-32\n",
    "        for j in range(4):\n",
    "            num+=64\n",
    "            datasets[index,j]=np.count_nonzero(B==num)\n",
    "            datasets[index,j+4]=np.count_nonzero(G==num)\n",
    "            datasets[index,j+8]=np.count_nonzero(R==num)\n",
    "        index+=1\n",
    "    \n",
    "    impaths=glob.glob(madara_path)\n",
    "    impaths=sorted(impaths)\n",
    "    for i in impaths:\n",
    "        fnames[index]=osp.basename(i)\n",
    "        datasets[index][12]=1 # 0 is akahara\n",
    "        img=cv2.imread(i)\n",
    "        decreased=dic_color(img)\n",
    "        R=decreased[...,2]\n",
    "        G=decreased[...,1]\n",
    "        B=decreased[...,0]\n",
    "        \n",
    "        num=-32\n",
    "        for j in range(4):\n",
    "            num+=64\n",
    "            datasets[index,j]=np.count_nonzero(B==num)\n",
    "            datasets[index,j+4]=np.count_nonzero(G==num)\n",
    "            datasets[index,j+8]=np.count_nonzero(R==num)\n",
    "        index+=1\n",
    "            \n",
    "    return datasets,fnames\n",
    "\n",
    "def show_hist_for_4(datasets,fnames):\n",
    "        for i,data in enumerate(datasets,1):\n",
    "            plt.subplot(2,5,i)\n",
    "            plt.bar(np.arange(12),data[:12])\n",
    "            plt.title(\"%s\" % fnames[i-1])\n",
    "            \n",
    "        plt.savefig(\"ans4.jpg\")\n",
    "        plt.show()"
   ]
  },
  {
   "cell_type": "code",
   "execution_count": 10,
   "metadata": {},
   "outputs": [
    {
     "data": {
      "image/png": "[encoded data removed]",
      "text/plain": [
       "<Figure size 432x288 with 10 Axes>"
      ]
     },
     "metadata": {
      "needs_background": "light"
     },
     "output_type": "display_data"
    }
   ],
   "source": [
    "datasets,fnames=make_hist()\n",
    "show_hist_for_4(datasets,fnames)"
   ]
  },
  {
   "cell_type": "code",
   "execution_count": 11,
   "metadata": {},
   "outputs": [],
   "source": [
    "def test(datasets,fnames,testpath=\"./dataset/test_*.jpg\",print_acc=False):\n",
    "    impaths=glob.glob(testpath)\n",
    "    impaths=sorted(impaths)\n",
    "    data_n=len(impaths)\n",
    "    acc=0.\n",
    "    for path in impaths:\n",
    "        f=osp.basename(path)\n",
    "        if f[5]=='a':\n",
    "            gt=0\n",
    "        else:\n",
    "            gt=1\n",
    "        img=dic_color(cv2.imread(path))\n",
    "        \n",
    "        R=img[...,2]\n",
    "        G=img[...,1]\n",
    "        B=img[...,0]\n",
    "        num=-32\n",
    "        testhist=np.zeros((12),dtype=np.int)\n",
    "        for j in range(4):\n",
    "            num+=64\n",
    "            testhist[j]=np.count_nonzero(B==num)\n",
    "            testhist[j+4]=np.count_nonzero(G==num)\n",
    "            testhist[j+8]=np.count_nonzero(R==num)\n",
    "        diff=10e50\n",
    "        ans=[None,None]\n",
    "        for i,data in enumerate(datasets):\n",
    "            tmp=np.sum(np.abs(data[:12]-testhist))\n",
    "            if tmp<diff:\n",
    "                diff=tmp\n",
    "                ans=[data[12],fnames[i]]\n",
    "        if ans[0]==gt:\n",
    "            acc+=1.\n",
    "        if ans[0]==0:\n",
    "            ans[0]=\"akahara\"\n",
    "        else:\n",
    "            ans[0]=\"madara\"\n",
    "        if print_acc==False:\n",
    "            print(\"%s is similar >> %s Pred >> %s\" % (f,ans[1],ans[0]))\n",
    "    if print_acc:\n",
    "        print(\"{:.2f}%\".format(acc/data_n*100))\n",
    "    print(\"finishi prediction\")"
   ]
  },
  {
   "cell_type": "code",
   "execution_count": 12,
   "metadata": {},
   "outputs": [
    {
     "name": "stdout",
     "output_type": "stream",
     "text": [
      "test_akahara_1.jpg is similar >> train_akahara_3.jpg Pred >> akahara\n",
      "test_akahara_2.jpg is similar >> train_akahara_1.jpg Pred >> akahara\n",
      "test_madara_1.jpg is similar >> train_madara_2.jpg Pred >> madara\n",
      "test_madara_2.jpg is similar >> train_akahara_2.jpg Pred >> akahara\n",
      "finishi prediction\n"
     ]
    }
   ],
   "source": [
    "test(datasets,fnames) # ans5"
   ]
  },
  {
   "cell_type": "code",
   "execution_count": 13,
   "metadata": {},
   "outputs": [
    {
     "name": "stdout",
     "output_type": "stream",
     "text": [
      "75.00%\n",
      "finishi prediction\n"
     ]
    }
   ],
   "source": [
    "test(datasets,fnames,print_acc=True) # ans6"
   ]
  },
  {
   "cell_type": "code",
   "execution_count": 14,
   "metadata": {},
   "outputs": [],
   "source": [
    "def K_nearest_neghibor(datasets,fnames,K=3,testpath=\"./dataset/test_*.jpg\"):\n",
    "    impaths=glob.glob(testpath)\n",
    "    impaths=sorted(impaths)\n",
    "    data_n=len(impaths)\n",
    "    acc=0.\n",
    "    for path in impaths:\n",
    "        f=osp.basename(path)\n",
    "        if f[5]=='a':\n",
    "            gt=0\n",
    "        else:\n",
    "            gt=1\n",
    "        img=dic_color(cv2.imread(path))\n",
    "        \n",
    "        R=img[...,2]\n",
    "        G=img[...,1]\n",
    "        B=img[...,0]\n",
    "        num=-32\n",
    "        testhist=np.zeros((12),dtype=np.int)\n",
    "        for j in range(4):\n",
    "            num+=64\n",
    "            testhist[j]=np.count_nonzero(B==num)\n",
    "            testhist[j+4]=np.count_nonzero(G==num)\n",
    "            testhist[j+8]=np.count_nonzero(R==num)\n",
    "        diff=[]\n",
    "        dic={}\n",
    "        for i,data in enumerate(datasets):\n",
    "            tmp=np.sum(np.abs(data[:12]-testhist))\n",
    "            diff.append(tmp)\n",
    "            dic[tmp]=(data[12],fnames[i])\n",
    "        diff=sorted(diff)\n",
    "        cnt=0\n",
    "        ans=[1,\"\"]\n",
    "        for i in range(K):\n",
    "            if dic[diff[i]][0]==0:\n",
    "                cnt+=1\n",
    "            ans[1]+=str(dic[diff[i]][1])\n",
    "        if K//2<cnt:\n",
    "            ans[0]=0\n",
    "        \n",
    "        if ans[0]==gt:\n",
    "            acc+=1.\n",
    "        if ans[0]==0:\n",
    "            ans[0]=\"akahara\"\n",
    "        else:\n",
    "            ans[0]=\"madara\"\n",
    "        print(\"%s is similar >> %s Pred >> %s\" % (f,ans[1],ans[0]))\n",
    "\n",
    "    print(\"{:.2f}%\".format(acc/data_n*100))\n",
    "    print(\"finishi prediction\")"
   ]
  },
  {
   "cell_type": "code",
   "execution_count": 15,
   "metadata": {},
   "outputs": [
    {
     "name": "stdout",
     "output_type": "stream",
     "text": [
      "test_akahara_1.jpg is similar >> train_akahara_3.jpgtrain_akahara_2.jpgtrain_akahara_4.jpg Pred >> akahara\n",
      "test_akahara_2.jpg is similar >> train_akahara_1.jpgtrain_akahara_2.jpgtrain_akahara_4.jpg Pred >> akahara\n",
      "test_madara_1.jpg is similar >> train_madara_2.jpgtrain_madara_4.jpgtrain_madara_3.jpg Pred >> madara\n",
      "test_madara_2.jpg is similar >> train_akahara_2.jpgtrain_madara_3.jpgtrain_madara_2.jpg Pred >> madara\n",
      "100.00%\n",
      "finishi prediction\n"
     ]
    }
   ],
   "source": [
    "K_nearest_neghibor(datasets,fnames) # ans7"
   ]
  },
  {
   "cell_type": "code",
   "execution_count": 16,
   "metadata": {},
   "outputs": [],
   "source": [
    "def K_means_step1(th=0.5):\n",
    "    np.random.seed(1)\n",
    "    datasets,fnames=make_hist()\n",
    "    \n",
    "    gs=np.zeros((2,12),dtype=np.float32)\n",
    "    cnt=0.\n",
    "    for data in datasets:\n",
    "        cls=0\n",
    "        if np.random.randn()>=th:\n",
    "            cls=1\n",
    "            cnt+=1.\n",
    "        data[12]=cls\n",
    "        gs[cls]+=data[:12]\n",
    "    gs[0]/=(len(datasets)-cnt)\n",
    "    gs[1]/=cnt\n",
    "    \n",
    "    return gs "
   ]
  },
  {
   "cell_type": "code",
   "execution_count": 17,
   "metadata": {},
   "outputs": [
    {
     "data": {
      "text/plain": [
       "array([[3878.    , 7264.4287, 3908.8572, 1332.7142, 3352.8572, 6670.7144,\n",
       "        4785.7144, 1574.7142, 3003.1428, 6847.2856, 4709.857 , 1823.7142],\n",
       "       [2221.3333, 8101.6665, 4392.    , 1669.    , 1932.6666, 8013.6665,\n",
       "        4963.3335, 1474.3334, 1858.6666, 7336.6665, 4471.    , 2717.6667]],\n",
       "      dtype=float32)"
      ]
     },
     "execution_count": 17,
     "metadata": {},
     "output_type": "execute_result"
    }
   ],
   "source": [
    "K_means_step1() # ans8"
   ]
  },
  {
   "cell_type": "code",
   "execution_count": 18,
   "metadata": {},
   "outputs": [],
   "source": [
    "def K_means_step2(th=0.5):\n",
    "    np.random.seed(1)\n",
    "    datasets,fnames=make_hist()\n",
    "    \n",
    "    gs=np.zeros((2,12),dtype=np.float32)\n",
    "    for i in range(len(datasets)):\n",
    "        cls=0\n",
    "        if np.random.randn()>=th:\n",
    "            cls=1\n",
    "        datasets[i,12]=cls\n",
    "    \n",
    "    while True:\n",
    "        cnt=0\n",
    "        for i in range(2):\n",
    "            gs[i]=np.mean(datasets[np.where(datasets[...,12]==i)[0],:12],axis=0)\n",
    "        \n",
    "        for i in range(len(datasets)):\n",
    "            dis=np.sqrt(np.sum(np.square(np.abs(gs-datasets[i,:12])),axis=1))\n",
    "            \n",
    "            pred=np.argmin(dis,axis=0)\n",
    "            \n",
    "            if datasets[i,12]!=pred:\n",
    "                cnt+=1\n",
    "                datasets[i,12]=pred\n",
    "        if cnt==0:\n",
    "            break\n",
    "        \n",
    "    for i in range(len(datasets)):\n",
    "        print(\"%s -> Pred: %s\" % (fnames[i], datasets[i,12]))"
   ]
  },
  {
   "cell_type": "code",
   "execution_count": 19,
   "metadata": {},
   "outputs": [
    {
     "name": "stdout",
     "output_type": "stream",
     "text": [
      "train_akahara_1.jpg -> Pred: 1\n",
      "train_akahara_2.jpg -> Pred: 1\n",
      "train_akahara_3.jpg -> Pred: 1\n",
      "train_akahara_4.jpg -> Pred: 1\n",
      "train_akahara_5.jpg -> Pred: 1\n",
      "train_madara_1.jpg -> Pred: 1\n",
      "train_madara_2.jpg -> Pred: 0\n",
      "train_madara_3.jpg -> Pred: 0\n",
      "train_madara_4.jpg -> Pred: 0\n",
      "train_madara_5.jpg -> Pred: 0\n"
     ]
    }
   ],
   "source": [
    "K_means_step2() # ans9"
   ]
  },
  {
   "cell_type": "code",
   "execution_count": 20,
   "metadata": {},
   "outputs": [],
   "source": [
    "def K_means_step3(th=0.5,seed=1):\n",
    "    np.random.seed(seed)\n",
    "    datasets,fnames=make_hist()\n",
    "    \n",
    "    gs=np.zeros((2,12),dtype=np.float32)\n",
    "    for i in range(len(datasets)):\n",
    "        cls=0\n",
    "        if np.random.randn()>=th:\n",
    "            cls=1\n",
    "        datasets[i,12]=cls\n",
    "    \n",
    "    while True:\n",
    "        cnt=0\n",
    "        for i in range(2):\n",
    "            gs[i]=np.mean(datasets[np.where(datasets[...,12]==i)[0],:12],axis=0)\n",
    "        \n",
    "        for i in range(len(datasets)):\n",
    "            dis=np.sqrt(np.sum(np.square(np.abs(gs-datasets[i,:12])),axis=1))\n",
    "            \n",
    "            pred=np.argmin(dis,axis=0)\n",
    "            \n",
    "            if datasets[i,12]!=pred:\n",
    "                cnt+=1\n",
    "                datasets[i,12]=pred\n",
    "        if cnt==0:\n",
    "            break\n",
    "        \n",
    "    for i in range(len(datasets)):\n",
    "        print(\"%s -> Pred: %s\" % (fnames[i], datasets[i,12]))"
   ]
  },
  {
   "cell_type": "code",
   "execution_count": 21,
   "metadata": {},
   "outputs": [
    {
     "name": "stdout",
     "output_type": "stream",
     "text": [
      "train_akahara_1.jpg -> Pred: 0\n",
      "train_akahara_2.jpg -> Pred: 0\n",
      "train_akahara_3.jpg -> Pred: 0\n",
      "train_akahara_4.jpg -> Pred: 0\n",
      "train_akahara_5.jpg -> Pred: 0\n",
      "train_madara_1.jpg -> Pred: 1\n",
      "train_madara_2.jpg -> Pred: 1\n",
      "train_madara_3.jpg -> Pred: 1\n",
      "train_madara_4.jpg -> Pred: 1\n",
      "train_madara_5.jpg -> Pred: 1\n"
     ]
    }
   ],
   "source": [
    "K_means_step3(th=0.5,seed=6) # ans10"
   ]
  }
 ],
 "metadata": {
  "kernelspec": {
   "display_name": "Python 3",
   "language": "python",
   "name": "python3"
  },
  "language_info": {
   "codemirror_mode": {
    "name": "ipython",
    "version": 3
   },
   "file_extension": ".py",
   "mimetype": "text/x-python",
   "name": "python",
   "nbconvert_exporter": "python",
   "pygments_lexer": "ipython3",
   "version": "3.7.6"
  }
 },
 "nbformat": 4,
 "nbformat_minor": 4
}
