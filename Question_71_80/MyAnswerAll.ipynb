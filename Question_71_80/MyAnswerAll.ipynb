{
 "cells": [
  {
   "cell_type": "code",
   "execution_count": 1,
   "metadata": {},
   "outputs": [],
   "source": [
    "import cv2\n",
    "import numpy as np"
   ]
  },
  {
   "cell_type": "code",
   "execution_count": 2,
   "metadata": {},
   "outputs": [],
   "source": [
    "imori=cv2.imread(\"imori.jpg\").astype(np.float32)\n",
    "grayimori=cv2.cvtColor(imori.copy(),cv2.COLOR_BGR2GRAY).astype(np.float32)"
   ]
  },
  {
   "cell_type": "code",
   "execution_count": 3,
   "metadata": {},
   "outputs": [],
   "source": [
    "def get_mask(img):\n",
    "    output=img.copy()\n",
    "    hsv=cv2.cvtColor(img,cv2.COLOR_BGR2HSV)\n",
    "    ind=np.where((hsv[...,0]>=180) & (hsv[...,0]<=260))\n",
    "    return ind\n",
    "def mask_blue(img,ind):\n",
    "    img[ind]=[0,0,0]\n",
    "    return img.astype(np.uint8)"
   ]
  },
  {
   "cell_type": "code",
   "execution_count": 4,
   "metadata": {},
   "outputs": [
    {
     "data": {
      "text/plain": [
       "True"
      ]
     },
     "execution_count": 4,
     "metadata": {},
     "output_type": "execute_result"
    }
   ],
   "source": [
    "ans1=imori.copy()\n",
    "ind=get_mask(ans1)\n",
    "ans1=mask_blue(ans1,ind)\n",
    "cv2.imwrite(\"ans1.jpg\",ans1)"
   ]
  },
  {
   "cell_type": "code",
   "execution_count": 5,
   "metadata": {},
   "outputs": [],
   "source": [
    "def Erode(img, Erode_time=1):\n",
    "    H, W = img.shape\n",
    "    out = img.copy()\n",
    "\n",
    "    # kernel\n",
    "    MF = np.array(((0, 1, 0),\n",
    "                (1, 0, 1),\n",
    "                (0, 1, 0)), dtype=np.int)\n",
    "\n",
    "    # each erode\n",
    "    for i in range(Erode_time):\n",
    "        tmp = np.pad(out, (1, 1), 'edge')\n",
    "        # erode\n",
    "        for y in range(1, H + 1):\n",
    "            for x in range(1, W + 1):\n",
    "                if np.sum(MF * tmp[y - 1 : y + 2 , x - 1 : x + 2]) < 1 * 4:\n",
    "                    out[y - 1, x - 1] = 0\n",
    "\n",
    "    return out\n",
    "\n",
    "def Dilate(img, Dil_time=1):\n",
    "    H, W = img.shape\n",
    "\n",
    "    # kernel\n",
    "    MF = np.array(((0, 1, 0),\n",
    "                (1, 0, 1),\n",
    "                (0, 1, 0)), dtype=np.int)\n",
    "\n",
    "    # each dilate time\n",
    "    out = img.copy()\n",
    "    for i in range(Dil_time):\n",
    "        tmp = np.pad(out, (1, 1), 'edge')\n",
    "        for y in range(1, H + 1):\n",
    "            for x in range(1, W + 1):\n",
    "                if np.sum(MF * tmp[y - 1 : y + 2, x - 1 : x + 2]) >= 1:\n",
    "                    out[y - 1, x - 1] = 1\n",
    "\n",
    "    return out\n",
    "\n",
    "def Morphology_Opening(img, time=1):\n",
    "    out = Erode(img, Erode_time=time)\n",
    "    out = Dilate(out, Dil_time=time)\n",
    "    return out\n",
    "\n",
    "def Morphology_Closing(img, time=1):\n",
    "    out = Dilate(img, Dil_time=time)\n",
    "    out = Erode(out, Erode_time=time)\n",
    "    return out\n",
    "\n",
    "def masking(img,mask):\n",
    "    ind=np.where(mask==1)\n",
    "    img[ind]=[0,0,0]\n",
    "    return img\n",
    "\n",
    "def mask_and_morphology(img):\n",
    "    H,W,C=img.shape\n",
    "    ind=get_mask(img)\n",
    "    mask=np.zeros((H,W),dtype=np.uint8)\n",
    "    mask[ind]=255\n",
    "\n",
    "    mask=Morphology_Closing(mask,time=5)\n",
    "    mask=Morphology_Opening(mask,time=5)\n",
    "    out=masking(img,mask)\n",
    "    return out"
   ]
  },
  {
   "cell_type": "code",
   "execution_count": 6,
   "metadata": {},
   "outputs": [
    {
     "data": {
      "text/plain": [
       "True"
      ]
     },
     "execution_count": 6,
     "metadata": {},
     "output_type": "execute_result"
    }
   ],
   "source": [
    "ans2=imori.copy()\n",
    "ans2=mask_and_morphology(ans2)\n",
    "cv2.imwrite(\"ans2.jpg\",ans2)"
   ]
  },
  {
   "cell_type": "code",
   "execution_count": 7,
   "metadata": {},
   "outputs": [],
   "source": [
    "def bl_interpolate(img, ax=1., ay=1.):\n",
    "    if len(img.shape) > 2:\n",
    "        H, W, C = img.shape\n",
    "    else:\n",
    "        H, W = img.shape\n",
    "        C = 1\n",
    "\n",
    "    aH = int(ay * H)\n",
    "    aW = int(ax * W)\n",
    "\n",
    "    # get position of resized image\n",
    "    y = np.arange(aH).repeat(aW).reshape(aW, -1)\n",
    "    x = np.tile(np.arange(aW), (aH, 1))\n",
    "\n",
    "    # get position of original position\n",
    "    y = (y / ay)\n",
    "    x = (x / ax)\n",
    "\n",
    "    ix = np.floor(x).astype(np.int)\n",
    "    iy = np.floor(y).astype(np.int)\n",
    "\n",
    "    ix = np.minimum(ix, W-2)\n",
    "    iy = np.minimum(iy, H-2)\n",
    "\n",
    "    # get distance \n",
    "    dx = x - ix\n",
    "    dy = y - iy\n",
    "\n",
    "    if C > 1:\n",
    "        dx = np.repeat(np.expand_dims(dx, axis=-1), C, axis=-1)\n",
    "        dy = np.repeat(np.expand_dims(dy, axis=-1), C, axis=-1)\n",
    "\n",
    "    # interpolation\n",
    "    out = (1-dx) * (1-dy) * img[iy, ix] + dx * (1 - dy) * img[iy, ix+1] + (1 - dx) * dy * img[iy+1, ix] + dx * dy * img[iy+1, ix+1]\n",
    "\n",
    "#     out = np.clip(out, 0, 255)\n",
    "#     out = out.astype(np.uint8)\n",
    "\n",
    "    return out"
   ]
  },
  {
   "cell_type": "code",
   "execution_count": 8,
   "metadata": {},
   "outputs": [
    {
     "data": {
      "text/plain": [
       "True"
      ]
     },
     "execution_count": 8,
     "metadata": {},
     "output_type": "execute_result"
    }
   ],
   "source": [
    "ans3=imori.copy()\n",
    "gray=cv2.cvtColor(ans3,cv2.COLOR_BGR2GRAY).astype(np.float32)\n",
    "tmp=bl_interpolate(gray,0.5,0.5)\n",
    "output=bl_interpolate(tmp,2.,2.)\n",
    "output=np.clip(output,0,255)\n",
    "output=output.astype(np.uint8)\n",
    "cv2.imwrite(\"ans3.jpg\",output)"
   ]
  },
  {
   "cell_type": "code",
   "execution_count": 9,
   "metadata": {},
   "outputs": [],
   "source": [
    "def diff_(img,diff):\n",
    "    out=np.abs(img-diff).astype(np.float)\n",
    "    \n",
    "    out=out/np.max(out)*255\n",
    "    \n",
    "    return out.astype(np.uint8)"
   ]
  },
  {
   "cell_type": "code",
   "execution_count": 10,
   "metadata": {},
   "outputs": [
    {
     "data": {
      "text/plain": [
       "True"
      ]
     },
     "execution_count": 10,
     "metadata": {},
     "output_type": "execute_result"
    }
   ],
   "source": [
    "ans4=imori.copy()\n",
    "ans4=cv2.cvtColor(ans4,cv2.COLOR_BGR2GRAY).astype(np.float32)\n",
    "tmp=bl_interpolate(ans4.copy(),0.5,0.5)\n",
    "output=bl_interpolate(tmp,2.,2.)\n",
    "out=diff_(ans4,output)\n",
    "cv2.imwrite(\"ans4.jpg\",out)"
   ]
  },
  {
   "cell_type": "code",
   "execution_count": 11,
   "metadata": {},
   "outputs": [],
   "source": [
    "import matplotlib.pyplot as plt\n",
    "%matplotlib inline\n",
    "\n",
    "def Gaussian_pyramid(gray):\n",
    "    pyramids=[]\n",
    "    div=2.\n",
    "    for i in range(6):\n",
    "        div/=2.\n",
    "        pyramids.append(bl_interpolate(gray,ax=div,ay=div))\n",
    "    \n",
    "    return pyramids\n",
    "\n",
    "def show_pyramids(pyramids,fname):\n",
    "    for i,img in enumerate(pyramids,1):\n",
    "        cv2.imwrite(\"%s_%s.jpg\" % (fname,i),img)\n",
    "        plt.subplot(1,6,i)\n",
    "        plt.imshow(img,cmap='gray')\n",
    "        plt.axis('off')\n",
    "        plt.xticks(color='None')\n",
    "        plt.yticks(color='None')\n",
    "    plt.show()"
   ]
  },
  {
   "cell_type": "code",
   "execution_count": 12,
   "metadata": {},
   "outputs": [
    {
     "data": {
      "image/png": "[encoded data removed]",
      "text/plain": [
       "<Figure size 432x288 with 6 Axes>"
      ]
     },
     "metadata": {
      "needs_background": "light"
     },
     "output_type": "display_data"
    }
   ],
   "source": [
    "ans5=imori.copy()\n",
    "ans5=cv2.cvtColor(ans5,cv2.COLOR_BGR2GRAY).astype(np.float32)\n",
    "pyramids=Gaussian_pyramid(ans5)\n",
    "show_pyramids(pyramids,'ans5')"
   ]
  },
  {
   "cell_type": "code",
   "execution_count": 13,
   "metadata": {},
   "outputs": [],
   "source": [
    "def diff_images(img1,img2):\n",
    "    output=np.abs(img1-img2)\n",
    "    return output\n",
    "\n",
    "def saliency_map(tmp):\n",
    "    pyramids=[]\n",
    "    ratio=0.5\n",
    "    for i in tmp:\n",
    "        ratio*=2.\n",
    "        pyramids.append(bl_interpolate(i,ax=ratio,ay=ratio))\n",
    "    \n",
    "    indexs=[[0,1],[0,3],[0,5],[1,4],[2,3],[3,5]]\n",
    "    sums=np.zeros_like(pyramids[0],dtype=np.float)\n",
    "    for i,j in indexs:\n",
    "#         print(pyramids[i].shape,pyramids[j].shape)\n",
    "        sums+=diff_images(pyramids[i],pyramids[j])\n",
    "    \n",
    "    output=sums/np.max(sums)*255\n",
    "    \n",
    "    return output"
   ]
  },
  {
   "cell_type": "code",
   "execution_count": 14,
   "metadata": {},
   "outputs": [
    {
     "data": {
      "text/plain": [
       "True"
      ]
     },
     "execution_count": 14,
     "metadata": {},
     "output_type": "execute_result"
    }
   ],
   "source": [
    "pyramids=Gaussian_pyramid(grayimori.copy())\n",
    "ans6=saliency_map(pyramids).astype(np.uint8)\n",
    "cv2.imwrite(\"ans6.jpg\",ans6)"
   ]
  },
  {
   "cell_type": "code",
   "execution_count": 15,
   "metadata": {},
   "outputs": [],
   "source": [
    "def Gabor_filter(K=111,s=10.,g=1.2,l=10.,p=0.,A=0.):\n",
    "    G=np.zeros((K,K),dtype=np.float)\n",
    "    d=K//2\n",
    "    \n",
    "    for y in range(K):\n",
    "        for x in range(K):\n",
    "            theta=A/180.*np.pi\n",
    "            dx=np.cos(theta)*(-d+x)+np.sin(theta)*(-d+y)\n",
    "            dy=-np.sin(theta)*(-d+x)+np.cos(theta)*(-d+y)\n",
    "            G[y,x]=np.exp(-(dx*dx+g*g*dy*dy)/(2*s*s))*np.cos(2*np.pi*dx/l+p)\n",
    "            \n",
    "    return G"
   ]
  },
  {
   "cell_type": "code",
   "execution_count": 16,
   "metadata": {},
   "outputs": [
    {
     "data": {
      "text/plain": [
       "True"
      ]
     },
     "execution_count": 16,
     "metadata": {},
     "output_type": "execute_result"
    }
   ],
   "source": [
    "ans7=Gabor_filter()\n",
    "ans7=(ans7-np.min(ans7))/(np.max(ans7)-np.min(ans7))*255\n",
    "cv2.imwrite(\"ans7.jpg\",ans7.astype(np.uint8))"
   ]
  },
  {
   "cell_type": "code",
   "execution_count": 17,
   "metadata": {},
   "outputs": [],
   "source": [
    "def rot_gabor():\n",
    "    angles=np.arange(4)*45\n",
    "    for i,A in enumerate(angles,1):\n",
    "        out=Gabor_filter(A=A)\n",
    "        out=((out-np.min(out))/(np.max(out)-np.min(out))*255).astype(np.uint8)\n",
    "        cv2.imwrite(\"ans8_%s.jpg\" % A,out)\n",
    "        plt.subplot(1,4,i)\n",
    "        plt.imshow(out,cmap='gray')\n",
    "        plt.title(\"angle %s\" % A)\n",
    "        plt.axis(\"off\")\n",
    "        plt.xticks(color=\"None\")\n",
    "        plt.yticks(color=\"None\")\n",
    "    plt.show()"
   ]
  },
  {
   "cell_type": "code",
   "execution_count": 18,
   "metadata": {},
   "outputs": [
    {
     "data": {
      "image/png": "[encoded data removed]",
      "text/plain": [
       "<Figure size 432x288 with 4 Axes>"
      ]
     },
     "metadata": {
      "needs_background": "light"
     },
     "output_type": "display_data"
    }
   ],
   "source": [
    "rot_gabor() # ans8"
   ]
  },
  {
   "cell_type": "code",
   "execution_count": 19,
   "metadata": {},
   "outputs": [],
   "source": [
    "def Gabor_filtering(gray,K=111,s=10.,g=1.2,l=10.,p=0.,A=0.):\n",
    "    H,W=gray.shape\n",
    "    gray=np.pad(gray,(K//2,K//2),'edge')\n",
    "    \n",
    "    out=np.zeros((H,W),dtype=np.float32)\n",
    "    gabor=Gabor_filter(K=K,s=s,g=g,l=l,p=p,A=A)\n",
    "    \n",
    "    for y in range(H):\n",
    "        for x in range(W):\n",
    "            out[y,x]=np.sum(gray[y:y+K,x:x+K]*gabor)\n",
    "    \n",
    "    out=np.clip(out,0,255).astype(np.uint8)\n",
    "    \n",
    "    return out\n",
    "\n",
    "def process_for_ans9(gray):\n",
    "    angles=np.arange(4)*45\n",
    "    \n",
    "    for i,A in enumerate(angles,1):\n",
    "        out=Gabor_filtering(gray.copy(),K=11,s=1.5,g=1.2,l=3.,p=0.,A=A)\n",
    "        cv2.imwrite(\"ans9_%s.jpg\" % A, out)\n",
    "        plt.subplot(1,4,i)\n",
    "        plt.imshow(out,cmap='gray')\n",
    "        plt.title(\"angle %s\" % A)\n",
    "        plt.axis('off')\n",
    "        plt.xticks(color=\"None\")\n",
    "        plt.yticks(color=\"None\")"
   ]
  },
  {
   "cell_type": "code",
   "execution_count": 20,
   "metadata": {},
   "outputs": [
    {
     "data": {
      "image/png": "[encoded data removed]",
      "text/plain": [
       "<Figure size 432x288 with 4 Axes>"
      ]
     },
     "metadata": {
      "needs_background": "light"
     },
     "output_type": "display_data"
    }
   ],
   "source": [
    "ans9=grayimori.copy()\n",
    "process_for_ans9(ans9)"
   ]
  },
  {
   "cell_type": "code",
   "execution_count": 21,
   "metadata": {},
   "outputs": [],
   "source": [
    "def extract_features_by_gabor(gray):\n",
    "    angles=np.arange(4)*45\n",
    "    \n",
    "    output=np.zeros_like(gray,dtype=np.uint8)\n",
    "    for i,A in enumerate(angles,1):\n",
    "        tmp=Gabor_filtering(gray.copy(),K=11,s=1.5,g=1.2,l=3.,p=0.,A=A)\n",
    "        output+=tmp\n",
    "    output=np.clip(output/4.,0,255).astype(np.uint8)\n",
    "    \n",
    "    return output"
   ]
  },
  {
   "cell_type": "code",
   "execution_count": 22,
   "metadata": {},
   "outputs": [
    {
     "data": {
      "text/plain": [
       "True"
      ]
     },
     "execution_count": 22,
     "metadata": {},
     "output_type": "execute_result"
    }
   ],
   "source": [
    "ans10=grayimori.copy()\n",
    "ans10=extract_features_by_gabor(ans10)\n",
    "cv2.imwrite(\"ans10.jpg\",ans10)"
   ]
  }
 ],
 "metadata": {
  "kernelspec": {
   "display_name": "Python 3",
   "language": "python",
   "name": "python3"
  },
  "language_info": {
   "codemirror_mode": {
    "name": "ipython",
    "version": 3
   },
   "file_extension": ".py",
   "mimetype": "text/x-python",
   "name": "python",
   "nbconvert_exporter": "python",
   "pygments_lexer": "ipython3",
   "version": "3.7.6"
  }
 },
 "nbformat": 4,
 "nbformat_minor": 4
}
