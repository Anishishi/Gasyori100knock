{
 "cells": [
  {
   "cell_type": "code",
   "execution_count": 1,
   "metadata": {},
   "outputs": [],
   "source": [
    "import cv2\n",
    "import numpy as np"
   ]
  },
  {
   "cell_type": "code",
   "execution_count": 2,
   "metadata": {},
   "outputs": [],
   "source": [
    "imori=cv2.imread(\"imori.jpg\").astype(np.float32)"
   ]
  },
  {
   "cell_type": "code",
   "execution_count": 13,
   "metadata": {},
   "outputs": [],
   "source": [
    "def get_mask(img):\n",
    "    output=img.copy()\n",
    "    hsv=cv2.cvtColor(img,cv2.COLOR_BGR2HSV)\n",
    "    ind=np.where((hsv[...,0]>=180) & (hsv[...,0]<=260))\n",
    "    return ind\n",
    "def mask_blue(img,ind):\n",
    "    img[ind]=[0,0,0]\n",
    "    return img.astype(np.uint8)"
   ]
  },
  {
   "cell_type": "code",
   "execution_count": 14,
   "metadata": {},
   "outputs": [
    {
     "data": {
      "text/plain": [
       "True"
      ]
     },
     "execution_count": 14,
     "metadata": {},
     "output_type": "execute_result"
    }
   ],
   "source": [
    "ans1=imori.copy()\n",
    "ind=get_mask(ans1)\n",
    "ans1=mask_blue(ans1,ind)\n",
    "cv2.imwrite(\"ans1.jpg\",ans1)"
   ]
  },
  {
   "cell_type": "code",
   "execution_count": 33,
   "metadata": {},
   "outputs": [],
   "source": [
    "def Erode(img, Erode_time=1):\n",
    "    H, W = img.shape\n",
    "    out = img.copy()\n",
    "\n",
    "    # kernel\n",
    "    MF = np.array(((0, 1, 0),\n",
    "                (1, 0, 1),\n",
    "                (0, 1, 0)), dtype=np.int)\n",
    "\n",
    "    # each erode\n",
    "    for i in range(Erode_time):\n",
    "        tmp = np.pad(out, (1, 1), 'edge')\n",
    "        # erode\n",
    "        for y in range(1, H + 1):\n",
    "            for x in range(1, W + 1):\n",
    "                if np.sum(MF * tmp[y - 1 : y + 2 , x - 1 : x + 2]) < 1 * 4:\n",
    "                    out[y - 1, x - 1] = 0\n",
    "\n",
    "    return out\n",
    "\n",
    "def Dilate(img, Dil_time=1):\n",
    "    H, W = img.shape\n",
    "\n",
    "    # kernel\n",
    "    MF = np.array(((0, 1, 0),\n",
    "                (1, 0, 1),\n",
    "                (0, 1, 0)), dtype=np.int)\n",
    "\n",
    "    # each dilate time\n",
    "    out = img.copy()\n",
    "    for i in range(Dil_time):\n",
    "        tmp = np.pad(out, (1, 1), 'edge')\n",
    "        for y in range(1, H + 1):\n",
    "            for x in range(1, W + 1):\n",
    "                if np.sum(MF * tmp[y - 1 : y + 2, x - 1 : x + 2]) >= 1:\n",
    "                    out[y - 1, x - 1] = 1\n",
    "\n",
    "    return out\n",
    "\n",
    "def Morphology_Opening(img, time=1):\n",
    "    out = Erode(img, Erode_time=time)\n",
    "    out = Dilate(out, Dil_time=time)\n",
    "    return out\n",
    "\n",
    "def Morphology_Closing(img, time=1):\n",
    "    out = Dilate(img, Dil_time=time)\n",
    "    out = Erode(out, Erode_time=time)\n",
    "    return out\n",
    "\n",
    "def masking(img,mask):\n",
    "    ind=np.where(mask==1)\n",
    "    img[ind]=[0,0,0]\n",
    "    return img\n",
    "\n",
    "def mask_and_morphology(img):\n",
    "    H,W,C=img.shape\n",
    "    ind=get_mask(img)\n",
    "    mask=np.zeros((H,W),dtype=np.uint8)\n",
    "    mask[ind]=255\n",
    "\n",
    "    mask=Morphology_Closing(mask,time=5)\n",
    "    mask=Morphology_Opening(mask,time=5)\n",
    "    out=masking(img,mask)\n",
    "    return out"
   ]
  },
  {
   "cell_type": "code",
   "execution_count": 34,
   "metadata": {},
   "outputs": [
    {
     "data": {
      "text/plain": [
       "True"
      ]
     },
     "execution_count": 34,
     "metadata": {},
     "output_type": "execute_result"
    }
   ],
   "source": [
    "ans2=imori.copy()\n",
    "ans2=mask_and_morphology(ans2)\n",
    "cv2.imwrite(\"ans2.jpg\",ans2)"
   ]
  },
  {
   "cell_type": "code",
   "execution_count": 35,
   "metadata": {},
   "outputs": [],
   "source": [
    "def bl_interpolate(img, ax=1., ay=1.):\n",
    "    if len(img.shape) > 2:\n",
    "        H, W, C = img.shape\n",
    "    else:\n",
    "        H, W = img.shape\n",
    "        C = 1\n",
    "\n",
    "    aH = int(ay * H)\n",
    "    aW = int(ax * W)\n",
    "\n",
    "    # get position of resized image\n",
    "    y = np.arange(aH).repeat(aW).reshape(aW, -1)\n",
    "    x = np.tile(np.arange(aW), (aH, 1))\n",
    "\n",
    "    # get position of original position\n",
    "    y = (y / ay)\n",
    "    x = (x / ax)\n",
    "\n",
    "    ix = np.floor(x).astype(np.int)\n",
    "    iy = np.floor(y).astype(np.int)\n",
    "\n",
    "    ix = np.minimum(ix, W-2)\n",
    "    iy = np.minimum(iy, H-2)\n",
    "\n",
    "    # get distance \n",
    "    dx = x - ix\n",
    "    dy = y - iy\n",
    "\n",
    "    if C > 1:\n",
    "        dx = np.repeat(np.expand_dims(dx, axis=-1), C, axis=-1)\n",
    "        dy = np.repeat(np.expand_dims(dy, axis=-1), C, axis=-1)\n",
    "\n",
    "    # interpolation\n",
    "    out = (1-dx) * (1-dy) * img[iy, ix] + dx * (1 - dy) * img[iy, ix+1] + (1 - dx) * dy * img[iy+1, ix] + dx * dy * img[iy+1, ix+1]\n",
    "\n",
    "    out = np.clip(out, 0, 255)\n",
    "    out = out.astype(np.uint8)\n",
    "\n",
    "    return out"
   ]
  },
  {
   "cell_type": "code",
   "execution_count": 36,
   "metadata": {},
   "outputs": [
    {
     "data": {
      "text/plain": [
       "True"
      ]
     },
     "execution_count": 36,
     "metadata": {},
     "output_type": "execute_result"
    }
   ],
   "source": [
    "ans3=imori.copy()\n",
    "gray=cv2.cvtColor(ans3,cv2.COLOR_BGR2GRAY).astype(np.float32)\n",
    "tmp=bl_interpolate(gray,0.5,0.5)\n",
    "output=bl_interpolate(tmp,2.,2.)\n",
    "cv2.imwrite(\"ans3.jpg\",output)"
   ]
  },
  {
   "cell_type": "code",
   "execution_count": null,
   "metadata": {},
   "outputs": [],
   "source": []
  }
 ],
 "metadata": {
  "kernelspec": {
   "display_name": "Python 3",
   "language": "python",
   "name": "python3"
  },
  "language_info": {
   "codemirror_mode": {
    "name": "ipython",
    "version": 3
   },
   "file_extension": ".py",
   "mimetype": "text/x-python",
   "name": "python",
   "nbconvert_exporter": "python",
   "pygments_lexer": "ipython3",
   "version": "3.7.6"
  }
 },
 "nbformat": 4,
 "nbformat_minor": 4
}
