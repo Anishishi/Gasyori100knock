{
 "cells": [
  {
   "cell_type": "code",
   "execution_count": 1,
   "metadata": {},
   "outputs": [],
   "source": [
    "import numpy as np\n",
    "import matplotlib.pyplot as plt\n",
    "import cv2"
   ]
  },
  {
   "cell_type": "code",
   "execution_count": 2,
   "metadata": {},
   "outputs": [],
   "source": [
    "img=cv2.imread(\"imori.jpg\")\n",
    "darkimg=cv2.imread(\"imori_dark.jpg\")"
   ]
  },
  {
   "cell_type": "code",
   "execution_count": 3,
   "metadata": {},
   "outputs": [],
   "source": [
    "def showhist(img,s):\n",
    "    out=img.copy()\n",
    "    plt.hist(out.ravel(),bins=255,range=(0,255),rwidth=0.8)\n",
    "    plt.xlabel(\"value\")\n",
    "    plt.ylabel(\"nums\")\n",
    "    plt.savefig(f'{s}.png')\n",
    "    plt.show()\n",
    "\n",
    "def write_img(img,s):\n",
    "    if cv2.imwrite(f'{s}.jpg',img):\n",
    "        print(\"ok\")\n",
    "    else:\n",
    "        print(\"error\")"
   ]
  },
  {
   "cell_type": "code",
   "execution_count": 5,
   "metadata": {},
   "outputs": [],
   "source": [
    "def hist_normalization(img,a=0,b=255):\n",
    "    c=img.min()\n",
    "    d=img.max()\n",
    "    out=img.copy()\n",
    "    out[out<c]=a\n",
    "    out[out>=d]=b\n",
    "    out[(out>=c) & (out<d)]=(b-a)/(d-c)*(out[(out>=c) & (out<d)]-c)+a\n",
    "    \n",
    "    return out.astype(np.uint8)"
   ]
  },
  {
   "cell_type": "code",
   "execution_count": 6,
   "metadata": {},
   "outputs": [
    {
     "data": {
      "image/png": "[encoded data removed]",
      "text/plain": [
       "<Figure size 432x288 with 1 Axes>"
      ]
     },
     "metadata": {
      "needs_background": "light"
     },
     "output_type": "display_data"
    }
   ],
   "source": [
    "ans1=darkimg.copy().astype(np.float)\n",
    "ans1=hist_normalization(ans1,a=0,b=255)\n",
    "cv2.imwrite(\"ans1img.jpg\",ans1)\n",
    "showhist(ans1,\"ans1gragh\")"
   ]
  },
  {
   "cell_type": "code",
   "execution_count": 7,
   "metadata": {},
   "outputs": [],
   "source": [
    "def hist_manipulation(img,m0=128,s0=52):\n",
    "    m=np.mean(img)\n",
    "    s=np.std(img)\n",
    "    \n",
    "    out=img.copy()\n",
    "    out=s0/s*(out-m)+m0\n",
    "    out[out<0]=0\n",
    "    out[out>255]=255\n",
    "    return out.astype(np.uint8)"
   ]
  },
  {
   "cell_type": "code",
   "execution_count": 8,
   "metadata": {},
   "outputs": [
    {
     "data": {
      "image/png": "[encoded data removed]",
      "text/plain": [
       "<Figure size 432x288 with 1 Axes>"
      ]
     },
     "metadata": {
      "needs_background": "light"
     },
     "output_type": "display_data"
    }
   ],
   "source": [
    "ans2=darkimg.copy()\n",
    "ans2=hist_manipulation(ans2)\n",
    "cv2.imwrite(\"ans2img.jpg\",ans2)\n",
    "showhist(ans2,\"ans2gragh\")"
   ]
  },
  {
   "cell_type": "code",
   "execution_count": 17,
   "metadata": {},
   "outputs": [],
   "source": [
    "def hist_equal(img,z_max=255):\n",
    "    H,W,C=img.shape\n",
    "    SUM=H*W*C*1.\n",
    "    \n",
    "    out=img.copy()\n",
    "    sum_h=0.\n",
    "    \n",
    "    for i in range(256):\n",
    "        ind=np.where(img==i)\n",
    "        sum_h+=len(img[ind])\n",
    "        z_changed=sum_h*z_max/SUM\n",
    "        out[ind]=z_changed\n",
    "        \n",
    "    return out.astype(np.uint8)"
   ]
  },
  {
   "cell_type": "code",
   "execution_count": 18,
   "metadata": {},
   "outputs": [
    {
     "data": {
      "image/png": "[encoded data removed]",
      "text/plain": [
       "<Figure size 432x288 with 1 Axes>"
      ]
     },
     "metadata": {
      "needs_background": "light"
     },
     "output_type": "display_data"
    }
   ],
   "source": [
    "ans3=img.copy()\n",
    "ans3=hist_equal(ans3)\n",
    "cv2.imwrite(\"ans3img.jpg\",ans3)\n",
    "showhist(ans3,\"ans3gragh\")"
   ]
  },
  {
   "cell_type": "code",
   "execution_count": 38,
   "metadata": {},
   "outputs": [],
   "source": [
    "def gamma_correction(img,c=1.,g=2.2):\n",
    "    H,W,C=img.shape\n",
    "    tmp=img.copy().astype(np.float)\n",
    "    output=np.zeros_like(img)\n",
    "    \n",
    "    output=255*(1/c*tmp/255.)**(1/g)\n",
    "    \n",
    "    return output.astype(np.uint8)"
   ]
  },
  {
   "cell_type": "code",
   "execution_count": 43,
   "metadata": {},
   "outputs": [
    {
     "data": {
      "image/png": "[encoded data removed]",
      "text/plain": [
       "<Figure size 432x288 with 1 Axes>"
      ]
     },
     "metadata": {
      "needs_background": "light"
     },
     "output_type": "display_data"
    }
   ],
   "source": [
    "imori_gamma=cv2.imread(\"imori_gamma.jpg\")\n",
    "ans4=imori_gamma.copy()\n",
    "ans4=gamma_correction(ans4,g=2.2)\n",
    "cv2.imwrite(\"ans4img.jpg\",ans4)\n",
    "showhist(ans4,\"ans4gragh\")"
   ]
  },
  {
   "cell_type": "code",
   "execution_count": 85,
   "metadata": {},
   "outputs": [],
   "source": [
    "def nn_interpolate(img,ax=1,ay=1):\n",
    "    H,W,C=img.shape\n",
    "    aH=int(ay*H)\n",
    "    aW=int(ax*W)\n",
    "    \n",
    "    #xは列を表すndarray,yは行を表すndarray\n",
    "    y=np.arange(aH).repeat(aW).reshape(aH,-1)\n",
    "    x=np.tile(np.arange(aW),(aH,1))\n",
    "    y=np.round(y/ay).astype(np.int)\n",
    "    x=np.round(x/ax).astype(np.int)\n",
    "    \n",
    "    out=img[y,x]\n",
    "    out=out.astype(np.uint8)\n",
    "            \n",
    "    return out"
   ]
  },
  {
   "cell_type": "code",
   "execution_count": 90,
   "metadata": {},
   "outputs": [
    {
     "name": "stdout",
     "output_type": "stream",
     "text": [
      "(128, 128, 3)\n",
      "(192, 192, 3)\n"
     ]
    },
    {
     "data": {
      "text/plain": [
       "True"
      ]
     },
     "execution_count": 90,
     "metadata": {},
     "output_type": "execute_result"
    }
   ],
   "source": [
    "ans5=img.copy()\n",
    "print(ans5.shape)\n",
    "ans5=nn_interpolate(ans5,1.5,1.5)\n",
    "print(ans5.shape)\n",
    "cv2.imwrite(\"ans5.jpg\",ans5)"
   ]
  },
  {
   "cell_type": "code",
   "execution_count": 83,
   "metadata": {},
   "outputs": [],
   "source": [
    "def Bi_linear(img,ax=1.,ay=1.):\n",
    "    H,W,C=img.shape\n",
    "    aH=int(H*ax)\n",
    "    aW=int(W*ay)\n",
    "    \n",
    "    y=np.arange(aH).repeat(aW).reshape(aH,-1)\n",
    "    x=np.tile(np.arange(aW),(aH,1))\n",
    "    \n",
    "    x=x/ax\n",
    "    y=y/ay\n",
    "    \n",
    "    ix=np.minimum(np.floor(x).astype(np.int),W-2)\n",
    "    iy=np.minimum(np.floor(y).astype(np.int),H-2)\n",
    "    \n",
    "    dx=x-ix\n",
    "    dy=y-iy\n",
    "    \n",
    "    dx=np.tile(dx,(C,1)).reshape(aH,aW,C)\n",
    "    dy=np.tile(dy,(C,1)).reshape(aH,aW,C)\n",
    "    \n",
    "    out=(1-dy)*(1-dx)*img[iy,ix]+dy*(1-dx)*img[iy+1,ix]+(1-dy)*dx*img[iy,ix+1]+dy*dx*img[iy+1,ix+1]\n",
    "    out=np.clip(out,0,255).astype(np.uint8)\n",
    "    \n",
    "    return out"
   ]
  },
  {
   "cell_type": "code",
   "execution_count": 135,
   "metadata": {},
   "outputs": [
    {
     "name": "stdout",
     "output_type": "stream",
     "text": [
      "ok\n"
     ]
    }
   ],
   "source": [
    "ans6=img.copy()\n",
    "ans6=Bi_linear(img,ax=1.5,ay=1.5)\n",
    "write_img(ans6,\"ans6\")"
   ]
  },
  {
   "cell_type": "code",
   "execution_count": 122,
   "metadata": {},
   "outputs": [],
   "source": [
    "def Bi_cubic(img,ax=1.,ay=1.,a=-1.):\n",
    "    H,W,C=img.shape\n",
    "    aH=int(H*ax)\n",
    "    aW=int(W*ay)\n",
    "    \n",
    "    y=np.arange(aH).repeat(aW).reshape(aH,-1)\n",
    "    x=np.tile(np.arange(aW),(aH,1))\n",
    "    \n",
    "    x=(x/ax)\n",
    "    y=(y/ay)\n",
    "    \n",
    "    ix=np.minimum(np.floor(x).astype(np.int),W-1)\n",
    "    iy=np.minimum(np.floor(y).astype(np.int),H-1)\n",
    "    \n",
    "    #d\n",
    "    dx1=x-ix+1;dx2=x-ix;dx3=x-ix-1;dx4=x-ix-2\n",
    "    dy1=y-iy+1;dy2=y-iy;dy3=y-iy-1;dy4=y-iy-2\n",
    "    \n",
    "    dxs=[dx1,dx2,dx3,dx4]\n",
    "    dys=[dy1,dy2,dy3,dy4]\n",
    "    \n",
    "    def weight(t):\n",
    "        at=np.abs(t)\n",
    "        w=np.zeros_like(t)\n",
    "        ind = np.where(at<=1)\n",
    "        w[ind] = ((a+2) * np.power(at, 3) - (a+3) * np.power(at, 2) + 1)[ind]\n",
    "        ind = np.where((at > 1) & (at <= 2))\n",
    "        w[ind] = (a*np.power(at, 3) - 5*a*np.power(at, 2) + 8*a*at - 4*a)[ind]\n",
    "        return w\n",
    "    \n",
    "    out=np.zeros((aH,aW,C),dtype=np.float32)\n",
    "    molecule=np.zeros((aH,aW,C),dtype=np.float32)\n",
    "    denominator=np.zeros((aH,aW,C),dtype=np.float32)\n",
    "    \n",
    "    tmp=img.copy().astype(np.float)\n",
    "    for i in range(-1,3):\n",
    "        for j in range(-1,3):\n",
    "            ind_x=np.minimum(np.maximum(ix+i,0),W-1)\n",
    "            ind_y=np.minimum(np.maximum(iy+j,0),H-1)\n",
    "            wx=weight(dxs[i+1])\n",
    "            wy=weight(dys[j+1])\n",
    "            wx = np.repeat(np.expand_dims(wx, axis=-1), 3, axis=-1)\n",
    "            wy = np.repeat(np.expand_dims(wy, axis=-1), 3, axis=-1)\n",
    "            \n",
    "            molecule+=wx*wy*tmp[ind_y,ind_x]\n",
    "            denominator+=wx*wy\n",
    "    \n",
    "    out=molecule/denominator\n",
    "    out=np.clip(out,0,255)\n",
    "    return out.astype(np.uint8)"
   ]
  },
  {
   "cell_type": "code",
   "execution_count": 123,
   "metadata": {},
   "outputs": [
    {
     "name": "stdout",
     "output_type": "stream",
     "text": [
      "ok\n"
     ]
    }
   ],
   "source": [
    "ans7=img.copy().astype(np.float)\n",
    "ans7=Bi_cubic(ans7,ax=1.5,ay=1.5)\n",
    "write_img(ans7,\"ans7\")"
   ]
  },
  {
   "cell_type": "code",
   "execution_count": 165,
   "metadata": {},
   "outputs": [],
   "source": [
    "def Affine_translation(img,tx=30,ty=-30):\n",
    "    H,W,C=img.shape\n",
    "    out=np.zeros_like(img)\n",
    "    \n",
    "    x=np.arange(W)\n",
    "    y=np.arange(H)\n",
    "    xout,yout=np.meshgrid(x,y)\n",
    "    \n",
    "    xin=xout-tx\n",
    "    yin=yout-ty\n",
    "    ind=np.where((xin<W) & (xin>=0) & (yin<H) & (yin>=0))\n",
    "    tmp=img.copy()\n",
    "    out[ind]=tmp[yin[ind],xin[ind]]\n",
    "    out=out.astype(np.uint8)\n",
    "    return out"
   ]
  },
  {
   "cell_type": "code",
   "execution_count": 166,
   "metadata": {},
   "outputs": [
    {
     "name": "stdout",
     "output_type": "stream",
     "text": [
      "ok\n"
     ]
    }
   ],
   "source": [
    "ans8=img.copy()\n",
    "ans8=Affine_translation(ans8)\n",
    "write_img(ans8,\"ans8\")"
   ]
  },
  {
   "cell_type": "code",
   "execution_count": 179,
   "metadata": {},
   "outputs": [],
   "source": [
    "def Affine_scaling(img,dx=1.3,dy=0.8):\n",
    "    H,W,C=img.shape\n",
    "    aH=int(H*dy)\n",
    "    aW=int(W*dx)\n",
    "    out=np.zeros((aH,aW,C))\n",
    "    \n",
    "    x=np.arange(aW)\n",
    "    y=np.arange(aH)\n",
    "    xout,yout=np.meshgrid(x,y)\n",
    "    \n",
    "    xin=dy*xout\n",
    "    yin=dx*yout\n",
    "    xin/=dx*dy\n",
    "    yin/=dx*dy\n",
    "    \n",
    "    ind=np.where((xin<W) & (xin>=0) & (yin<H) & (yin>=0))\n",
    "    tmp=img.copy()\n",
    "    out[ind]=tmp[yin[ind].astype(np.int),xin[ind].astype(np.int)]\n",
    "    out=out.astype(np.uint8)\n",
    "    \n",
    "    return out\n",
    "\n",
    "def Affine_s_t(img,dx=1.3,dy=0.8,tx=30,ty=-30):\n",
    "    H,W,C=img.shape\n",
    "    aH=int(H*dy)\n",
    "    aW=int(W*dx)\n",
    "    out=np.zeros((aH,aW,C))\n",
    "    \n",
    "    x=np.arange(aW)\n",
    "    y=np.arange(aH)\n",
    "    xout,yout=np.meshgrid(x,y)\n",
    "    \n",
    "    abcd=dx*dy\n",
    "    xin=dy*xout/abcd-tx\n",
    "    yin=dx*yout/abcd-ty\n",
    "    \n",
    "    ind=np.where((xin<W) & (xin>=0) & (yin<H) & (yin>=0))\n",
    "    tmp=img.copy()\n",
    "    out[ind]=tmp[yin[ind].astype(np.int),xin[ind].astype(np.int)]\n",
    "    out=out.astype(np.uint8)\n",
    "    \n",
    "    return out\n"
   ]
  },
  {
   "cell_type": "code",
   "execution_count": 180,
   "metadata": {},
   "outputs": [
    {
     "name": "stdout",
     "output_type": "stream",
     "text": [
      "ok\n",
      "ok\n"
     ]
    }
   ],
   "source": [
    "ans9=img.copy()\n",
    "ans9scaling=Affine_scaling(ans9)\n",
    "write_img(ans9scaling,\"ans9scaling\")\n",
    "ans9_s_t=Affine_s_t(ans9)\n",
    "write_img(ans9_s_t,\"ans9_s_t\")"
   ]
  },
  {
   "cell_type": "code",
   "execution_count": 207,
   "metadata": {},
   "outputs": [],
   "source": [
    "def Affine_rotation(img,rot=30):#反時計回りに30度\n",
    "    rot=-np.pi*rot/180.\n",
    "    H,W,C=img.shape\n",
    "    x=np.arange(W)\n",
    "    y=np.arange(H)\n",
    "    outx,outy=np.meshgrid(x,y)\n",
    "    \n",
    "    a=np.cos(rot)\n",
    "    c=np.sin(rot)\n",
    "    b=-c\n",
    "    d=a\n",
    "    ad_bc=a*d-b*c\n",
    "    xin=(d*outx-b*outy)/ad_bc\n",
    "    yin=(-c*outx+a*outy)/ad_bc\n",
    "    \n",
    "    ind=np.where((xin<W) & (xin>=0) & (yin<H) & (yin>=0))\n",
    "    out=np.zeros_like(img)\n",
    "    \n",
    "    out[ind]=img[yin[ind].astype(np.int),xin[ind].astype(np.int)]\n",
    "    out=out.astype(np.uint8)\n",
    "    return out\n",
    "\n",
    "def Affine_rot_mid(img,rot=30):\n",
    "    theta=-np.pi*rot/180.\n",
    "    H,W,C=img.shape\n",
    "    mx=int(W/2)\n",
    "    my=int(H/2)\n",
    "    x=np.arange(W)\n",
    "    y=np.arange(H)\n",
    "    xout,yout=np.meshgrid(x,y)\n",
    "    \n",
    "    a=np.cos(theta)\n",
    "    c=np.sin(theta)\n",
    "    b=-c\n",
    "    d=a\n",
    "    ad_bc=a*d-b*c\n",
    "    \n",
    "    tmpx=xout-mx\n",
    "    tmpy=yout-my\n",
    "    xin=(d*tmpx-b*tmpy)/ad_bc+mx\n",
    "    yin=(-c*tmpx+a*tmpy)/ad_bc+my\n",
    "    \n",
    "    ind=np.where((xin<W) & (xin>=0) & (yin<H) & (yin>=0))\n",
    "    out=np.zeros_like(img)\n",
    "    \n",
    "    out[ind]=img[yin[ind].astype(np.int),xin[ind].astype(np.int)]\n",
    "    out=out.astype(np.uint8)\n",
    "    return out"
   ]
  },
  {
   "cell_type": "code",
   "execution_count": 208,
   "metadata": {},
   "outputs": [
    {
     "name": "stdout",
     "output_type": "stream",
     "text": [
      "ok\n",
      "ok\n"
     ]
    }
   ],
   "source": [
    "ans10=img.copy()\n",
    "ans10rot1=Affine_rotation(ans10)\n",
    "write_img(ans10rot1,\"ans10rot1\")\n",
    "ans10rot2=Affine_rot_mid(ans10)\n",
    "write_img(ans10rot2,\"ans10rot2\")"
   ]
  }
 ],
 "metadata": {
  "kernelspec": {
   "display_name": "Python 3",
   "language": "python",
   "name": "python3"
  },
  "language_info": {
   "codemirror_mode": {
    "name": "ipython",
    "version": 3
   },
   "file_extension": ".py",
   "mimetype": "text/x-python",
   "name": "python",
   "nbconvert_exporter": "python",
   "pygments_lexer": "ipython3",
   "version": "3.7.6"
  }
 },
 "nbformat": 4,
 "nbformat_minor": 2
}
