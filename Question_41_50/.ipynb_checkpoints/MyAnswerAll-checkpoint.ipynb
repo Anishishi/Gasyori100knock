{
 "cells": [
  {
   "cell_type": "code",
   "execution_count": 1,
   "metadata": {},
   "outputs": [],
   "source": [
    "import numpy as np\n",
    "import cv2"
   ]
  },
  {
   "cell_type": "code",
   "execution_count": 2,
   "metadata": {},
   "outputs": [],
   "source": [
    "img=cv2.imread(\"imori.jpg\").astype(np.float32)"
   ]
  },
  {
   "cell_type": "code",
   "execution_count": 3,
   "metadata": {},
   "outputs": [],
   "source": [
    "def BGR2GRAY(img):\n",
    "    b=img[:,:,0].copy()\n",
    "    g=img[:,:,1].copy()\n",
    "    r=img[:,:,2].copy()\n",
    "\n",
    "    out=0.2126*r+0.7152*g+0.0722*b\n",
    "    out=out.astype(np.uint8)\n",
    "\n",
    "    return out\n",
    "\n",
    "def gaussian_filter(img,K_size=3,sigma=1.3):\n",
    "    if len(img.shape)==3:\n",
    "        H,W,C=img.shape\n",
    "        gray=False\n",
    "    else:\n",
    "        img=np.expand_dims(img,axis=-1)\n",
    "        H,W,C=img.shape\n",
    "        gray=True\n",
    "\n",
    "    # Zero padding\n",
    "    pad=K_size//2\n",
    "    out=np.zeros([H+pad*2,W+pad*2,C],dtype=np.float)\n",
    "    out[pad:pad+H,pad:pad+W]=img.copy().astype(np.float)\n",
    "\n",
    "    K=np.zeros((K_size,K_size),dtype=np.float)\n",
    "    for x in range(-pad,-pad+K_size):\n",
    "        for y in range(-pad,-pad+K_size):\n",
    "            K[y+pad,x+pad]=np.exp(-(x**2+y**2)/(2*(sigma**2)))\n",
    "    K/=(2*np.pi*sigma*sigma)\n",
    "    K/=K.sum()\n",
    "\n",
    "    tmp=out.copy()\n",
    "\n",
    "    # filtering\n",
    "    for y in range(H):\n",
    "        for x in range(W):\n",
    "            for c in range(C):\n",
    "                out[pad+y,pad+x,c]=np.sum(K*tmp[y:y+K_size,x:x+K_size,c])\n",
    "\n",
    "\n",
    "    out=np.clip(out,0,255)\n",
    "    out=out[pad:pad+H,pad:pad+W].astype(np.uint8)\n",
    "\n",
    "    if gray:\n",
    "        out=out[...,0]\n",
    "\n",
    "    return out\n",
    "\n",
    "# soble filter\n",
    "def sobel_filter(img,K_size=3):\n",
    "    if len(img.shape)==3:\n",
    "        H,W,C=img.shape\n",
    "    else:\n",
    "        H,W=img.shape\n",
    "\n",
    "    pad=K_size//2\n",
    "    out=np.zeros((H+pad*2,W+pad*2),dtype=np.float)\n",
    "    out[pad:pad+H,pad:pad+W]=img.copy().astype(np.float)\n",
    "    tmp=out.copy()\n",
    "\n",
    "    out_v=out.copy()\n",
    "    out_h=out.copy()\n",
    "\n",
    "    # sobel vertical\n",
    "    kv=[[1.,2.,1.],[0.,0.,0.],[-1.,-2.,-1.]]\n",
    "    # sobel horizontal\n",
    "    kh=[[1.,0.,-1.],[2.,0.,-2.],[1.,0.,-1.]]\n",
    "\n",
    "    # filtering\n",
    "    for y in range(H):\n",
    "        for x in range(W):\n",
    "            out_v[pad+y,pad+x]=np.sum(kv*(tmp[y:y+K_size,x:x+K_size]))\n",
    "            out_h[pad+y,pad+x]=np.sum(kh*(tmp[y:y+K_size,x:x+K_size]))\n",
    "\n",
    "    out_v=np.clip(out_v,0,255)\n",
    "    out_h=np.clip(out_h,0,255)\n",
    "\n",
    "    out_v=out_v[pad:pad+H,pad:pad+W].astype(np.uint8)\n",
    "    out_h=out_h[pad:pad+H,pad:pad+W].astype(np.uint8)\n",
    "\n",
    "    return out_v,out_h\n",
    "\n",
    "def get_edge_angle(fx,fy):\n",
    "    edge=np.sqrt(np.power(fx.astype(np.float32),2)+np.power(fy.astype(np.float32),2))\n",
    "    edge=np.clip(edge,0,255)\n",
    "    fx=np.maximum(fx,1e-5)\n",
    "\n",
    "    angle=np.arctan(fy/fx)\n",
    "\n",
    "    return edge,angle\n",
    "\n",
    "def angle_quantization(angle):\n",
    "    angle=angle/np.pi*180\n",
    "    angle[angle<-22.5]=180+angle[angle<-22.5]\n",
    "    _angle=np.zeros_like(angle,dtype=np.uint8)\n",
    "    _angle[np.where(angle<=22.5)]=0\n",
    "    _angle[np.where((angle>22.5) & (angle<=67.5))]=45\n",
    "    _angle[np.where((angle>67.5) & (angle<=112.5))]=90\n",
    "    _angle[np.where((angle>112.5) & (angle<=157.5))]=135\n",
    "\n",
    "    return _angle"
   ]
  },
  {
   "cell_type": "code",
   "execution_count": 4,
   "metadata": {},
   "outputs": [],
   "source": [
    "def Canny_step1(img):\n",
    "    \n",
    "    gray=BGR2GRAY(img)\n",
    "    gaussian=gaussian_filter(gray,K_size=5,sigma=1.4)\n",
    "    fy,fx=sobel_filter(gaussian,K_size=3)\n",
    "    edge,angle=get_edge_angle(fx,fy)\n",
    "    angle=angle_quantization(angle)\n",
    "    \n",
    "    return edge,angle"
   ]
  },
  {
   "cell_type": "code",
   "execution_count": 5,
   "metadata": {},
   "outputs": [
    {
     "name": "stdout",
     "output_type": "stream",
     "text": [
      "True\n",
      "True\n"
     ]
    }
   ],
   "source": [
    "ans1=img.copy()\n",
    "edge,angle=Canny_step1(ans1)\n",
    "\n",
    "edge=edge.astype(np.uint8)\n",
    "angle=angle.astype(np.uint8)\n",
    "\n",
    "print(cv2.imwrite(\"ans1edge.jpg\",edge))\n",
    "print(cv2.imwrite(\"ans1angle.jpg\",angle))"
   ]
  },
  {
   "cell_type": "code",
   "execution_count": 6,
   "metadata": {},
   "outputs": [],
   "source": [
    "def non_maximum_suppression(angle,edge):\n",
    "    H,W=angle.shape\n",
    "    _edge=edge.copy()\n",
    "    \n",
    "    for y in range(H):\n",
    "        for x in range(W):\n",
    "            if angle[y,x]==0:\n",
    "                delta=[-1,0,1,0] # dx1,dy1,dx2,dy2\n",
    "            elif angle[y,x]==45:\n",
    "                delta=[-1,1,1,-1]\n",
    "            elif angle[y,x]==90:\n",
    "                delta=[0,-1,0,1]\n",
    "            elif angle[y,x]==135:\n",
    "                delta=[-1,-1,1,1]\n",
    "            \n",
    "            if x==0:\n",
    "                delta[0]=max(delta[0],0)\n",
    "                delta[2]=max(delta[2],0)\n",
    "            if x==W-1:\n",
    "                delta[0]=min(delta[0],0)\n",
    "                delta[2]=min(delta[2],0)\n",
    "            if y==0:\n",
    "                delta[1]=max(delta[1],0)\n",
    "                delta[3]=max(delta[3],0)\n",
    "            if y==H-1:\n",
    "                delta[1]=min(delta[1],0)\n",
    "                delta[3]=min(delta[3],0)\n",
    "            if max(max(edge[y,x],edge[y+delta[1],x+delta[0]]),edge[y+delta[3],x+delta[2]])!=edge[y,x]:\n",
    "                _edge[y,x]=0\n",
    "    \n",
    "    return _edge"
   ]
  },
  {
   "cell_type": "code",
   "execution_count": 7,
   "metadata": {},
   "outputs": [
    {
     "name": "stdout",
     "output_type": "stream",
     "text": [
      "True\n"
     ]
    }
   ],
   "source": [
    "ans2=img.copy().astype(np.float32)\n",
    "edge2,angle2=Canny_step1(ans2)\n",
    "_edge=non_maximum_suppression(angle2,edge2).astype(np.uint8)\n",
    "_edge=np.clip(_edge,0,255)\n",
    "print(cv2.imwrite(\"ans2edge.jpg\",_edge))"
   ]
  },
  {
   "cell_type": "code",
   "execution_count": 8,
   "metadata": {},
   "outputs": [],
   "source": [
    "def hysterisis(edge,HT=100,LT=30):\n",
    "    H,W=edge.shape\n",
    "    \n",
    "    edge[edge>=HT]=255\n",
    "    edge[edge<=LT]=0\n",
    "    \n",
    "    _edge=np.zeros((H+2,W+2),dtype=np.float32)\n",
    "    _edge[1:H+1,1:W+1]=edge\n",
    "    \n",
    "    nn=np.array(((1.,1.,1.),(1.,0.,1.),(1.,1.,1.)),dtype=np.float32)\n",
    "    \n",
    "    for y in range(1,H+2):\n",
    "        for x in range(1,W+2):\n",
    "            if _edge[y,x]<LT or _edge[y,x]>HT:\n",
    "                continue\n",
    "            if np.max(_edge[y-1:y+2,x-1:x+2]*nn) >= HT:\n",
    "                _edge[y,x]=255\n",
    "            else:\n",
    "                _edge[y,x]=0\n",
    "    \n",
    "    edge=_edge[1:H+1,1:W+1]\n",
    "    \n",
    "    return edge\n",
    "\n",
    "def Canny(img):\n",
    "    edge,angle=Canny_step1(img)\n",
    "    edge=non_maximum_suppression(angle,edge)\n",
    "    \n",
    "    out=hysterisis(edge,50,20)\n",
    "    \n",
    "    return out"
   ]
  },
  {
   "cell_type": "code",
   "execution_count": 14,
   "metadata": {},
   "outputs": [
    {
     "name": "stdout",
     "output_type": "stream",
     "text": [
      "True\n"
     ]
    }
   ],
   "source": [
    "ans3=img.copy().astype(np.float32)\n",
    "ans3=Canny(ans3).astype(np.uint8)\n",
    "print(cv2.imwrite(\"ans3.jpg\",ans3))"
   ]
  },
  {
   "cell_type": "code",
   "execution_count": 15,
   "metadata": {},
   "outputs": [],
   "source": [
    "def voting(edge):\n",
    "    H,W=edge.shape\n",
    "    drho=1\n",
    "    dtheta=1\n",
    "\n",
    "    # get rho max length\n",
    "    rho_max=np.ceil(np.sqrt(H**2+W**2)).astype(np.int)\n",
    "\n",
    "    # hough table\n",
    "    hough=np.zeros((rho_max*2,180),dtype=np.int)\n",
    "    \n",
    "    # get index of edge\n",
    "    ind=np.where(edge==255)\n",
    "    \n",
    "    # hough transformation\n",
    "    for y,x in zip(ind[0],ind[1]):\n",
    "        for theta in range(0,180,dtheta):\n",
    "            t=np.pi/180*theta\n",
    "            rho=int(x*np.cos(t)+y*np.sin(t))\n",
    "            \n",
    "            # vote\n",
    "            hough[rho+rho_max,theta]+=1\n",
    "            \n",
    "    out=hough.astype(np.uint8)\n",
    "    \n",
    "    return out\n",
    "\n",
    "def Hough_Line_step1(edge):\n",
    "    return voting(edge)"
   ]
  },
  {
   "cell_type": "code",
   "execution_count": 16,
   "metadata": {},
   "outputs": [
    {
     "data": {
      "text/plain": [
       "True"
      ]
     },
     "execution_count": 16,
     "metadata": {},
     "output_type": "execute_result"
    }
   ],
   "source": [
    "thorino_img=cv2.imread(\"./thorino.jpg\").astype(np.float32)\n",
    "edge_thorino=Canny(thorino_img)\n",
    "ans4=Hough_Line_step1(edge_thorino).astype(np.uint8)\n",
    "cv2.imwrite(\"ans4.jpg\",ans4)"
   ]
  },
  {
   "cell_type": "code",
   "execution_count": 30,
   "metadata": {},
   "outputs": [],
   "source": [
    "def non_maximum_suppression_for_hough(hough):\n",
    "    rho_max,_=hough.shape\n",
    "    \n",
    "    for y in range(rho_max):\n",
    "        for x in range(180):\n",
    "            x1=max(x-1,0)\n",
    "            x2=min(x+2,180)\n",
    "            y1=max(y-1,0)\n",
    "            y2=min(y+2,rho_max)\n",
    "            if np.max(hough[y1:y2,x1:x2])==hough[y,x] and hough[y,x]!=0:\n",
    "                pass\n",
    "            else:\n",
    "                hough[y,x]=0\n",
    "                \n",
    "    # for hough visualization, get top-10 x index of hough table\n",
    "    ind_x=np.argsort(hough.ravel())[::-1][:20]\n",
    "    # get y index\n",
    "    ind_y=ind_x.copy()\n",
    "    thetas=ind_x%180\n",
    "    rhos=ind_y//180\n",
    "    _hough=np.zeros_like(hough,dtype=np.int)\n",
    "    _hough[rhos,thetas]=255\n",
    "    \n",
    "    return _hough"
   ]
  },
  {
   "cell_type": "code",
   "execution_count": 31,
   "metadata": {},
   "outputs": [
    {
     "data": {
      "text/plain": [
       "True"
      ]
     },
     "execution_count": 31,
     "metadata": {},
     "output_type": "execute_result"
    }
   ],
   "source": [
    "ans5=non_maximum_suppression_for_hough(ans4.copy())\n",
    "cv2.imwrite(\"ans5.jpg\",ans5.astype(np.uint8))"
   ]
  },
  {
   "cell_type": "code",
   "execution_count": 46,
   "metadata": {},
   "outputs": [],
   "source": [
    "def non_maxium_suppression_for_inversehough(hough):\n",
    "    rho_max,_=hough.shape\n",
    "\n",
    "    for y in range(rho_max):\n",
    "        for x in range(180):\n",
    "            x1=max(x-1,0)\n",
    "            x2=min(x+2,180)\n",
    "            y1=max(y-1,0)\n",
    "            y2=min(y+2,rho_max)\n",
    "            if np.max(hough[y1:y2,x1:x2])==hough[y,x] and hough[y,x]!=0:\n",
    "                pass\n",
    "            else:\n",
    "                hough[y,x]=0\n",
    "    return hough\n",
    "\n",
    "def inverse_hough(hough,img):                    \n",
    "    H,W,_=img.shape\n",
    "    rho_max,_=hough.shape\n",
    "    \n",
    "    out=img.copy()\n",
    "    \n",
    "    # for hough visualization, get top-10 x index of hough table\n",
    "    ind_x=np.argsort(hough.ravel())[::-1][:20]\n",
    "    # get y index\n",
    "    ind_y=ind_x.copy()\n",
    "    thetas=ind_x%180\n",
    "    rhos=ind_y//180-rho_max/2\n",
    "    \n",
    "    # each theta and rho\n",
    "    for theta,rho in zip(thetas,rhos):\n",
    "        t=np.pi/180.*theta\n",
    "        \n",
    "        # hough -> (x,y)\n",
    "        for x in range(W):\n",
    "            if np.sin(t)!=0:\n",
    "                y=-(np.cos(t)/np.sin(t)*x+(rho)/np.sin(t))\n",
    "                y=int(y)\n",
    "                if y>=H or y<0:\n",
    "                    continue\n",
    "                out[y,x]=[0,0,255]\n",
    "        for y in range(H):\n",
    "            if np.cos(t)!=0:\n",
    "                x=-(np.sin(t)/np.cos(t))*y+(rho)/np.cos(t)\n",
    "                x=int(x)\n",
    "                if x>=W or x<0:\n",
    "                    continue\n",
    "                out[y,x]=[0,0,255]\n",
    "    \n",
    "    out=out.astype(np.uint8)\n",
    "    return out\n",
    "                \n",
    "def Hough_Line(img,hough):\n",
    "    suppressed=non_maxium_suppression_for_inversehough(hough)\n",
    "    return inverse_hough(suppressed,img)"
   ]
  },
  {
   "cell_type": "code",
   "execution_count": 47,
   "metadata": {},
   "outputs": [
    {
     "data": {
      "text/plain": [
       "True"
      ]
     },
     "execution_count": 47,
     "metadata": {},
     "output_type": "execute_result"
    }
   ],
   "source": [
    "ans6=Hough_Line(thorino_img,ans4.copy()).astype(np.uint8)\n",
    "cv2.imwrite(\"ans6.jpg\",ans6)"
   ]
  },
  {
   "cell_type": "code",
   "execution_count": 57,
   "metadata": {},
   "outputs": [],
   "source": [
    "def otsu_binarization(img, th=128):\n",
    "    H, W = img.shape\n",
    "    out = img.copy()\n",
    "\n",
    "    max_sigma = 0\n",
    "    max_t = 0\n",
    "\n",
    "    # determine threshold\n",
    "    for _t in range(1, 255):\n",
    "        v0 = out[np.where(out < _t)]\n",
    "        m0 = np.mean(v0) if len(v0) > 0 else 0.\n",
    "        w0 = len(v0) / (H * W)\n",
    "        v1 = out[np.where(out >= _t)]\n",
    "        m1 = np.mean(v1) if len(v1) > 0 else 0.\n",
    "        w1 = len(v1) / (H * W)\n",
    "        sigma = w0 * w1 * ((m0 - m1) ** 2)\n",
    "        if sigma > max_sigma:\n",
    "            max_sigma = sigma\n",
    "            max_t = _t\n",
    "\n",
    "    # Binarization\n",
    "    print(\"threshold >>\", max_t)\n",
    "    th = max_t\n",
    "    out[out < th] = 0\n",
    "    out[out >= th] = 255\n",
    "\n",
    "    return out\n",
    "\n",
    "def MorphologyDilate(gray_img,Dil_time=1):\n",
    "    H,W=gray_img.shape\n",
    "    output=np.zeros((H+2,W+2),dtype=np.uint8)\n",
    "    tmp=output.copy()\n",
    "    tmp[1:1+H,1:1+W]=gray_img\n",
    "    \n",
    "    K=[[0,1,0],[1,0,1],[0,1,0]]\n",
    "    for y in range(H):\n",
    "        for x in range(W):\n",
    "            if tmp[y+1,x+1]==255:\n",
    "                output[y+1,x+1]=255\n",
    "            elif np.sum((tmp[y:y+3,x:x+3]*K).ravel())>=255:\n",
    "                output[y+1,x+1]=255\n",
    "                \n",
    "    Dil_time-=1\n",
    "    if Dil_time == 0:\n",
    "        return output[1:1+H,1:1+W]\n",
    "    else:\n",
    "        return MorphologyDilate(output[1:1+H,1:1+W],Dil_time)"
   ]
  },
  {
   "cell_type": "code",
   "execution_count": 58,
   "metadata": {},
   "outputs": [
    {
     "name": "stdout",
     "output_type": "stream",
     "text": [
      "threshold >> 127\n"
     ]
    },
    {
     "data": {
      "text/plain": [
       "True"
      ]
     },
     "execution_count": 58,
     "metadata": {},
     "output_type": "execute_result"
    }
   ],
   "source": [
    "ans7=img.copy().astype(np.float32)\n",
    "ans7=otsu_binarization(BGR2GRAY(ans7))\n",
    "ans7=MorphologyDilate(ans7,Dil_time=2)\n",
    "cv2.imwrite(\"ans7.jpg\",ans7)"
   ]
  },
  {
   "cell_type": "code",
   "execution_count": 80,
   "metadata": {},
   "outputs": [],
   "source": [
    "def MorphologyErosion(gray_img,Ero_time=1):\n",
    "    H,W=gray_img.shape\n",
    "    gray_img=np.pad(gray_img,(1,1),'edge')\n",
    "    output=np.zeros_like(gray_img,dtype=np.uint8)\n",
    "    \n",
    "    K=np.array(((0,1,0),(1,0,1),(0,1,0)),dtype=np.int)\n",
    "    for y in range(H):\n",
    "        for x in range(W):\n",
    "            if gray_img[y+1,x+1]==255:\n",
    "                if np.sum((gray_img[y:y+3,x:x+3]*K).ravel())>=(255*4):\n",
    "                    output[y+1,x+1]=255\n",
    "    \n",
    "    Ero_time-=1\n",
    "    if Ero_time==0:\n",
    "        return output[1:1+H,1:1+W]\n",
    "    else:\n",
    "        return MorphologyErosion(output[1:1+H,1:1+W],Ero_time)"
   ]
  },
  {
   "cell_type": "code",
   "execution_count": 82,
   "metadata": {},
   "outputs": [
    {
     "name": "stdout",
     "output_type": "stream",
     "text": [
      "threshold >> 127\n"
     ]
    },
    {
     "data": {
      "text/plain": [
       "True"
      ]
     },
     "execution_count": 82,
     "metadata": {},
     "output_type": "execute_result"
    }
   ],
   "source": [
    "ans8=img.copy().astype(np.float32)\n",
    "ans8=otsu_binarization(BGR2GRAY(ans8))\n",
    "ans8=MorphologyErosion(ans8,Ero_time=2)\n",
    "cv2.imwrite(\"ans8.jpg\",ans8)"
   ]
  },
  {
   "cell_type": "code",
   "execution_count": 83,
   "metadata": {},
   "outputs": [],
   "source": [
    "def Morphology_Opening(gray_img,times=1):\n",
    "    tmp=MorphologyErosion(gray_img,times)\n",
    "    output=MorphologyDilate(tmp,times)\n",
    "    \n",
    "    return output"
   ]
  },
  {
   "cell_type": "code",
   "execution_count": 84,
   "metadata": {},
   "outputs": [
    {
     "name": "stdout",
     "output_type": "stream",
     "text": [
      "threshold >> 127\n"
     ]
    },
    {
     "data": {
      "text/plain": [
       "True"
      ]
     },
     "execution_count": 84,
     "metadata": {},
     "output_type": "execute_result"
    }
   ],
   "source": [
    "ans9=img.copy().astype(np.float32)\n",
    "ans9=otsu_binarization(BGR2GRAY(ans9))\n",
    "ans9=Morphology_Opening(ans9,times=1)\n",
    "cv2.imwrite(\"ans9.jpg\",ans9)"
   ]
  },
  {
   "cell_type": "code",
   "execution_count": 85,
   "metadata": {},
   "outputs": [],
   "source": [
    "def Morphology_Closing(gray_img,times=1):\n",
    "    tmp=MorphologyDilate(gray_img,times)\n",
    "    output=MorphologyErosion(tmp,times)\n",
    "    \n",
    "    return output"
   ]
  },
  {
   "cell_type": "code",
   "execution_count": 86,
   "metadata": {},
   "outputs": [
    {
     "data": {
      "text/plain": [
       "True"
      ]
     },
     "execution_count": 86,
     "metadata": {},
     "output_type": "execute_result"
    }
   ],
   "source": [
    "ans10=img.copy().astype(np.float32)\n",
    "ans10=Canny(ans10).astype(np.uint8)\n",
    "ans10=Morphology_Closing(ans10)\n",
    "cv2.imwrite(\"ans10.jpg\",ans10)"
   ]
  }
 ],
 "metadata": {
  "kernelspec": {
   "display_name": "Python 3",
   "language": "python",
   "name": "python3"
  },
  "language_info": {
   "codemirror_mode": {
    "name": "ipython",
    "version": 3
   },
   "file_extension": ".py",
   "mimetype": "text/x-python",
   "name": "python",
   "nbconvert_exporter": "python",
   "pygments_lexer": "ipython3",
   "version": "3.6.9"
  }
 },
 "nbformat": 4,
 "nbformat_minor": 2
}
