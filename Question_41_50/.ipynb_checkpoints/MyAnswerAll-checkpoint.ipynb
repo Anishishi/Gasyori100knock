{
 "cells": [
  {
   "cell_type": "code",
   "execution_count": 1,
   "metadata": {},
   "outputs": [],
   "source": [
    "import numpy as np\n",
    "import cv2"
   ]
  },
  {
   "cell_type": "code",
   "execution_count": 2,
   "metadata": {},
   "outputs": [],
   "source": [
    "img=cv2.imread(\"imori.jpg\").astype(np.float32)"
   ]
  },
  {
   "cell_type": "code",
   "execution_count": 25,
   "metadata": {},
   "outputs": [],
   "source": [
    "def BGR2GRAY(img):\n",
    "    b=img[:,:,0].copy()\n",
    "    g=img[:,:,1].copy()\n",
    "    r=img[:,:,2].copy()\n",
    "\n",
    "    out=0.2126*r+0.7152*g+0.0722*b\n",
    "    out=out.astype(np.uint8)\n",
    "\n",
    "    return out\n",
    "\n",
    "def gaussian_filter(img,K_size=3,sigma=1.3):\n",
    "    if len(img.shape)==3:\n",
    "        H,W,C=img.shape\n",
    "        gray=False\n",
    "    else:\n",
    "        img=np.expand_dims(img,axis=-1)\n",
    "        H,W,C=img.shape\n",
    "        gray=True\n",
    "\n",
    "    # Zero padding\n",
    "    pad=K_size//2\n",
    "    out=np.zeros([H+pad*2,W+pad*2,C],dtype=np.float)\n",
    "    out[pad:pad+H,pad:pad+W]=img.copy().astype(np.float)\n",
    "\n",
    "    K=np.zeros((K_size,K_size),dtype=np.float)\n",
    "    for x in range(-pad,-pad+K_size):\n",
    "        for y in range(-pad,-pad+K_size):\n",
    "            K[y+pad,x+pad]=np.exp(-(x**2+y**2)/(2*(sigma**2)))\n",
    "    K/=(2*np.pi*sigma*sigma)\n",
    "    K/=K.sum()\n",
    "\n",
    "    tmp=out.copy()\n",
    "\n",
    "    # filtering\n",
    "    for y in range(H):\n",
    "        for x in range(W):\n",
    "            for c in range(C):\n",
    "                out[pad+y,pad+x,c]=np.sum(K*tmp[y:y+K_size,x:x+K_size,c])\n",
    "\n",
    "\n",
    "    out=np.clip(out,0,255)\n",
    "    out=out[pad:pad+H,pad:pad+W].astype(np.uint8)\n",
    "\n",
    "    if gray:\n",
    "        out=out[...,0]\n",
    "\n",
    "    return out\n",
    "\n",
    "# soble filter\n",
    "def sobel_filter(img,K_size=3):\n",
    "    if len(img.shape)==3:\n",
    "        H,W,C=img.shape\n",
    "    else:\n",
    "        H,W=img.shape\n",
    "\n",
    "    pad=K_size//2\n",
    "    out=np.zeros((H+pad*2,W+pad*2),dtype=np.float)\n",
    "    out[pad:pad+H,pad:pad+W]=img.copy().astype(np.float)\n",
    "    tmp=out.copy()\n",
    "\n",
    "    out_v=out.copy()\n",
    "    out_h=out.copy()\n",
    "\n",
    "    # sobel vertical\n",
    "    kv=[[1.,2.,1.],[0.,0.,0.],[-1.,-2.,-1.]]\n",
    "    # sobel horizontal\n",
    "    kh=[[1.,0.,-1.],[2.,0.,-2.],[1.,0.,-1.]]\n",
    "\n",
    "    # filtering\n",
    "    for y in range(H):\n",
    "        for x in range(W):\n",
    "            out_v[pad+y,pad+x]=np.sum(kv*(tmp[y:y+K_size,x:x+K_size]))\n",
    "            out_h[pad+y,pad+x]=np.sum(kh*(tmp[y:y+K_size,x:x+K_size]))\n",
    "\n",
    "    out_v=np.clip(out_v,0,255)\n",
    "    out_h=np.clip(out_h,0,255)\n",
    "\n",
    "    out_v=out_v[pad:pad+H,pad:pad+W].astype(np.uint8)\n",
    "    out_h=out_h[pad:pad+H,pad:pad+W].astype(np.uint8)\n",
    "\n",
    "    return out_v,out_h\n",
    "\n",
    "def get_edge_angle(fx,fy):\n",
    "    edge=np.sqrt(np.power(fx.astype(np.float32),2)+np.power(fy.astype(np.float32),2))\n",
    "    edge=np.clip(edge,0,255)\n",
    "    fx=np.maximum(fx,1e-5)\n",
    "\n",
    "    angle=np.arctan(fy/fx)\n",
    "\n",
    "    return edge,angle\n",
    "\n",
    "def angle_quantization(angle):\n",
    "    angle=angle/np.pi*180\n",
    "    angle[angle<-22.5]=180+angle[angle<-22.5]\n",
    "    _angle=np.zeros_like(angle,dtype=np.uint8)\n",
    "    _angle[np.where(angle<=22.5)]=0\n",
    "    _angle[np.where((angle>22.5) & (angle<=67.5))]=45\n",
    "    _angle[np.where((angle>67.5) & (angle<=112.5))]=90\n",
    "    _angle[np.where((angle>112.5) & (angle<=157.5))]=135\n",
    "\n",
    "    return _angle"
   ]
  },
  {
   "cell_type": "code",
   "execution_count": 26,
   "metadata": {},
   "outputs": [],
   "source": [
    "def Canny_step1(img):\n",
    "    \n",
    "    gray=BGR2GRAY(img)\n",
    "    gaussian=gaussian_filter(gray,K_size=5,sigma=1.4)\n",
    "    fy,fx=sobel_filter(gaussian,K_size=3)\n",
    "    edge,angle=get_edge_angle(fx,fy)\n",
    "    angle=angle_quantization(angle)\n",
    "    \n",
    "    return edge,angle"
   ]
  },
  {
   "cell_type": "code",
   "execution_count": 27,
   "metadata": {},
   "outputs": [
    {
     "name": "stdout",
     "output_type": "stream",
     "text": [
      "True\n",
      "True\n"
     ]
    }
   ],
   "source": [
    "ans1=img.copy()\n",
    "edge,angle=Canny_step1(ans1)\n",
    "\n",
    "edge=edge.astype(np.uint8)\n",
    "angle=angle.astype(np.uint8)\n",
    "\n",
    "print(cv2.imwrite(\"ans1edge.jpg\",edge))\n",
    "print(cv2.imwrite(\"ans1angle.jpg\",angle))"
   ]
  },
  {
   "cell_type": "code",
   "execution_count": 28,
   "metadata": {},
   "outputs": [],
   "source": [
    "def non_maximum_suppression(angle,edge):\n",
    "    H,W=angle.shape\n",
    "    _edge=edge.copy()\n",
    "    \n",
    "    for y in range(H):\n",
    "        for x in range(W):\n",
    "            if angle[y,x]==0:\n",
    "                delta=[-1,0,1,0] # dx1,dy1,dx2,dy2\n",
    "            elif angle[y,x]==45:\n",
    "                delta=[-1,1,1,-1]\n",
    "            elif angle[y,x]==90:\n",
    "                delta=[0,-1,0,1]\n",
    "            elif angle[y,x]==135:\n",
    "                delta=[-1,-1,1,1]\n",
    "            \n",
    "            if x==0:\n",
    "                delta[0]=max(delta[0],0)\n",
    "                delta[2]=max(delta[2],0)\n",
    "            if x==W-1:\n",
    "                delta[0]=min(delta[0],0)\n",
    "                delta[2]=min(delta[2],0)\n",
    "            if y==0:\n",
    "                delta[1]=max(delta[1],0)\n",
    "                delta[3]=max(delta[3],0)\n",
    "            if y==H-1:\n",
    "                delta[1]=min(delta[1],0)\n",
    "                delta[3]=min(delta[3],0)\n",
    "            if max(max(edge[y,x],edge[y+delta[1],x+delta[0]]),edge[y+delta[3],x+delta[2]])!=edge[y,x]:\n",
    "                _edge[y,x]=0\n",
    "    \n",
    "    return _edge"
   ]
  },
  {
   "cell_type": "code",
   "execution_count": 29,
   "metadata": {},
   "outputs": [
    {
     "name": "stdout",
     "output_type": "stream",
     "text": [
      "True\n"
     ]
    }
   ],
   "source": [
    "ans2=img.copy().astype(np.float32)\n",
    "edge2,angle2=Canny_step1(ans2)\n",
    "_edge=non_maximum_suppression(angle2,edge2).astype(np.uint8)\n",
    "_edge=np.clip(_edge,0,255)\n",
    "print(cv2.imwrite(\"ans2edge.jpg\",_edge))"
   ]
  },
  {
   "cell_type": "code",
   "execution_count": 30,
   "metadata": {},
   "outputs": [],
   "source": [
    "def hysterisis(edge,HT=100,LT=30):\n",
    "    H,W=edge.shape\n",
    "    \n",
    "    edge[edge>=HT]=255\n",
    "    edge[edge<=LT]=0\n",
    "    \n",
    "    _edge=np.zeros((H+2,W+2),dtype=np.float32)\n",
    "    _edge[1:H+1,1:W+1]=edge\n",
    "    \n",
    "    nn=np.array(((1.,1.,1.),(1.,0.,1.),(1.,1.,1.)),dtype=np.float32)\n",
    "    \n",
    "    for y in range(1,H+2):\n",
    "        for x in range(1,W+2):\n",
    "            if _edge[y,x]<LT or _edge[y,x]>HT:\n",
    "                continue\n",
    "            if np.max(_edge[y-1:y+2,x-1:x+2]*nn) >= HT:\n",
    "                _edge[y,x]=255\n",
    "            else:\n",
    "                _edge[y,x]=0\n",
    "    \n",
    "    edge=_edge[1:H+1,1:W+1]\n",
    "    \n",
    "    return edge\n",
    "\n",
    "def Canny(img):\n",
    "    edge,angle=Canny_step1(img)\n",
    "    edge=non_maximum_suppression(angle,edge)\n",
    "    \n",
    "    out=hysterisis(edge,50,20)\n",
    "    \n",
    "    return out"
   ]
  },
  {
   "cell_type": "code",
   "execution_count": 31,
   "metadata": {},
   "outputs": [
    {
     "name": "stdout",
     "output_type": "stream",
     "text": [
      "True\n"
     ]
    }
   ],
   "source": [
    "ans3=img.copy().astype(np.float32)\n",
    "ans3=Canny(ans3).astype(np.uint8)\n",
    "print(cv2.imwrite(\"ans3.jpg\",ans3))"
   ]
  },
  {
   "cell_type": "code",
   "execution_count": null,
   "metadata": {},
   "outputs": [],
   "source": []
  }
 ],
 "metadata": {
  "kernelspec": {
   "display_name": "Python 3",
   "language": "python",
   "name": "python3"
  },
  "language_info": {
   "codemirror_mode": {
    "name": "ipython",
    "version": 3
   },
   "file_extension": ".py",
   "mimetype": "text/x-python",
   "name": "python",
   "nbconvert_exporter": "python",
   "pygments_lexer": "ipython3",
   "version": "3.6.9"
  }
 },
 "nbformat": 4,
 "nbformat_minor": 2
}
